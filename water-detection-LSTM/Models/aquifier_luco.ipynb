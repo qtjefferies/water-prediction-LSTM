{
 "cells": [
  {
   "cell_type": "code",
   "execution_count": 12,
   "metadata": {},
   "outputs": [],
   "source": [
    "import pandas as pd\n",
    "from datetime import datetime\n",
    "from sklearn.preprocessing import MinMaxScaler\n",
    "from tensorflow.keras.optimizers import Adam\n",
    "from tensorflow.keras.models import Sequential\n",
    "from tensorflow.keras.layers import LSTM, Dense, Dropout\n",
    "from sklearn.metrics import r2_score, mean_absolute_error, mean_squared_error\n",
    "from tensorflow.keras.callbacks import EarlyStopping\n",
    "\n"
   ]
  },
  {
   "cell_type": "markdown",
   "metadata": {},
   "source": [
    "### Import Data"
   ]
  },
  {
   "cell_type": "code",
   "execution_count": 13,
   "metadata": {},
   "outputs": [
    {
     "data": {
      "text/html": [
       "<div>\n",
       "<style scoped>\n",
       "    .dataframe tbody tr th:only-of-type {\n",
       "        vertical-align: middle;\n",
       "    }\n",
       "\n",
       "    .dataframe tbody tr th {\n",
       "        vertical-align: top;\n",
       "    }\n",
       "\n",
       "    .dataframe thead th {\n",
       "        text-align: right;\n",
       "    }\n",
       "</style>\n",
       "<table border=\"1\" class=\"dataframe\">\n",
       "  <thead>\n",
       "    <tr style=\"text-align: right;\">\n",
       "      <th></th>\n",
       "      <th>Date</th>\n",
       "      <th>Rainfall_Simignano</th>\n",
       "      <th>Rainfall_Siena_Poggio_al_Vento</th>\n",
       "      <th>Rainfall_Mensano</th>\n",
       "      <th>Rainfall_Montalcinello</th>\n",
       "      <th>Rainfall_Monticiano_la_Pineta</th>\n",
       "      <th>Rainfall_Sovicille</th>\n",
       "      <th>Rainfall_Ponte_Orgia</th>\n",
       "      <th>Rainfall_Scorgiano</th>\n",
       "      <th>Rainfall_Pentolina</th>\n",
       "      <th>...</th>\n",
       "      <th>Depth_to_Groundwater_Pozzo_1</th>\n",
       "      <th>Depth_to_Groundwater_Pozzo_3</th>\n",
       "      <th>Depth_to_Groundwater_Pozzo_4</th>\n",
       "      <th>Temperature_Siena_Poggio_al_Vento</th>\n",
       "      <th>Temperature_Mensano</th>\n",
       "      <th>Temperature_Pentolina</th>\n",
       "      <th>Temperature_Monteroni_Arbia_Biena</th>\n",
       "      <th>Volume_Pozzo_1</th>\n",
       "      <th>Volume_Pozzo_3</th>\n",
       "      <th>Volume_Pozzo_4</th>\n",
       "    </tr>\n",
       "  </thead>\n",
       "  <tbody>\n",
       "    <tr>\n",
       "      <th>0</th>\n",
       "      <td>01/01/2000</td>\n",
       "      <td>NaN</td>\n",
       "      <td>NaN</td>\n",
       "      <td>NaN</td>\n",
       "      <td>NaN</td>\n",
       "      <td>NaN</td>\n",
       "      <td>NaN</td>\n",
       "      <td>NaN</td>\n",
       "      <td>NaN</td>\n",
       "      <td>NaN</td>\n",
       "      <td>...</td>\n",
       "      <td>NaN</td>\n",
       "      <td>NaN</td>\n",
       "      <td>NaN</td>\n",
       "      <td>0.0</td>\n",
       "      <td>0.0</td>\n",
       "      <td>5.50</td>\n",
       "      <td>0.80</td>\n",
       "      <td>NaN</td>\n",
       "      <td>NaN</td>\n",
       "      <td>NaN</td>\n",
       "    </tr>\n",
       "    <tr>\n",
       "      <th>1</th>\n",
       "      <td>02/01/2000</td>\n",
       "      <td>NaN</td>\n",
       "      <td>NaN</td>\n",
       "      <td>NaN</td>\n",
       "      <td>NaN</td>\n",
       "      <td>NaN</td>\n",
       "      <td>NaN</td>\n",
       "      <td>NaN</td>\n",
       "      <td>NaN</td>\n",
       "      <td>NaN</td>\n",
       "      <td>...</td>\n",
       "      <td>NaN</td>\n",
       "      <td>NaN</td>\n",
       "      <td>NaN</td>\n",
       "      <td>0.0</td>\n",
       "      <td>0.0</td>\n",
       "      <td>6.20</td>\n",
       "      <td>3.25</td>\n",
       "      <td>NaN</td>\n",
       "      <td>NaN</td>\n",
       "      <td>NaN</td>\n",
       "    </tr>\n",
       "    <tr>\n",
       "      <th>2</th>\n",
       "      <td>03/01/2000</td>\n",
       "      <td>NaN</td>\n",
       "      <td>NaN</td>\n",
       "      <td>NaN</td>\n",
       "      <td>NaN</td>\n",
       "      <td>NaN</td>\n",
       "      <td>NaN</td>\n",
       "      <td>NaN</td>\n",
       "      <td>NaN</td>\n",
       "      <td>NaN</td>\n",
       "      <td>...</td>\n",
       "      <td>NaN</td>\n",
       "      <td>NaN</td>\n",
       "      <td>NaN</td>\n",
       "      <td>0.0</td>\n",
       "      <td>0.0</td>\n",
       "      <td>7.25</td>\n",
       "      <td>0.95</td>\n",
       "      <td>NaN</td>\n",
       "      <td>NaN</td>\n",
       "      <td>NaN</td>\n",
       "    </tr>\n",
       "    <tr>\n",
       "      <th>3</th>\n",
       "      <td>04/01/2000</td>\n",
       "      <td>NaN</td>\n",
       "      <td>NaN</td>\n",
       "      <td>NaN</td>\n",
       "      <td>NaN</td>\n",
       "      <td>NaN</td>\n",
       "      <td>NaN</td>\n",
       "      <td>NaN</td>\n",
       "      <td>NaN</td>\n",
       "      <td>NaN</td>\n",
       "      <td>...</td>\n",
       "      <td>NaN</td>\n",
       "      <td>NaN</td>\n",
       "      <td>NaN</td>\n",
       "      <td>0.0</td>\n",
       "      <td>0.0</td>\n",
       "      <td>7.00</td>\n",
       "      <td>4.20</td>\n",
       "      <td>NaN</td>\n",
       "      <td>NaN</td>\n",
       "      <td>NaN</td>\n",
       "    </tr>\n",
       "    <tr>\n",
       "      <th>4</th>\n",
       "      <td>05/01/2000</td>\n",
       "      <td>NaN</td>\n",
       "      <td>NaN</td>\n",
       "      <td>NaN</td>\n",
       "      <td>NaN</td>\n",
       "      <td>NaN</td>\n",
       "      <td>NaN</td>\n",
       "      <td>NaN</td>\n",
       "      <td>NaN</td>\n",
       "      <td>NaN</td>\n",
       "      <td>...</td>\n",
       "      <td>NaN</td>\n",
       "      <td>NaN</td>\n",
       "      <td>NaN</td>\n",
       "      <td>0.0</td>\n",
       "      <td>0.0</td>\n",
       "      <td>7.90</td>\n",
       "      <td>6.55</td>\n",
       "      <td>NaN</td>\n",
       "      <td>NaN</td>\n",
       "      <td>NaN</td>\n",
       "    </tr>\n",
       "  </tbody>\n",
       "</table>\n",
       "<p>5 rows × 22 columns</p>\n",
       "</div>"
      ],
      "text/plain": [
       "         Date  Rainfall_Simignano  Rainfall_Siena_Poggio_al_Vento  \\\n",
       "0  01/01/2000                 NaN                             NaN   \n",
       "1  02/01/2000                 NaN                             NaN   \n",
       "2  03/01/2000                 NaN                             NaN   \n",
       "3  04/01/2000                 NaN                             NaN   \n",
       "4  05/01/2000                 NaN                             NaN   \n",
       "\n",
       "   Rainfall_Mensano  Rainfall_Montalcinello  Rainfall_Monticiano_la_Pineta  \\\n",
       "0               NaN                     NaN                            NaN   \n",
       "1               NaN                     NaN                            NaN   \n",
       "2               NaN                     NaN                            NaN   \n",
       "3               NaN                     NaN                            NaN   \n",
       "4               NaN                     NaN                            NaN   \n",
       "\n",
       "   Rainfall_Sovicille  Rainfall_Ponte_Orgia  Rainfall_Scorgiano  \\\n",
       "0                 NaN                   NaN                 NaN   \n",
       "1                 NaN                   NaN                 NaN   \n",
       "2                 NaN                   NaN                 NaN   \n",
       "3                 NaN                   NaN                 NaN   \n",
       "4                 NaN                   NaN                 NaN   \n",
       "\n",
       "   Rainfall_Pentolina  ...  Depth_to_Groundwater_Pozzo_1  \\\n",
       "0                 NaN  ...                           NaN   \n",
       "1                 NaN  ...                           NaN   \n",
       "2                 NaN  ...                           NaN   \n",
       "3                 NaN  ...                           NaN   \n",
       "4                 NaN  ...                           NaN   \n",
       "\n",
       "   Depth_to_Groundwater_Pozzo_3  Depth_to_Groundwater_Pozzo_4  \\\n",
       "0                           NaN                           NaN   \n",
       "1                           NaN                           NaN   \n",
       "2                           NaN                           NaN   \n",
       "3                           NaN                           NaN   \n",
       "4                           NaN                           NaN   \n",
       "\n",
       "   Temperature_Siena_Poggio_al_Vento  Temperature_Mensano  \\\n",
       "0                                0.0                  0.0   \n",
       "1                                0.0                  0.0   \n",
       "2                                0.0                  0.0   \n",
       "3                                0.0                  0.0   \n",
       "4                                0.0                  0.0   \n",
       "\n",
       "   Temperature_Pentolina  Temperature_Monteroni_Arbia_Biena  Volume_Pozzo_1  \\\n",
       "0                   5.50                               0.80             NaN   \n",
       "1                   6.20                               3.25             NaN   \n",
       "2                   7.25                               0.95             NaN   \n",
       "3                   7.00                               4.20             NaN   \n",
       "4                   7.90                               6.55             NaN   \n",
       "\n",
       "   Volume_Pozzo_3  Volume_Pozzo_4  \n",
       "0             NaN             NaN  \n",
       "1             NaN             NaN  \n",
       "2             NaN             NaN  \n",
       "3             NaN             NaN  \n",
       "4             NaN             NaN  \n",
       "\n",
       "[5 rows x 22 columns]"
      ]
     },
     "execution_count": 13,
     "metadata": {},
     "output_type": "execute_result"
    }
   ],
   "source": [
    "import pandas as pd\n",
    "\n",
    "luco_df = pd.read_csv('/workspaces/time-series-project-tutorial/acea-water-prediction/Aquifer_Luco.csv')\n",
    "luco_df.head()"
   ]
  },
  {
   "cell_type": "code",
   "execution_count": 14,
   "metadata": {},
   "outputs": [
    {
     "name": "stdout",
     "output_type": "stream",
     "text": [
      "            Date  Rainfall_Simignano  Rainfall_Siena_Poggio_al_Vento  \\\n",
      "6536  23/11/2017                 0.0                             0.0   \n",
      "6537  24/11/2017                 0.2                             0.0   \n",
      "6538  25/11/2017                 0.0                             0.0   \n",
      "6539  26/11/2017                 0.0                             0.0   \n",
      "6540  27/11/2017                 0.2                             0.6   \n",
      "...          ...                 ...                             ...   \n",
      "6935  27/12/2018                 0.0                             0.0   \n",
      "6936  28/12/2018                 0.2                             0.0   \n",
      "6937  29/12/2018                 0.0                             0.0   \n",
      "6938  30/12/2018                 0.0                             0.2   \n",
      "6939  31/12/2018                 0.0                             0.0   \n",
      "\n",
      "      Rainfall_Mensano  Rainfall_Montalcinello  Rainfall_Monticiano_la_Pineta  \\\n",
      "6536               0.0                     0.0                            0.0   \n",
      "6537               0.2                     0.4                            0.2   \n",
      "6538               0.0                     0.0                            0.0   \n",
      "6539               0.4                     0.0                            0.0   \n",
      "6540               0.0                     0.0                            0.2   \n",
      "...                ...                     ...                            ...   \n",
      "6935               0.0                     0.2                            0.2   \n",
      "6936               0.0                     0.2                            0.2   \n",
      "6937               0.2                     0.2                            0.2   \n",
      "6938               0.0                     0.0                            0.2   \n",
      "6939               0.0                     0.0                            0.0   \n",
      "\n",
      "      Rainfall_Sovicille  Rainfall_Ponte_Orgia  Rainfall_Scorgiano  \\\n",
      "6536                 0.0                   0.0                 0.4   \n",
      "6537                 0.2                   0.2                 0.0   \n",
      "6538                 0.0                   0.0                 0.0   \n",
      "6539                 0.0                   0.0                 0.2   \n",
      "6540                 0.0                   0.2                 0.6   \n",
      "...                  ...                   ...                 ...   \n",
      "6935                 0.2                   0.0                 0.0   \n",
      "6936                 0.2                   0.2                 0.2   \n",
      "6937                 0.2                   0.2                 0.2   \n",
      "6938                 0.2                   0.0                 0.0   \n",
      "6939                 0.0                   0.2                 0.0   \n",
      "\n",
      "      Rainfall_Pentolina  ...  Depth_to_Groundwater_Pozzo_1  \\\n",
      "6536                 0.0  ...                         -10.1   \n",
      "6537                 0.2  ...                         -10.5   \n",
      "6538                 0.2  ...                         -10.2   \n",
      "6539                 0.0  ...                         -10.2   \n",
      "6540                 0.0  ...                         -10.3   \n",
      "...                  ...  ...                           ...   \n",
      "6935                 0.2  ...                         -11.4   \n",
      "6936                 0.2  ...                         -11.3   \n",
      "6937                 0.2  ...                         -11.5   \n",
      "6938                 0.2  ...                         -11.5   \n",
      "6939                 0.0  ...                         -11.7   \n",
      "\n",
      "      Depth_to_Groundwater_Pozzo_3  Depth_to_Groundwater_Pozzo_4  \\\n",
      "6536                          -9.0                         -12.2   \n",
      "6537                          -8.4                         -12.0   \n",
      "6538                          -9.8                         -12.1   \n",
      "6539                          -9.1                         -12.1   \n",
      "6540                          -8.8                         -12.2   \n",
      "...                            ...                           ...   \n",
      "6935                          -9.9                         -12.8   \n",
      "6936                         -10.2                         -12.8   \n",
      "6937                         -10.0                         -12.8   \n",
      "6938                          -9.6                         -12.9   \n",
      "6939                          -8.6                         -12.8   \n",
      "\n",
      "      Temperature_Siena_Poggio_al_Vento  Temperature_Mensano  \\\n",
      "6536                              12.30                11.40   \n",
      "6537                              12.20                11.20   \n",
      "6538                              12.55                13.05   \n",
      "6539                               7.75                 6.85   \n",
      "6540                               6.15                 4.90   \n",
      "...                                 ...                  ...   \n",
      "6935                               8.05                 7.60   \n",
      "6936                               6.95                 8.10   \n",
      "6937                               6.05                 8.20   \n",
      "6938                               8.55                 9.20   \n",
      "6939                               8.75                 8.85   \n",
      "\n",
      "      Temperature_Pentolina  Temperature_Monteroni_Arbia_Biena  \\\n",
      "6536                  11.15                              11.30   \n",
      "6537                  11.90                              10.65   \n",
      "6538                  12.40                              13.00   \n",
      "6539                   7.05                               7.10   \n",
      "6540                   4.25                               3.60   \n",
      "...                     ...                                ...   \n",
      "6935                   6.80                               4.75   \n",
      "6936                   6.10                               5.80   \n",
      "6937                   6.90                               4.90   \n",
      "6938                   8.20                               6.45   \n",
      "6939                   7.90                               5.10   \n",
      "\n",
      "      Volume_Pozzo_1  Volume_Pozzo_3  Volume_Pozzo_4  \n",
      "6536     -222.906240     -136.905600     -227.968320  \n",
      "6537     -222.906240     -136.905600     -227.968320  \n",
      "6538     -222.906240     -136.905600     -227.968320  \n",
      "6539     -211.760928     -130.060320     -216.569904  \n",
      "6540     -222.906240     -136.905600     -227.968320  \n",
      "...              ...             ...             ...  \n",
      "6935     -156.435247     -165.371038     -129.884104  \n",
      "6936     -156.435247     -165.371038     -129.884104  \n",
      "6937     -156.435247     -165.371038     -129.884104  \n",
      "6938     -148.613484     -157.102487     -123.389899  \n",
      "6939     -156.435247     -165.371038     -129.884104  \n",
      "\n",
      "[363 rows x 22 columns]\n"
     ]
    }
   ],
   "source": [
    "luco_df.isnull().sum()\n",
    "luco_df = luco_df.dropna()\n",
    "print(luco_df)"
   ]
  },
  {
   "cell_type": "markdown",
   "metadata": {},
   "source": [
    "### Format Time Series Date Field"
   ]
  },
  {
   "cell_type": "code",
   "execution_count": 15,
   "metadata": {},
   "outputs": [
    {
     "name": "stdout",
     "output_type": "stream",
     "text": [
      "6536    11/23/2017\n",
      "6537    11/24/2017\n",
      "6538    11/25/2017\n",
      "6539    11/26/2017\n",
      "6540    11/27/2017\n",
      "           ...    \n",
      "6935    12/27/2018\n",
      "6936    12/28/2018\n",
      "6937    12/29/2018\n",
      "6938    12/30/2018\n",
      "6939    12/31/2018\n",
      "Name: formatted_date, Length: 363, dtype: object\n"
     ]
    }
   ],
   "source": [
    "from datetime import datetime\n",
    "\n",
    "original_date = luco_df['Date']\n",
    "parsed_date = original_date.apply(lambda x: datetime.strptime(x, \"%d/%m/%Y\"))\n",
    "\n",
    "# Format to mm/dd/yyyy\n",
    "luco_df['formatted_date'] = pd.to_datetime(luco_df['Date'], format=\"%d/%m/%Y\").dt.strftime(\"%m/%d/%Y\")\n",
    "\n",
    "print(luco_df['formatted_date'])\n"
   ]
  },
  {
   "cell_type": "code",
   "execution_count": 16,
   "metadata": {},
   "outputs": [
    {
     "data": {
      "text/html": [
       "<div>\n",
       "<style scoped>\n",
       "    .dataframe tbody tr th:only-of-type {\n",
       "        vertical-align: middle;\n",
       "    }\n",
       "\n",
       "    .dataframe tbody tr th {\n",
       "        vertical-align: top;\n",
       "    }\n",
       "\n",
       "    .dataframe thead th {\n",
       "        text-align: right;\n",
       "    }\n",
       "</style>\n",
       "<table border=\"1\" class=\"dataframe\">\n",
       "  <thead>\n",
       "    <tr style=\"text-align: right;\">\n",
       "      <th></th>\n",
       "      <th>Rainfall_Simignano</th>\n",
       "      <th>Rainfall_Siena_Poggio_al_Vento</th>\n",
       "      <th>Rainfall_Mensano</th>\n",
       "      <th>Rainfall_Montalcinello</th>\n",
       "      <th>Rainfall_Monticiano_la_Pineta</th>\n",
       "      <th>Rainfall_Sovicille</th>\n",
       "      <th>Rainfall_Ponte_Orgia</th>\n",
       "      <th>Rainfall_Scorgiano</th>\n",
       "      <th>Rainfall_Pentolina</th>\n",
       "      <th>Rainfall_Monteroni_Arbia_Biena</th>\n",
       "      <th>...</th>\n",
       "      <th>Depth_to_Groundwater_Pozzo_1</th>\n",
       "      <th>Depth_to_Groundwater_Pozzo_3</th>\n",
       "      <th>Depth_to_Groundwater_Pozzo_4</th>\n",
       "      <th>Temperature_Siena_Poggio_al_Vento</th>\n",
       "      <th>Temperature_Mensano</th>\n",
       "      <th>Temperature_Pentolina</th>\n",
       "      <th>Temperature_Monteroni_Arbia_Biena</th>\n",
       "      <th>Volume_Pozzo_1</th>\n",
       "      <th>Volume_Pozzo_3</th>\n",
       "      <th>Volume_Pozzo_4</th>\n",
       "    </tr>\n",
       "    <tr>\n",
       "      <th>formatted_date</th>\n",
       "      <th></th>\n",
       "      <th></th>\n",
       "      <th></th>\n",
       "      <th></th>\n",
       "      <th></th>\n",
       "      <th></th>\n",
       "      <th></th>\n",
       "      <th></th>\n",
       "      <th></th>\n",
       "      <th></th>\n",
       "      <th></th>\n",
       "      <th></th>\n",
       "      <th></th>\n",
       "      <th></th>\n",
       "      <th></th>\n",
       "      <th></th>\n",
       "      <th></th>\n",
       "      <th></th>\n",
       "      <th></th>\n",
       "      <th></th>\n",
       "      <th></th>\n",
       "    </tr>\n",
       "  </thead>\n",
       "  <tbody>\n",
       "    <tr>\n",
       "      <th>11/23/2017</th>\n",
       "      <td>0.0</td>\n",
       "      <td>0.0</td>\n",
       "      <td>0.0</td>\n",
       "      <td>0.0</td>\n",
       "      <td>0.0</td>\n",
       "      <td>0.0</td>\n",
       "      <td>0.0</td>\n",
       "      <td>0.4</td>\n",
       "      <td>0.0</td>\n",
       "      <td>0.0</td>\n",
       "      <td>...</td>\n",
       "      <td>-10.1</td>\n",
       "      <td>-9.0</td>\n",
       "      <td>-12.2</td>\n",
       "      <td>12.30</td>\n",
       "      <td>11.40</td>\n",
       "      <td>11.15</td>\n",
       "      <td>11.30</td>\n",
       "      <td>-222.906240</td>\n",
       "      <td>-136.90560</td>\n",
       "      <td>-227.968320</td>\n",
       "    </tr>\n",
       "    <tr>\n",
       "      <th>11/24/2017</th>\n",
       "      <td>0.2</td>\n",
       "      <td>0.0</td>\n",
       "      <td>0.2</td>\n",
       "      <td>0.4</td>\n",
       "      <td>0.2</td>\n",
       "      <td>0.2</td>\n",
       "      <td>0.2</td>\n",
       "      <td>0.0</td>\n",
       "      <td>0.2</td>\n",
       "      <td>0.2</td>\n",
       "      <td>...</td>\n",
       "      <td>-10.5</td>\n",
       "      <td>-8.4</td>\n",
       "      <td>-12.0</td>\n",
       "      <td>12.20</td>\n",
       "      <td>11.20</td>\n",
       "      <td>11.90</td>\n",
       "      <td>10.65</td>\n",
       "      <td>-222.906240</td>\n",
       "      <td>-136.90560</td>\n",
       "      <td>-227.968320</td>\n",
       "    </tr>\n",
       "    <tr>\n",
       "      <th>11/25/2017</th>\n",
       "      <td>0.0</td>\n",
       "      <td>0.0</td>\n",
       "      <td>0.0</td>\n",
       "      <td>0.0</td>\n",
       "      <td>0.0</td>\n",
       "      <td>0.0</td>\n",
       "      <td>0.0</td>\n",
       "      <td>0.0</td>\n",
       "      <td>0.2</td>\n",
       "      <td>0.0</td>\n",
       "      <td>...</td>\n",
       "      <td>-10.2</td>\n",
       "      <td>-9.8</td>\n",
       "      <td>-12.1</td>\n",
       "      <td>12.55</td>\n",
       "      <td>13.05</td>\n",
       "      <td>12.40</td>\n",
       "      <td>13.00</td>\n",
       "      <td>-222.906240</td>\n",
       "      <td>-136.90560</td>\n",
       "      <td>-227.968320</td>\n",
       "    </tr>\n",
       "    <tr>\n",
       "      <th>11/26/2017</th>\n",
       "      <td>0.0</td>\n",
       "      <td>0.0</td>\n",
       "      <td>0.4</td>\n",
       "      <td>0.0</td>\n",
       "      <td>0.0</td>\n",
       "      <td>0.0</td>\n",
       "      <td>0.0</td>\n",
       "      <td>0.2</td>\n",
       "      <td>0.0</td>\n",
       "      <td>0.0</td>\n",
       "      <td>...</td>\n",
       "      <td>-10.2</td>\n",
       "      <td>-9.1</td>\n",
       "      <td>-12.1</td>\n",
       "      <td>7.75</td>\n",
       "      <td>6.85</td>\n",
       "      <td>7.05</td>\n",
       "      <td>7.10</td>\n",
       "      <td>-211.760928</td>\n",
       "      <td>-130.06032</td>\n",
       "      <td>-216.569904</td>\n",
       "    </tr>\n",
       "    <tr>\n",
       "      <th>11/27/2017</th>\n",
       "      <td>0.2</td>\n",
       "      <td>0.6</td>\n",
       "      <td>0.0</td>\n",
       "      <td>0.0</td>\n",
       "      <td>0.2</td>\n",
       "      <td>0.0</td>\n",
       "      <td>0.2</td>\n",
       "      <td>0.6</td>\n",
       "      <td>0.0</td>\n",
       "      <td>0.0</td>\n",
       "      <td>...</td>\n",
       "      <td>-10.3</td>\n",
       "      <td>-8.8</td>\n",
       "      <td>-12.2</td>\n",
       "      <td>6.15</td>\n",
       "      <td>4.90</td>\n",
       "      <td>4.25</td>\n",
       "      <td>3.60</td>\n",
       "      <td>-222.906240</td>\n",
       "      <td>-136.90560</td>\n",
       "      <td>-227.968320</td>\n",
       "    </tr>\n",
       "  </tbody>\n",
       "</table>\n",
       "<p>5 rows × 21 columns</p>\n",
       "</div>"
      ],
      "text/plain": [
       "                Rainfall_Simignano  Rainfall_Siena_Poggio_al_Vento  \\\n",
       "formatted_date                                                       \n",
       "11/23/2017                     0.0                             0.0   \n",
       "11/24/2017                     0.2                             0.0   \n",
       "11/25/2017                     0.0                             0.0   \n",
       "11/26/2017                     0.0                             0.0   \n",
       "11/27/2017                     0.2                             0.6   \n",
       "\n",
       "                Rainfall_Mensano  Rainfall_Montalcinello  \\\n",
       "formatted_date                                             \n",
       "11/23/2017                   0.0                     0.0   \n",
       "11/24/2017                   0.2                     0.4   \n",
       "11/25/2017                   0.0                     0.0   \n",
       "11/26/2017                   0.4                     0.0   \n",
       "11/27/2017                   0.0                     0.0   \n",
       "\n",
       "                Rainfall_Monticiano_la_Pineta  Rainfall_Sovicille  \\\n",
       "formatted_date                                                      \n",
       "11/23/2017                                0.0                 0.0   \n",
       "11/24/2017                                0.2                 0.2   \n",
       "11/25/2017                                0.0                 0.0   \n",
       "11/26/2017                                0.0                 0.0   \n",
       "11/27/2017                                0.2                 0.0   \n",
       "\n",
       "                Rainfall_Ponte_Orgia  Rainfall_Scorgiano  Rainfall_Pentolina  \\\n",
       "formatted_date                                                                 \n",
       "11/23/2017                       0.0                 0.4                 0.0   \n",
       "11/24/2017                       0.2                 0.0                 0.2   \n",
       "11/25/2017                       0.0                 0.0                 0.2   \n",
       "11/26/2017                       0.0                 0.2                 0.0   \n",
       "11/27/2017                       0.2                 0.6                 0.0   \n",
       "\n",
       "                Rainfall_Monteroni_Arbia_Biena  ...  \\\n",
       "formatted_date                                  ...   \n",
       "11/23/2017                                 0.0  ...   \n",
       "11/24/2017                                 0.2  ...   \n",
       "11/25/2017                                 0.0  ...   \n",
       "11/26/2017                                 0.0  ...   \n",
       "11/27/2017                                 0.0  ...   \n",
       "\n",
       "                Depth_to_Groundwater_Pozzo_1  Depth_to_Groundwater_Pozzo_3  \\\n",
       "formatted_date                                                               \n",
       "11/23/2017                             -10.1                          -9.0   \n",
       "11/24/2017                             -10.5                          -8.4   \n",
       "11/25/2017                             -10.2                          -9.8   \n",
       "11/26/2017                             -10.2                          -9.1   \n",
       "11/27/2017                             -10.3                          -8.8   \n",
       "\n",
       "                Depth_to_Groundwater_Pozzo_4  \\\n",
       "formatted_date                                 \n",
       "11/23/2017                             -12.2   \n",
       "11/24/2017                             -12.0   \n",
       "11/25/2017                             -12.1   \n",
       "11/26/2017                             -12.1   \n",
       "11/27/2017                             -12.2   \n",
       "\n",
       "                Temperature_Siena_Poggio_al_Vento  Temperature_Mensano  \\\n",
       "formatted_date                                                           \n",
       "11/23/2017                                  12.30                11.40   \n",
       "11/24/2017                                  12.20                11.20   \n",
       "11/25/2017                                  12.55                13.05   \n",
       "11/26/2017                                   7.75                 6.85   \n",
       "11/27/2017                                   6.15                 4.90   \n",
       "\n",
       "                Temperature_Pentolina  Temperature_Monteroni_Arbia_Biena  \\\n",
       "formatted_date                                                             \n",
       "11/23/2017                      11.15                              11.30   \n",
       "11/24/2017                      11.90                              10.65   \n",
       "11/25/2017                      12.40                              13.00   \n",
       "11/26/2017                       7.05                               7.10   \n",
       "11/27/2017                       4.25                               3.60   \n",
       "\n",
       "                Volume_Pozzo_1  Volume_Pozzo_3  Volume_Pozzo_4  \n",
       "formatted_date                                                  \n",
       "11/23/2017         -222.906240      -136.90560     -227.968320  \n",
       "11/24/2017         -222.906240      -136.90560     -227.968320  \n",
       "11/25/2017         -222.906240      -136.90560     -227.968320  \n",
       "11/26/2017         -211.760928      -130.06032     -216.569904  \n",
       "11/27/2017         -222.906240      -136.90560     -227.968320  \n",
       "\n",
       "[5 rows x 21 columns]"
      ]
     },
     "execution_count": 16,
     "metadata": {},
     "output_type": "execute_result"
    }
   ],
   "source": [
    "luco_df = luco_df.set_index('formatted_date')\n",
    "luco_df = luco_df.drop(columns=['Date'])\n",
    "luco_df.head()"
   ]
  },
  {
   "cell_type": "code",
   "execution_count": 17,
   "metadata": {},
   "outputs": [
    {
     "data": {
      "text/plain": [
       "Index(['Rainfall_Simignano', 'Rainfall_Siena_Poggio_al_Vento',\n",
       "       'Rainfall_Mensano', 'Rainfall_Montalcinello',\n",
       "       'Rainfall_Monticiano_la_Pineta', 'Rainfall_Sovicille',\n",
       "       'Rainfall_Ponte_Orgia', 'Rainfall_Scorgiano', 'Rainfall_Pentolina',\n",
       "       'Rainfall_Monteroni_Arbia_Biena', 'Depth_to_Groundwater_Podere_Casetta',\n",
       "       'Depth_to_Groundwater_Pozzo_1', 'Depth_to_Groundwater_Pozzo_3',\n",
       "       'Depth_to_Groundwater_Pozzo_4', 'Temperature_Siena_Poggio_al_Vento',\n",
       "       'Temperature_Mensano', 'Temperature_Pentolina',\n",
       "       'Temperature_Monteroni_Arbia_Biena', 'Volume_Pozzo_1', 'Volume_Pozzo_3',\n",
       "       'Volume_Pozzo_4'],\n",
       "      dtype='object')"
      ]
     },
     "execution_count": 17,
     "metadata": {},
     "output_type": "execute_result"
    }
   ],
   "source": [
    "luco_df.columns"
   ]
  },
  {
   "cell_type": "markdown",
   "metadata": {},
   "source": [
    "## Multivariate Analysis - LSTM "
   ]
  },
  {
   "cell_type": "markdown",
   "metadata": {},
   "source": [
    "### Min Max Scaling"
   ]
  },
  {
   "cell_type": "markdown",
   "metadata": {},
   "source": [
    "#### Function to Min Max scale multiple features"
   ]
  },
  {
   "cell_type": "code",
   "execution_count": 18,
   "metadata": {},
   "outputs": [],
   "source": [
    "target_columns = ['Depth_to_Groundwater_Podere_Casetta']\n",
    "feature_columns = luco_df.drop(columns=target_columns).columns.tolist()\n",
    "\n",
    "#target_columns.dtypes"
   ]
  },
  {
   "cell_type": "code",
   "execution_count": 19,
   "metadata": {},
   "outputs": [
    {
     "name": "stdout",
     "output_type": "stream",
     "text": [
      "MinMaxScaler()\n"
     ]
    }
   ],
   "source": [
    "# Ensure X is defined\n",
    "\n",
    "def prepare_feature_data(df, feature_columns, target_columns, lookback=30):\n",
    "    \"\"\"\n",
    "    Prepare multi-feature sequences for LSTM model\n",
    "    \"\"\"\n",
    "    \n",
    "    X, y = [], []\n",
    "    # Scale the features\n",
    "    scaler_features = MinMaxScaler()\n",
    "    scaled_features = scaler_features.fit_transform(df[feature_columns])\n",
    "    \n",
    "    # Scale the target separately\n",
    "    scaler_target = MinMaxScaler()\n",
    "    scaled_target = scaler_target.fit_transform(df[target_columns])\n",
    "    \n",
    "    for i in range(len(df) - lookback):\n",
    "        # Features: take all feature columns for the lookback period\n",
    "        X.append(scaled_features[i:(i + lookback)])\n",
    "        # Targets: take all target columns for the prediction point\n",
    "        y.append(scaled_target[(i + lookback)])\n",
    "    \n",
    "    return X, y, scaler_features, scaler_target\n",
    "\n",
    "# Call the function with debugging\n",
    "try:\n",
    "    X, y, scaler_features, scaler_target = prepare_feature_data(luco_df, feature_columns, target_columns, lookback=30)\n",
    "    print(scaler_target)\n",
    "except ValueError as e:\n",
    "    print(\"ValueError encountered:\", e)\n",
    "    # print(\"luco_df shape:\", luco_df.shape)\n",
    "    # print(\"feature_columns:\", feature_columns)\n",
    "    # print(\"target_columns:\", target_columns)\n",
    "    # print(\"lookback:\", 7)\n",
    "\n",
    "\n",
    "\n"
   ]
  },
  {
   "cell_type": "markdown",
   "metadata": {},
   "source": [
    "#### Define Test Train Split Myself <br>"
   ]
  },
  {
   "cell_type": "code",
   "execution_count": 20,
   "metadata": {},
   "outputs": [
    {
     "name": "stdout",
     "output_type": "stream",
     "text": [
      "Train size: 266, Test size: 67\n"
     ]
    }
   ],
   "source": [
    "train_size = int(len(X) * 0.8)\n",
    "X_train, X_test = X[:train_size], X[train_size:]\n",
    "y_train, y_test = y[:train_size], y[train_size:]\n",
    "test_size = len(X) - train_size\n",
    "print(f\"Train size: {len(X_train)}, Test size: {len(X_test)}\")\n",
    "#print(y_train)\n"
   ]
  },
  {
   "cell_type": "markdown",
   "metadata": {},
   "source": [
    "### LSTM Model Multi-Target"
   ]
  },
  {
   "cell_type": "code",
   "execution_count": 21,
   "metadata": {},
   "outputs": [
    {
     "name": "stderr",
     "output_type": "stream",
     "text": [
      "/usr/local/python/3.12.1/lib/python3.12/site-packages/keras/src/layers/rnn/rnn.py:204: UserWarning: Do not pass an `input_shape`/`input_dim` argument to a layer. When using Sequential models, prefer using an `Input(shape)` object as the first layer in the model instead.\n",
      "  super().__init__(**kwargs)\n"
     ]
    }
   ],
   "source": [
    "from tensorflow.keras.layers import Bidirectional\n",
    "\n",
    "n_features = len(feature_columns)\n",
    "\n",
    "model = Sequential([\n",
    "    # Increase capacity for better pattern recognition\n",
    "    Bidirectional(LSTM(128, return_sequences=True, input_shape=(30, n_features))),\n",
    "    Dropout(0.3),\n",
    "    \n",
    "    Bidirectional(LSTM(64, return_sequences=True)),\n",
    "    Dropout(0.3),\n",
    "    \n",
    "    Bidirectional(LSTM(32)),\n",
    "    Dropout(0.3),\n",
    "    \n",
    "    Dense(32, activation='relu'),\n",
    "    Dense(1)\n",
    "])\n",
    "\n",
    "# Use Huber loss to handle outliers better\n",
    "model.compile(optimizer=Adam(learning_rate=0.001), loss='huber')"
   ]
  },
  {
   "cell_type": "markdown",
   "metadata": {},
   "source": [
    "#### Define Early Stopping to precvent Overfitting "
   ]
  },
  {
   "cell_type": "code",
   "execution_count": 22,
   "metadata": {},
   "outputs": [],
   "source": [
    "# Define early stopping\n",
    "early_stopping = EarlyStopping(\n",
    "    monitor='val_loss',  # Monitor the validation loss\n",
    "    patience=5,          # Number of epochs with no improvement before stopping\n",
    "    restore_best_weights=True  # Restore model weights from the epoch with the best value of the monitored quantity\n",
    ")\n",
    "\n"
   ]
  },
  {
   "cell_type": "code",
   "execution_count": 24,
   "metadata": {},
   "outputs": [
    {
     "name": "stdout",
     "output_type": "stream",
     "text": [
      "X_train shape: (266, 30, 20)\n",
      "y_train shape: (266, 1)\n",
      "Epoch 1/100\n"
     ]
    },
    {
     "name": "stdout",
     "output_type": "stream",
     "text": [
      "\u001b[1m7/7\u001b[0m \u001b[32m━━━━━━━━━━━━━━━━━━━━\u001b[0m\u001b[37m\u001b[0m \u001b[1m9s\u001b[0m 213ms/step - loss: 0.1501 - val_loss: 0.0228\n",
      "Epoch 2/100\n",
      "\u001b[1m7/7\u001b[0m \u001b[32m━━━━━━━━━━━━━━━━━━━━\u001b[0m\u001b[37m\u001b[0m \u001b[1m1s\u001b[0m 108ms/step - loss: 0.0427 - val_loss: 0.0345\n",
      "Epoch 3/100\n",
      "\u001b[1m7/7\u001b[0m \u001b[32m━━━━━━━━━━━━━━━━━━━━\u001b[0m\u001b[37m\u001b[0m \u001b[1m1s\u001b[0m 94ms/step - loss: 0.0212 - val_loss: 0.0290\n",
      "Epoch 4/100\n",
      "\u001b[1m7/7\u001b[0m \u001b[32m━━━━━━━━━━━━━━━━━━━━\u001b[0m\u001b[37m\u001b[0m \u001b[1m1s\u001b[0m 102ms/step - loss: 0.0151 - val_loss: 0.0091\n",
      "Epoch 5/100\n",
      "\u001b[1m7/7\u001b[0m \u001b[32m━━━━━━━━━━━━━━━━━━━━\u001b[0m\u001b[37m\u001b[0m \u001b[1m1s\u001b[0m 105ms/step - loss: 0.0108 - val_loss: 0.0100\n",
      "Epoch 6/100\n",
      "\u001b[1m7/7\u001b[0m \u001b[32m━━━━━━━━━━━━━━━━━━━━\u001b[0m\u001b[37m\u001b[0m \u001b[1m1s\u001b[0m 128ms/step - loss: 0.0080 - val_loss: 0.0078\n",
      "Epoch 7/100\n",
      "\u001b[1m7/7\u001b[0m \u001b[32m━━━━━━━━━━━━━━━━━━━━\u001b[0m\u001b[37m\u001b[0m \u001b[1m1s\u001b[0m 95ms/step - loss: 0.0063 - val_loss: 0.0073\n",
      "Epoch 8/100\n",
      "\u001b[1m7/7\u001b[0m \u001b[32m━━━━━━━━━━━━━━━━━━━━\u001b[0m\u001b[37m\u001b[0m \u001b[1m1s\u001b[0m 113ms/step - loss: 0.0062 - val_loss: 0.0051\n",
      "Epoch 9/100\n",
      "\u001b[1m7/7\u001b[0m \u001b[32m━━━━━━━━━━━━━━━━━━━━\u001b[0m\u001b[37m\u001b[0m \u001b[1m1s\u001b[0m 96ms/step - loss: 0.0038 - val_loss: 0.0042\n",
      "Epoch 10/100\n",
      "\u001b[1m7/7\u001b[0m \u001b[32m━━━━━━━━━━━━━━━━━━━━\u001b[0m\u001b[37m\u001b[0m \u001b[1m1s\u001b[0m 107ms/step - loss: 0.0042 - val_loss: 0.0028\n",
      "Epoch 11/100\n",
      "\u001b[1m7/7\u001b[0m \u001b[32m━━━━━━━━━━━━━━━━━━━━\u001b[0m\u001b[37m\u001b[0m \u001b[1m1s\u001b[0m 100ms/step - loss: 0.0038 - val_loss: 0.0030\n",
      "Epoch 12/100\n",
      "\u001b[1m7/7\u001b[0m \u001b[32m━━━━━━━━━━━━━━━━━━━━\u001b[0m\u001b[37m\u001b[0m \u001b[1m1s\u001b[0m 95ms/step - loss: 0.0051 - val_loss: 0.0030\n",
      "Epoch 13/100\n",
      "\u001b[1m7/7\u001b[0m \u001b[32m━━━━━━━━━━━━━━━━━━━━\u001b[0m\u001b[37m\u001b[0m \u001b[1m1s\u001b[0m 103ms/step - loss: 0.0040 - val_loss: 0.0025\n",
      "Epoch 14/100\n",
      "\u001b[1m7/7\u001b[0m \u001b[32m━━━━━━━━━━━━━━━━━━━━\u001b[0m\u001b[37m\u001b[0m \u001b[1m1s\u001b[0m 95ms/step - loss: 0.0039 - val_loss: 0.0028\n",
      "Epoch 15/100\n",
      "\u001b[1m7/7\u001b[0m \u001b[32m━━━━━━━━━━━━━━━━━━━━\u001b[0m\u001b[37m\u001b[0m \u001b[1m1s\u001b[0m 103ms/step - loss: 0.0040 - val_loss: 0.0077\n",
      "Epoch 16/100\n",
      "\u001b[1m7/7\u001b[0m \u001b[32m━━━━━━━━━━━━━━━━━━━━\u001b[0m\u001b[37m\u001b[0m \u001b[1m1s\u001b[0m 122ms/step - loss: 0.0033 - val_loss: 0.0076\n",
      "Epoch 17/100\n",
      "\u001b[1m7/7\u001b[0m \u001b[32m━━━━━━━━━━━━━━━━━━━━\u001b[0m\u001b[37m\u001b[0m \u001b[1m1s\u001b[0m 94ms/step - loss: 0.0029 - val_loss: 0.0035\n",
      "Epoch 18/100\n",
      "\u001b[1m7/7\u001b[0m \u001b[32m━━━━━━━━━━━━━━━━━━━━\u001b[0m\u001b[37m\u001b[0m \u001b[1m1s\u001b[0m 96ms/step - loss: 0.0037 - val_loss: 0.0038\n"
     ]
    }
   ],
   "source": [
    "import numpy as np\n",
    "\n",
    "# Convert to numpy arrays\n",
    "X_train = np.array(X_train)\n",
    "y_train = np.array(y_train)\n",
    "X_test = np.array(X_test)\n",
    "\n",
    "# Ensure the shapes are compatible\n",
    "print(f\"X_train shape: {X_train.shape}\")\n",
    "print(f\"y_train shape: {y_train.shape}\")\n",
    "\n",
    "# Train the model with early stopping\n",
    "history = model.fit(\n",
    "    X_train, y_train,\n",
    "    validation_split=0.2,  # Use 20% of the training data for validation\n",
    "    epochs=100,            # Set a high number of epochs; early stopping will stop it earlier if needed\n",
    "    batch_size=32,         # Adjust batch size based on your dataset size\n",
    "    callbacks=[early_stopping],\n",
    "    verbose=1              # Print training progress\n",
    ")"
   ]
  },
  {
   "cell_type": "markdown",
   "metadata": {},
   "source": [
    "### Model Predictions\n",
    "We train the model on the train data and the test data to see how well <br>\n",
    "we are predicting the training and testing data"
   ]
  },
  {
   "cell_type": "code",
   "execution_count": 25,
   "metadata": {},
   "outputs": [
    {
     "name": "stdout",
     "output_type": "stream",
     "text": [
      "\u001b[1m9/9\u001b[0m \u001b[32m━━━━━━━━━━━━━━━━━━━━\u001b[0m\u001b[37m\u001b[0m \u001b[1m2s\u001b[0m 115ms/step\n",
      "\u001b[1m3/3\u001b[0m \u001b[32m━━━━━━━━━━━━━━━━━━━━\u001b[0m\u001b[37m\u001b[0m \u001b[1m0s\u001b[0m 16ms/step\n",
      "[[0.5214499 ]\n",
      " [0.50384384]\n",
      " [0.47939333]\n",
      " [0.45744523]\n",
      " [0.4932122 ]\n",
      " [0.50821704]\n",
      " [0.49731565]\n",
      " [0.51836   ]\n",
      " [0.550164  ]\n",
      " [0.55947167]\n",
      " [0.568202  ]\n",
      " [0.5736322 ]\n",
      " [0.5723173 ]\n",
      " [0.5794065 ]\n",
      " [0.5727648 ]\n",
      " [0.5652709 ]\n",
      " [0.5612656 ]\n",
      " [0.5501705 ]\n",
      " [0.543576  ]\n",
      " [0.5321791 ]\n",
      " [0.5207481 ]\n",
      " [0.5036791 ]\n",
      " [0.48197758]\n",
      " [0.4516561 ]\n",
      " [0.4253059 ]\n",
      " [0.396443  ]\n",
      " [0.38530678]\n",
      " [0.37929145]\n",
      " [0.3684845 ]\n",
      " [0.36277044]\n",
      " [0.35975266]\n",
      " [0.36132723]\n",
      " [0.35539067]\n",
      " [0.33510238]\n",
      " [0.25749993]\n",
      " [0.20672756]\n",
      " [0.17949437]\n",
      " [0.14626   ]\n",
      " [0.12064432]\n",
      " [0.1146622 ]\n",
      " [0.11722566]\n",
      " [0.11231074]\n",
      " [0.09844008]\n",
      " [0.1060396 ]\n",
      " [0.10978249]\n",
      " [0.10435602]\n",
      " [0.09861765]\n",
      " [0.08774078]\n",
      " [0.07489193]\n",
      " [0.06561495]\n",
      " [0.05597904]\n",
      " [0.04779617]\n",
      " [0.0398993 ]\n",
      " [0.05000295]\n",
      " [0.04873626]\n",
      " [0.04637072]\n",
      " [0.04712188]\n",
      " [0.04492708]\n",
      " [0.04554808]\n",
      " [0.04584149]\n",
      " [0.04539687]\n",
      " [0.04110407]\n",
      " [0.03881145]\n",
      " [0.0378003 ]\n",
      " [0.03768798]\n",
      " [0.03701916]\n",
      " [0.03643161]]\n"
     ]
    }
   ],
   "source": [
    "train_pred = model.predict(X_train)\n",
    "test_pred = model.predict(X_test)\n",
    "\n",
    "print(test_pred)"
   ]
  },
  {
   "cell_type": "markdown",
   "metadata": {},
   "source": [
    "### Convert back to normal scale"
   ]
  },
  {
   "cell_type": "code",
   "execution_count": 26,
   "metadata": {},
   "outputs": [],
   "source": [
    "# Inverse transform predictions\n",
    "train_pred = scaler_target.inverse_transform(train_pred)\n",
    "test_pred = scaler_target.inverse_transform(test_pred)\n",
    "y_train_orig = scaler_target.inverse_transform(y_train)\n",
    "y_test_orig = scaler_target.inverse_transform(y_test)\n",
    "\n"
   ]
  },
  {
   "cell_type": "markdown",
   "metadata": {},
   "source": [
    "### Evaluate Loss"
   ]
  },
  {
   "cell_type": "code",
   "execution_count": 27,
   "metadata": {},
   "outputs": [
    {
     "data": {
      "text/plain": [
       "<matplotlib.legend.Legend at 0x7f7c29ab0d70>"
      ]
     },
     "execution_count": 27,
     "metadata": {},
     "output_type": "execute_result"
    },
    {
     "data": {
      "image/png": "[encoded data removed]",
      "text/plain": [
       "<Figure size 1200x900 with 1 Axes>"
      ]
     },
     "metadata": {},
     "output_type": "display_data"
    }
   ],
   "source": [
    "import matplotlib.pyplot as plt\n",
    "\n",
    "\n",
    "# Create visualizations\n",
    "plt.figure(figsize=(12, 9))\n",
    "\n",
    "# Plot 1: Training Loss\n",
    "plt.subplot(4, 1, 1)\n",
    "plt.plot(history.history['loss'], label='Training Loss')\n",
    "plt.plot(history.history['val_loss'], label='Validation Loss')\n",
    "plt.title('Model Loss During Training')\n",
    "plt.xlabel('Epoch')\n",
    "plt.ylabel('Loss')\n",
    "plt.legend()"
   ]
  },
  {
   "cell_type": "markdown",
   "metadata": {},
   "source": [
    "## Evaluate Progress"
   ]
  },
  {
   "cell_type": "code",
   "execution_count": 28,
   "metadata": {},
   "outputs": [],
   "source": [
    "def evaluate_regression_lstm(y_true, y_pred):\n",
    "    # R² score (1.0 is perfect prediction)\n",
    "    r2 = r2_score(y_true, y_pred)\n",
    "    \n",
    "    # Mean Absolute Error\n",
    "    mae = mean_absolute_error(y_true, y_pred)\n",
    "    \n",
    "    # Root Mean Squared Error\n",
    "    rmse = np.sqrt(mean_squared_error(y_true, y_pred))\n",
    "    \n",
    "    # Custom accuracy metric for regression (as percentage)\n",
    "    # Using 1 - normalized MAE as a proxy for accuracy\n",
    "    #accuracy = (1 - mae / (y_true.max() - y_true.min())) * 100\n",
    "    \n",
    "    print(\"\\nRegression Metrics:\")\n",
    "    print(f\"R² Score: {r2:.4f}\")\n",
    "    print(f\"MAE: {mae:.4f}\")\n",
    "    print(f\"RMSE: {rmse:.4f}\")\n",
    "    #print(f\"Accuracy (based on normalized MAE): {accuracy:.2f}%\")\n",
    "    \n",
    "    return r2, mae, rmse"
   ]
  },
  {
   "cell_type": "markdown",
   "metadata": {},
   "source": [
    "### Evaluate 3 Targets"
   ]
  },
  {
   "cell_type": "code",
   "execution_count": 37,
   "metadata": {},
   "outputs": [
    {
     "name": "stdout",
     "output_type": "stream",
     "text": [
      "\n",
      "Regression Metrics:\n",
      "R² Score: -138.3339\n",
      "MAE: 0.4604\n",
      "RMSE: 0.5136\n"
     ]
    },
    {
     "data": {
      "text/plain": [
       "(-138.333850793393, 0.4603605213449971, 0.5136448997458714)"
      ]
     },
     "execution_count": 37,
     "metadata": {},
     "output_type": "execute_result"
    }
   ],
   "source": [
    "evaluate_regression_lstm(y_test_orig, test_pred)"
   ]
  },
  {
   "cell_type": "markdown",
   "metadata": {},
   "source": []
  },
  {
   "cell_type": "markdown",
   "metadata": {},
   "source": [
    "## Plot Residuals - Actual vs Predicted"
   ]
  },
  {
   "cell_type": "code",
   "execution_count": 38,
   "metadata": {},
   "outputs": [
    {
     "data": {
      "image/png": "[encoded data removed]",
      "text/plain": [
       "<Figure size 1400x500 with 1 Axes>"
      ]
     },
     "metadata": {},
     "output_type": "display_data"
    }
   ],
   "source": [
    "import matplotlib.pyplot as plt\n",
    "\n",
    "def plot_actual_vs_predicted(y_true, y_pred, title='Actual vs Predicted'):\n",
    "    plt.figure(figsize=(14, 5))\n",
    "    plt.plot(y_true, label='Actual')\n",
    "    plt.plot(y_pred, label='Predicted')\n",
    "    plt.title(title)\n",
    "    plt.xlabel('Time')\n",
    "    plt.ylabel('Value')\n",
    "    plt.legend()\n",
    "    plt.show()\n",
    "\n",
    "# Assuming y_test and test_pred are defined\n",
    "plot_actual_vs_predicted(y_test_orig, test_pred)\n"
   ]
  },
  {
   "cell_type": "code",
   "execution_count": 39,
   "metadata": {},
   "outputs": [
    {
     "data": {
      "image/png": "[encoded data removed]",
      "text/plain": [
       "<Figure size 1400x500 with 1 Axes>"
      ]
     },
     "metadata": {},
     "output_type": "display_data"
    },
    {
     "ename": "",
     "evalue": "",
     "output_type": "error",
     "traceback": [
      "\u001b[1;31mThe Kernel crashed while executing code in the current cell or a previous cell. \n",
      "\u001b[1;31mPlease review the code in the cell(s) to identify a possible cause of the failure. \n",
      "\u001b[1;31mClick <a href='https://aka.ms/vscodeJupyterKernelCrash'>here</a> for more info. \n",
      "\u001b[1;31mView Jupyter <a href='command:jupyter.viewOutput'>log</a> for further details."
     ]
    }
   ],
   "source": [
    "def plot_residuals(y_true, y_pred, title='Residuals'):\n",
    "    residuals = y_true - y_pred\n",
    "    plt.figure(figsize=(14, 5))\n",
    "    plt.plot(residuals, label='Residuals')\n",
    "    plt.title(title)\n",
    "    plt.xlabel('Time')\n",
    "    plt.ylabel('Residual')\n",
    "    plt.legend()\n",
    "    plt.show()\n",
    "    \n",
    "    \n",
    "plot_residuals(y_test_orig, test_pred, title='Residuals')"
   ]
  },
  {
   "cell_type": "markdown",
   "metadata": {},
   "source": [
    "## Find Optimal Learning Rate "
   ]
  },
  {
   "cell_type": "markdown",
   "metadata": {},
   "source": [
    "### Find Optimal Learning Rate "
   ]
  },
  {
   "cell_type": "code",
   "execution_count": 35,
   "metadata": {},
   "outputs": [
    {
     "name": "stdout",
     "output_type": "stream",
     "text": [
      "WARNING:tensorflow:5 out of the last 130 calls to <function TensorFlowTrainer.make_train_function.<locals>.one_step_on_iterator at 0x7f7c4054f4c0> triggered tf.function retracing. Tracing is expensive and the excessive number of tracings could be due to (1) creating @tf.function repeatedly in a loop, (2) passing tensors with different shapes, (3) passing Python objects instead of tensors. For (1), please define your @tf.function outside of the loop. For (2), @tf.function has reduce_retracing=True option that can avoid unnecessary retracing. For (3), please refer to https://www.tensorflow.org/guide/function#controlling_retracing and https://www.tensorflow.org/api_docs/python/tf/function for  more details.\n",
      "WARNING:tensorflow:6 out of the last 131 calls to <function TensorFlowTrainer.make_train_function.<locals>.one_step_on_iterator at 0x7f7c4054f4c0> triggered tf.function retracing. Tracing is expensive and the excessive number of tracings could be due to (1) creating @tf.function repeatedly in a loop, (2) passing tensors with different shapes, (3) passing Python objects instead of tensors. For (1), please define your @tf.function outside of the loop. For (2), @tf.function has reduce_retracing=True option that can avoid unnecessary retracing. For (3), please refer to https://www.tensorflow.org/guide/function#controlling_retracing and https://www.tensorflow.org/api_docs/python/tf/function for  more details.\n"
     ]
    },
    {
     "ename": "KeyboardInterrupt",
     "evalue": "",
     "output_type": "error",
     "traceback": [
      "\u001b[0;31m---------------------------------------------------------------------------\u001b[0m",
      "\u001b[0;31mKeyboardInterrupt\u001b[0m                         Traceback (most recent call last)",
      "Cell \u001b[0;32mIn[35], line 13\u001b[0m\n\u001b[1;32m     10\u001b[0m     best_lr \u001b[38;5;241m=\u001b[39m lr_schedule[np\u001b[38;5;241m.\u001b[39margmin(losses)]\n\u001b[1;32m     11\u001b[0m     \u001b[38;5;28;01mreturn\u001b[39;00m best_lr\n\u001b[0;32m---> 13\u001b[0m \u001b[43mfind_optimal_lr\u001b[49m\u001b[43m(\u001b[49m\u001b[43mmodel\u001b[49m\u001b[43m,\u001b[49m\u001b[43m \u001b[49m\u001b[43mX_train\u001b[49m\u001b[43m,\u001b[49m\u001b[43m \u001b[49m\u001b[43my_train\u001b[49m\u001b[43m)\u001b[49m\n",
      "Cell \u001b[0;32mIn[35], line 7\u001b[0m, in \u001b[0;36mfind_optimal_lr\u001b[0;34m(model, X_train, y_train)\u001b[0m\n\u001b[1;32m      5\u001b[0m \u001b[38;5;28;01mfor\u001b[39;00m lr \u001b[38;5;129;01min\u001b[39;00m lr_schedule:\n\u001b[1;32m      6\u001b[0m     model\u001b[38;5;241m.\u001b[39moptimizer\u001b[38;5;241m.\u001b[39mlearning_rate\u001b[38;5;241m.\u001b[39massign(lr)\n\u001b[0;32m----> 7\u001b[0m     loss \u001b[38;5;241m=\u001b[39m \u001b[43mmodel\u001b[49m\u001b[38;5;241;43m.\u001b[39;49m\u001b[43mtrain_on_batch\u001b[49m\u001b[43m(\u001b[49m\u001b[43mX_train\u001b[49m\u001b[43m[\u001b[49m\u001b[43m:\u001b[49m\u001b[38;5;241;43m32\u001b[39;49m\u001b[43m]\u001b[49m\u001b[43m,\u001b[49m\u001b[43m \u001b[49m\u001b[43my_train\u001b[49m\u001b[43m[\u001b[49m\u001b[43m:\u001b[49m\u001b[38;5;241;43m32\u001b[39;49m\u001b[43m]\u001b[49m\u001b[43m)\u001b[49m\n\u001b[1;32m      8\u001b[0m     losses\u001b[38;5;241m.\u001b[39mappend(loss)\n\u001b[1;32m     10\u001b[0m best_lr \u001b[38;5;241m=\u001b[39m lr_schedule[np\u001b[38;5;241m.\u001b[39margmin(losses)]\n",
      "File \u001b[0;32m/usr/local/python/3.12.1/lib/python3.12/site-packages/keras/src/backend/tensorflow/trainer.py:549\u001b[0m, in \u001b[0;36mTensorFlowTrainer.train_on_batch\u001b[0;34m(self, x, y, sample_weight, class_weight, return_dict)\u001b[0m\n\u001b[1;32m    546\u001b[0m \u001b[38;5;28;01mdef\u001b[39;00m \u001b[38;5;21mdata\u001b[39m():\n\u001b[1;32m    547\u001b[0m     \u001b[38;5;28;01myield\u001b[39;00m (x, y, sample_weight)\n\u001b[0;32m--> 549\u001b[0m logs \u001b[38;5;241m=\u001b[39m \u001b[38;5;28;43mself\u001b[39;49m\u001b[38;5;241;43m.\u001b[39;49m\u001b[43mtrain_function\u001b[49m\u001b[43m(\u001b[49m\u001b[43mdata\u001b[49m\u001b[43m(\u001b[49m\u001b[43m)\u001b[49m\u001b[43m)\u001b[49m\n\u001b[1;32m    550\u001b[0m logs \u001b[38;5;241m=\u001b[39m tree\u001b[38;5;241m.\u001b[39mmap_structure(\u001b[38;5;28;01mlambda\u001b[39;00m x: np\u001b[38;5;241m.\u001b[39marray(x), logs)\n\u001b[1;32m    551\u001b[0m \u001b[38;5;28;01mif\u001b[39;00m return_dict:\n",
      "File \u001b[0;32m/usr/local/python/3.12.1/lib/python3.12/site-packages/tensorflow/python/util/traceback_utils.py:150\u001b[0m, in \u001b[0;36mfilter_traceback.<locals>.error_handler\u001b[0;34m(*args, **kwargs)\u001b[0m\n\u001b[1;32m    148\u001b[0m filtered_tb \u001b[38;5;241m=\u001b[39m \u001b[38;5;28;01mNone\u001b[39;00m\n\u001b[1;32m    149\u001b[0m \u001b[38;5;28;01mtry\u001b[39;00m:\n\u001b[0;32m--> 150\u001b[0m   \u001b[38;5;28;01mreturn\u001b[39;00m \u001b[43mfn\u001b[49m\u001b[43m(\u001b[49m\u001b[38;5;241;43m*\u001b[39;49m\u001b[43margs\u001b[49m\u001b[43m,\u001b[49m\u001b[43m \u001b[49m\u001b[38;5;241;43m*\u001b[39;49m\u001b[38;5;241;43m*\u001b[39;49m\u001b[43mkwargs\u001b[49m\u001b[43m)\u001b[49m\n\u001b[1;32m    151\u001b[0m \u001b[38;5;28;01mexcept\u001b[39;00m \u001b[38;5;167;01mException\u001b[39;00m \u001b[38;5;28;01mas\u001b[39;00m e:\n\u001b[1;32m    152\u001b[0m   filtered_tb \u001b[38;5;241m=\u001b[39m _process_traceback_frames(e\u001b[38;5;241m.\u001b[39m__traceback__)\n",
      "File \u001b[0;32m/usr/local/python/3.12.1/lib/python3.12/site-packages/tensorflow/python/eager/polymorphic_function/polymorphic_function.py:833\u001b[0m, in \u001b[0;36mFunction.__call__\u001b[0;34m(self, *args, **kwds)\u001b[0m\n\u001b[1;32m    830\u001b[0m compiler \u001b[38;5;241m=\u001b[39m \u001b[38;5;124m\"\u001b[39m\u001b[38;5;124mxla\u001b[39m\u001b[38;5;124m\"\u001b[39m \u001b[38;5;28;01mif\u001b[39;00m \u001b[38;5;28mself\u001b[39m\u001b[38;5;241m.\u001b[39m_jit_compile \u001b[38;5;28;01melse\u001b[39;00m \u001b[38;5;124m\"\u001b[39m\u001b[38;5;124mnonXla\u001b[39m\u001b[38;5;124m\"\u001b[39m\n\u001b[1;32m    832\u001b[0m \u001b[38;5;28;01mwith\u001b[39;00m OptionalXlaContext(\u001b[38;5;28mself\u001b[39m\u001b[38;5;241m.\u001b[39m_jit_compile):\n\u001b[0;32m--> 833\u001b[0m   result \u001b[38;5;241m=\u001b[39m \u001b[38;5;28;43mself\u001b[39;49m\u001b[38;5;241;43m.\u001b[39;49m\u001b[43m_call\u001b[49m\u001b[43m(\u001b[49m\u001b[38;5;241;43m*\u001b[39;49m\u001b[43margs\u001b[49m\u001b[43m,\u001b[49m\u001b[43m \u001b[49m\u001b[38;5;241;43m*\u001b[39;49m\u001b[38;5;241;43m*\u001b[39;49m\u001b[43mkwds\u001b[49m\u001b[43m)\u001b[49m\n\u001b[1;32m    835\u001b[0m new_tracing_count \u001b[38;5;241m=\u001b[39m \u001b[38;5;28mself\u001b[39m\u001b[38;5;241m.\u001b[39mexperimental_get_tracing_count()\n\u001b[1;32m    836\u001b[0m without_tracing \u001b[38;5;241m=\u001b[39m (tracing_count \u001b[38;5;241m==\u001b[39m new_tracing_count)\n",
      "File \u001b[0;32m/usr/local/python/3.12.1/lib/python3.12/site-packages/tensorflow/python/eager/polymorphic_function/polymorphic_function.py:878\u001b[0m, in \u001b[0;36mFunction._call\u001b[0;34m(self, *args, **kwds)\u001b[0m\n\u001b[1;32m    875\u001b[0m \u001b[38;5;28mself\u001b[39m\u001b[38;5;241m.\u001b[39m_lock\u001b[38;5;241m.\u001b[39mrelease()\n\u001b[1;32m    876\u001b[0m \u001b[38;5;66;03m# In this case we have not created variables on the first call. So we can\u001b[39;00m\n\u001b[1;32m    877\u001b[0m \u001b[38;5;66;03m# run the first trace but we should fail if variables are created.\u001b[39;00m\n\u001b[0;32m--> 878\u001b[0m results \u001b[38;5;241m=\u001b[39m \u001b[43mtracing_compilation\u001b[49m\u001b[38;5;241;43m.\u001b[39;49m\u001b[43mcall_function\u001b[49m\u001b[43m(\u001b[49m\n\u001b[1;32m    879\u001b[0m \u001b[43m    \u001b[49m\u001b[43margs\u001b[49m\u001b[43m,\u001b[49m\u001b[43m \u001b[49m\u001b[43mkwds\u001b[49m\u001b[43m,\u001b[49m\u001b[43m \u001b[49m\u001b[38;5;28;43mself\u001b[39;49m\u001b[38;5;241;43m.\u001b[39;49m\u001b[43m_variable_creation_config\u001b[49m\n\u001b[1;32m    880\u001b[0m \u001b[43m\u001b[49m\u001b[43m)\u001b[49m\n\u001b[1;32m    881\u001b[0m \u001b[38;5;28;01mif\u001b[39;00m \u001b[38;5;28mself\u001b[39m\u001b[38;5;241m.\u001b[39m_created_variables:\n\u001b[1;32m    882\u001b[0m   \u001b[38;5;28;01mraise\u001b[39;00m \u001b[38;5;167;01mValueError\u001b[39;00m(\u001b[38;5;124m\"\u001b[39m\u001b[38;5;124mCreating variables on a non-first call to a function\u001b[39m\u001b[38;5;124m\"\u001b[39m\n\u001b[1;32m    883\u001b[0m                    \u001b[38;5;124m\"\u001b[39m\u001b[38;5;124m decorated with tf.function.\u001b[39m\u001b[38;5;124m\"\u001b[39m)\n",
      "File \u001b[0;32m/usr/local/python/3.12.1/lib/python3.12/site-packages/tensorflow/python/eager/polymorphic_function/tracing_compilation.py:139\u001b[0m, in \u001b[0;36mcall_function\u001b[0;34m(args, kwargs, tracing_options)\u001b[0m\n\u001b[1;32m    137\u001b[0m bound_args \u001b[38;5;241m=\u001b[39m function\u001b[38;5;241m.\u001b[39mfunction_type\u001b[38;5;241m.\u001b[39mbind(\u001b[38;5;241m*\u001b[39margs, \u001b[38;5;241m*\u001b[39m\u001b[38;5;241m*\u001b[39mkwargs)\n\u001b[1;32m    138\u001b[0m flat_inputs \u001b[38;5;241m=\u001b[39m function\u001b[38;5;241m.\u001b[39mfunction_type\u001b[38;5;241m.\u001b[39munpack_inputs(bound_args)\n\u001b[0;32m--> 139\u001b[0m \u001b[38;5;28;01mreturn\u001b[39;00m \u001b[43mfunction\u001b[49m\u001b[38;5;241;43m.\u001b[39;49m\u001b[43m_call_flat\u001b[49m\u001b[43m(\u001b[49m\u001b[43m  \u001b[49m\u001b[38;5;66;43;03m# pylint: disable=protected-access\u001b[39;49;00m\n\u001b[1;32m    140\u001b[0m \u001b[43m    \u001b[49m\u001b[43mflat_inputs\u001b[49m\u001b[43m,\u001b[49m\u001b[43m \u001b[49m\u001b[43mcaptured_inputs\u001b[49m\u001b[38;5;241;43m=\u001b[39;49m\u001b[43mfunction\u001b[49m\u001b[38;5;241;43m.\u001b[39;49m\u001b[43mcaptured_inputs\u001b[49m\n\u001b[1;32m    141\u001b[0m \u001b[43m\u001b[49m\u001b[43m)\u001b[49m\n",
      "File \u001b[0;32m/usr/local/python/3.12.1/lib/python3.12/site-packages/tensorflow/python/eager/polymorphic_function/concrete_function.py:1322\u001b[0m, in \u001b[0;36mConcreteFunction._call_flat\u001b[0;34m(self, tensor_inputs, captured_inputs)\u001b[0m\n\u001b[1;32m   1318\u001b[0m possible_gradient_type \u001b[38;5;241m=\u001b[39m gradients_util\u001b[38;5;241m.\u001b[39mPossibleTapeGradientTypes(args)\n\u001b[1;32m   1319\u001b[0m \u001b[38;5;28;01mif\u001b[39;00m (possible_gradient_type \u001b[38;5;241m==\u001b[39m gradients_util\u001b[38;5;241m.\u001b[39mPOSSIBLE_GRADIENT_TYPES_NONE\n\u001b[1;32m   1320\u001b[0m     \u001b[38;5;129;01mand\u001b[39;00m executing_eagerly):\n\u001b[1;32m   1321\u001b[0m   \u001b[38;5;66;03m# No tape is watching; skip to running the function.\u001b[39;00m\n\u001b[0;32m-> 1322\u001b[0m   \u001b[38;5;28;01mreturn\u001b[39;00m \u001b[38;5;28;43mself\u001b[39;49m\u001b[38;5;241;43m.\u001b[39;49m\u001b[43m_inference_function\u001b[49m\u001b[38;5;241;43m.\u001b[39;49m\u001b[43mcall_preflattened\u001b[49m\u001b[43m(\u001b[49m\u001b[43margs\u001b[49m\u001b[43m)\u001b[49m\n\u001b[1;32m   1323\u001b[0m forward_backward \u001b[38;5;241m=\u001b[39m \u001b[38;5;28mself\u001b[39m\u001b[38;5;241m.\u001b[39m_select_forward_and_backward_functions(\n\u001b[1;32m   1324\u001b[0m     args,\n\u001b[1;32m   1325\u001b[0m     possible_gradient_type,\n\u001b[1;32m   1326\u001b[0m     executing_eagerly)\n\u001b[1;32m   1327\u001b[0m forward_function, args_with_tangents \u001b[38;5;241m=\u001b[39m forward_backward\u001b[38;5;241m.\u001b[39mforward()\n",
      "File \u001b[0;32m/usr/local/python/3.12.1/lib/python3.12/site-packages/tensorflow/python/eager/polymorphic_function/atomic_function.py:216\u001b[0m, in \u001b[0;36mAtomicFunction.call_preflattened\u001b[0;34m(self, args)\u001b[0m\n\u001b[1;32m    214\u001b[0m \u001b[38;5;28;01mdef\u001b[39;00m \u001b[38;5;21mcall_preflattened\u001b[39m(\u001b[38;5;28mself\u001b[39m, args: Sequence[core\u001b[38;5;241m.\u001b[39mTensor]) \u001b[38;5;241m-\u001b[39m\u001b[38;5;241m>\u001b[39m Any:\n\u001b[1;32m    215\u001b[0m \u001b[38;5;250m  \u001b[39m\u001b[38;5;124;03m\"\"\"Calls with flattened tensor inputs and returns the structured output.\"\"\"\u001b[39;00m\n\u001b[0;32m--> 216\u001b[0m   flat_outputs \u001b[38;5;241m=\u001b[39m \u001b[38;5;28;43mself\u001b[39;49m\u001b[38;5;241;43m.\u001b[39;49m\u001b[43mcall_flat\u001b[49m\u001b[43m(\u001b[49m\u001b[38;5;241;43m*\u001b[39;49m\u001b[43margs\u001b[49m\u001b[43m)\u001b[49m\n\u001b[1;32m    217\u001b[0m   \u001b[38;5;28;01mreturn\u001b[39;00m \u001b[38;5;28mself\u001b[39m\u001b[38;5;241m.\u001b[39mfunction_type\u001b[38;5;241m.\u001b[39mpack_output(flat_outputs)\n",
      "File \u001b[0;32m/usr/local/python/3.12.1/lib/python3.12/site-packages/tensorflow/python/eager/polymorphic_function/atomic_function.py:251\u001b[0m, in \u001b[0;36mAtomicFunction.call_flat\u001b[0;34m(self, *args)\u001b[0m\n\u001b[1;32m    249\u001b[0m \u001b[38;5;28;01mwith\u001b[39;00m record\u001b[38;5;241m.\u001b[39mstop_recording():\n\u001b[1;32m    250\u001b[0m   \u001b[38;5;28;01mif\u001b[39;00m \u001b[38;5;28mself\u001b[39m\u001b[38;5;241m.\u001b[39m_bound_context\u001b[38;5;241m.\u001b[39mexecuting_eagerly():\n\u001b[0;32m--> 251\u001b[0m     outputs \u001b[38;5;241m=\u001b[39m \u001b[38;5;28;43mself\u001b[39;49m\u001b[38;5;241;43m.\u001b[39;49m\u001b[43m_bound_context\u001b[49m\u001b[38;5;241;43m.\u001b[39;49m\u001b[43mcall_function\u001b[49m\u001b[43m(\u001b[49m\n\u001b[1;32m    252\u001b[0m \u001b[43m        \u001b[49m\u001b[38;5;28;43mself\u001b[39;49m\u001b[38;5;241;43m.\u001b[39;49m\u001b[43mname\u001b[49m\u001b[43m,\u001b[49m\n\u001b[1;32m    253\u001b[0m \u001b[43m        \u001b[49m\u001b[38;5;28;43mlist\u001b[39;49m\u001b[43m(\u001b[49m\u001b[43margs\u001b[49m\u001b[43m)\u001b[49m\u001b[43m,\u001b[49m\n\u001b[1;32m    254\u001b[0m \u001b[43m        \u001b[49m\u001b[38;5;28;43mlen\u001b[39;49m\u001b[43m(\u001b[49m\u001b[38;5;28;43mself\u001b[39;49m\u001b[38;5;241;43m.\u001b[39;49m\u001b[43mfunction_type\u001b[49m\u001b[38;5;241;43m.\u001b[39;49m\u001b[43mflat_outputs\u001b[49m\u001b[43m)\u001b[49m\u001b[43m,\u001b[49m\n\u001b[1;32m    255\u001b[0m \u001b[43m    \u001b[49m\u001b[43m)\u001b[49m\n\u001b[1;32m    256\u001b[0m   \u001b[38;5;28;01melse\u001b[39;00m:\n\u001b[1;32m    257\u001b[0m     outputs \u001b[38;5;241m=\u001b[39m make_call_op_in_graph(\n\u001b[1;32m    258\u001b[0m         \u001b[38;5;28mself\u001b[39m,\n\u001b[1;32m    259\u001b[0m         \u001b[38;5;28mlist\u001b[39m(args),\n\u001b[1;32m    260\u001b[0m         \u001b[38;5;28mself\u001b[39m\u001b[38;5;241m.\u001b[39m_bound_context\u001b[38;5;241m.\u001b[39mfunction_call_options\u001b[38;5;241m.\u001b[39mas_attrs(),\n\u001b[1;32m    261\u001b[0m     )\n",
      "File \u001b[0;32m/usr/local/python/3.12.1/lib/python3.12/site-packages/tensorflow/python/eager/context.py:1552\u001b[0m, in \u001b[0;36mContext.call_function\u001b[0;34m(self, name, tensor_inputs, num_outputs)\u001b[0m\n\u001b[1;32m   1550\u001b[0m cancellation_context \u001b[38;5;241m=\u001b[39m cancellation\u001b[38;5;241m.\u001b[39mcontext()\n\u001b[1;32m   1551\u001b[0m \u001b[38;5;28;01mif\u001b[39;00m cancellation_context \u001b[38;5;129;01mis\u001b[39;00m \u001b[38;5;28;01mNone\u001b[39;00m:\n\u001b[0;32m-> 1552\u001b[0m   outputs \u001b[38;5;241m=\u001b[39m \u001b[43mexecute\u001b[49m\u001b[38;5;241;43m.\u001b[39;49m\u001b[43mexecute\u001b[49m\u001b[43m(\u001b[49m\n\u001b[1;32m   1553\u001b[0m \u001b[43m      \u001b[49m\u001b[43mname\u001b[49m\u001b[38;5;241;43m.\u001b[39;49m\u001b[43mdecode\u001b[49m\u001b[43m(\u001b[49m\u001b[38;5;124;43m\"\u001b[39;49m\u001b[38;5;124;43mutf-8\u001b[39;49m\u001b[38;5;124;43m\"\u001b[39;49m\u001b[43m)\u001b[49m\u001b[43m,\u001b[49m\n\u001b[1;32m   1554\u001b[0m \u001b[43m      \u001b[49m\u001b[43mnum_outputs\u001b[49m\u001b[38;5;241;43m=\u001b[39;49m\u001b[43mnum_outputs\u001b[49m\u001b[43m,\u001b[49m\n\u001b[1;32m   1555\u001b[0m \u001b[43m      \u001b[49m\u001b[43minputs\u001b[49m\u001b[38;5;241;43m=\u001b[39;49m\u001b[43mtensor_inputs\u001b[49m\u001b[43m,\u001b[49m\n\u001b[1;32m   1556\u001b[0m \u001b[43m      \u001b[49m\u001b[43mattrs\u001b[49m\u001b[38;5;241;43m=\u001b[39;49m\u001b[43mattrs\u001b[49m\u001b[43m,\u001b[49m\n\u001b[1;32m   1557\u001b[0m \u001b[43m      \u001b[49m\u001b[43mctx\u001b[49m\u001b[38;5;241;43m=\u001b[39;49m\u001b[38;5;28;43mself\u001b[39;49m\u001b[43m,\u001b[49m\n\u001b[1;32m   1558\u001b[0m \u001b[43m  \u001b[49m\u001b[43m)\u001b[49m\n\u001b[1;32m   1559\u001b[0m \u001b[38;5;28;01melse\u001b[39;00m:\n\u001b[1;32m   1560\u001b[0m   outputs \u001b[38;5;241m=\u001b[39m execute\u001b[38;5;241m.\u001b[39mexecute_with_cancellation(\n\u001b[1;32m   1561\u001b[0m       name\u001b[38;5;241m.\u001b[39mdecode(\u001b[38;5;124m\"\u001b[39m\u001b[38;5;124mutf-8\u001b[39m\u001b[38;5;124m\"\u001b[39m),\n\u001b[1;32m   1562\u001b[0m       num_outputs\u001b[38;5;241m=\u001b[39mnum_outputs,\n\u001b[0;32m   (...)\u001b[0m\n\u001b[1;32m   1566\u001b[0m       cancellation_manager\u001b[38;5;241m=\u001b[39mcancellation_context,\n\u001b[1;32m   1567\u001b[0m   )\n",
      "File \u001b[0;32m/usr/local/python/3.12.1/lib/python3.12/site-packages/tensorflow/python/eager/execute.py:53\u001b[0m, in \u001b[0;36mquick_execute\u001b[0;34m(op_name, num_outputs, inputs, attrs, ctx, name)\u001b[0m\n\u001b[1;32m     51\u001b[0m \u001b[38;5;28;01mtry\u001b[39;00m:\n\u001b[1;32m     52\u001b[0m   ctx\u001b[38;5;241m.\u001b[39mensure_initialized()\n\u001b[0;32m---> 53\u001b[0m   tensors \u001b[38;5;241m=\u001b[39m \u001b[43mpywrap_tfe\u001b[49m\u001b[38;5;241;43m.\u001b[39;49m\u001b[43mTFE_Py_Execute\u001b[49m\u001b[43m(\u001b[49m\u001b[43mctx\u001b[49m\u001b[38;5;241;43m.\u001b[39;49m\u001b[43m_handle\u001b[49m\u001b[43m,\u001b[49m\u001b[43m \u001b[49m\u001b[43mdevice_name\u001b[49m\u001b[43m,\u001b[49m\u001b[43m \u001b[49m\u001b[43mop_name\u001b[49m\u001b[43m,\u001b[49m\n\u001b[1;32m     54\u001b[0m \u001b[43m                                      \u001b[49m\u001b[43minputs\u001b[49m\u001b[43m,\u001b[49m\u001b[43m \u001b[49m\u001b[43mattrs\u001b[49m\u001b[43m,\u001b[49m\u001b[43m \u001b[49m\u001b[43mnum_outputs\u001b[49m\u001b[43m)\u001b[49m\n\u001b[1;32m     55\u001b[0m \u001b[38;5;28;01mexcept\u001b[39;00m core\u001b[38;5;241m.\u001b[39m_NotOkStatusException \u001b[38;5;28;01mas\u001b[39;00m e:\n\u001b[1;32m     56\u001b[0m   \u001b[38;5;28;01mif\u001b[39;00m name \u001b[38;5;129;01mis\u001b[39;00m \u001b[38;5;129;01mnot\u001b[39;00m \u001b[38;5;28;01mNone\u001b[39;00m:\n",
      "\u001b[0;31mKeyboardInterrupt\u001b[0m: "
     ]
    }
   ],
   "source": [
    "def find_optimal_lr(model, X_train, y_train):\n",
    "    lr_schedule = np.logspace(-4, -2, 100)  # Test from 0.0001 to 0.01\n",
    "    losses = []\n",
    "    \n",
    "    for lr in lr_schedule:\n",
    "        model.optimizer.learning_rate.assign(lr)\n",
    "        loss = model.train_on_batch(X_train[:32], y_train[:32])\n",
    "        losses.append(loss)\n",
    "        \n",
    "    best_lr = lr_schedule[np.argmin(losses)]\n",
    "    return best_lr\n",
    "\n",
    "find_optimal_lr(model, X_train, y_train)"
   ]
  },
  {
   "cell_type": "code",
   "execution_count": null,
   "metadata": {},
   "outputs": [],
   "source": []
  }
 ],
 "metadata": {
  "kernelspec": {
   "display_name": "Python 3",
   "language": "python",
   "name": "python3"
  },
  "language_info": {
   "codemirror_mode": {
    "name": "ipython",
    "version": 3
   },
   "file_extension": ".py",
   "mimetype": "text/x-python",
   "name": "python",
   "nbconvert_exporter": "python",
   "pygments_lexer": "ipython3",
   "version": "3.12.1"
  }
 },
 "nbformat": 4,
 "nbformat_minor": 2
}
