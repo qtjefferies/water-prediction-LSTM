{
 "cells": [
  {
   "cell_type": "code",
   "execution_count": 1,
   "metadata": {},
   "outputs": [
    {
     "name": "stderr",
     "output_type": "stream",
     "text": [
      "2024-11-12 16:46:20.201885: I external/local_xla/xla/tsl/cuda/cudart_stub.cc:32] Could not find cuda drivers on your machine, GPU will not be used.\n",
      "2024-11-12 16:46:20.204936: I external/local_xla/xla/tsl/cuda/cudart_stub.cc:32] Could not find cuda drivers on your machine, GPU will not be used.\n",
      "2024-11-12 16:46:20.213818: E external/local_xla/xla/stream_executor/cuda/cuda_fft.cc:485] Unable to register cuFFT factory: Attempting to register factory for plugin cuFFT when one has already been registered\n",
      "2024-11-12 16:46:20.227957: E external/local_xla/xla/stream_executor/cuda/cuda_dnn.cc:8454] Unable to register cuDNN factory: Attempting to register factory for plugin cuDNN when one has already been registered\n",
      "2024-11-12 16:46:20.232148: E external/local_xla/xla/stream_executor/cuda/cuda_blas.cc:1452] Unable to register cuBLAS factory: Attempting to register factory for plugin cuBLAS when one has already been registered\n",
      "2024-11-12 16:46:20.243945: I tensorflow/core/platform/cpu_feature_guard.cc:210] This TensorFlow binary is optimized to use available CPU instructions in performance-critical operations.\n",
      "To enable the following instructions: AVX2 FMA, in other operations, rebuild TensorFlow with the appropriate compiler flags.\n",
      "2024-11-12 16:46:21.915646: W tensorflow/compiler/tf2tensorrt/utils/py_utils.cc:38] TF-TRT Warning: Could not find TensorRT\n"
     ]
    }
   ],
   "source": [
    "import pandas as pd\n",
    "from datetime import datetime\n",
    "from sklearn.preprocessing import MinMaxScaler\n",
    "from tensorflow.keras.optimizers import Adam\n",
    "from tensorflow.keras.models import Sequential\n",
    "from tensorflow.keras.layers import LSTM, Dense, Dropout\n",
    "from sklearn.metrics import r2_score, mean_absolute_error, mean_squared_error\n",
    "from tensorflow.keras.callbacks import EarlyStopping\n",
    "\n"
   ]
  },
  {
   "cell_type": "markdown",
   "metadata": {},
   "source": [
    "### Import Data"
   ]
  },
  {
   "cell_type": "code",
   "execution_count": 2,
   "metadata": {},
   "outputs": [
    {
     "data": {
      "text/html": [
       "<div>\n",
       "<style scoped>\n",
       "    .dataframe tbody tr th:only-of-type {\n",
       "        vertical-align: middle;\n",
       "    }\n",
       "\n",
       "    .dataframe tbody tr th {\n",
       "        vertical-align: top;\n",
       "    }\n",
       "\n",
       "    .dataframe thead th {\n",
       "        text-align: right;\n",
       "    }\n",
       "</style>\n",
       "<table border=\"1\" class=\"dataframe\">\n",
       "  <thead>\n",
       "    <tr style=\"text-align: right;\">\n",
       "      <th></th>\n",
       "      <th>Date</th>\n",
       "      <th>Rainfall_Le_Croci</th>\n",
       "      <th>Rainfall_Cavallina</th>\n",
       "      <th>Rainfall_S_Agata</th>\n",
       "      <th>Rainfall_Mangona</th>\n",
       "      <th>Rainfall_S_Piero</th>\n",
       "      <th>Rainfall_Vernio</th>\n",
       "      <th>Rainfall_Stia</th>\n",
       "      <th>Rainfall_Consuma</th>\n",
       "      <th>Rainfall_Incisa</th>\n",
       "      <th>Rainfall_Montevarchi</th>\n",
       "      <th>Rainfall_S_Savino</th>\n",
       "      <th>Rainfall_Laterina</th>\n",
       "      <th>Rainfall_Bibbiena</th>\n",
       "      <th>Rainfall_Camaldoli</th>\n",
       "      <th>Temperature_Firenze</th>\n",
       "      <th>Hydrometry_Nave_di_Rosano</th>\n",
       "    </tr>\n",
       "  </thead>\n",
       "  <tbody>\n",
       "    <tr>\n",
       "      <th>0</th>\n",
       "      <td>01/01/1998</td>\n",
       "      <td>NaN</td>\n",
       "      <td>NaN</td>\n",
       "      <td>NaN</td>\n",
       "      <td>NaN</td>\n",
       "      <td>NaN</td>\n",
       "      <td>NaN</td>\n",
       "      <td>NaN</td>\n",
       "      <td>NaN</td>\n",
       "      <td>NaN</td>\n",
       "      <td>NaN</td>\n",
       "      <td>NaN</td>\n",
       "      <td>NaN</td>\n",
       "      <td>NaN</td>\n",
       "      <td>NaN</td>\n",
       "      <td>NaN</td>\n",
       "      <td>1.82</td>\n",
       "    </tr>\n",
       "    <tr>\n",
       "      <th>1</th>\n",
       "      <td>02/01/1998</td>\n",
       "      <td>NaN</td>\n",
       "      <td>NaN</td>\n",
       "      <td>NaN</td>\n",
       "      <td>NaN</td>\n",
       "      <td>NaN</td>\n",
       "      <td>NaN</td>\n",
       "      <td>NaN</td>\n",
       "      <td>NaN</td>\n",
       "      <td>NaN</td>\n",
       "      <td>NaN</td>\n",
       "      <td>NaN</td>\n",
       "      <td>NaN</td>\n",
       "      <td>NaN</td>\n",
       "      <td>NaN</td>\n",
       "      <td>NaN</td>\n",
       "      <td>1.94</td>\n",
       "    </tr>\n",
       "    <tr>\n",
       "      <th>2</th>\n",
       "      <td>03/01/1998</td>\n",
       "      <td>NaN</td>\n",
       "      <td>NaN</td>\n",
       "      <td>NaN</td>\n",
       "      <td>NaN</td>\n",
       "      <td>NaN</td>\n",
       "      <td>NaN</td>\n",
       "      <td>NaN</td>\n",
       "      <td>NaN</td>\n",
       "      <td>NaN</td>\n",
       "      <td>NaN</td>\n",
       "      <td>NaN</td>\n",
       "      <td>NaN</td>\n",
       "      <td>NaN</td>\n",
       "      <td>NaN</td>\n",
       "      <td>NaN</td>\n",
       "      <td>2.11</td>\n",
       "    </tr>\n",
       "    <tr>\n",
       "      <th>3</th>\n",
       "      <td>04/01/1998</td>\n",
       "      <td>NaN</td>\n",
       "      <td>NaN</td>\n",
       "      <td>NaN</td>\n",
       "      <td>NaN</td>\n",
       "      <td>NaN</td>\n",
       "      <td>NaN</td>\n",
       "      <td>NaN</td>\n",
       "      <td>NaN</td>\n",
       "      <td>NaN</td>\n",
       "      <td>NaN</td>\n",
       "      <td>NaN</td>\n",
       "      <td>NaN</td>\n",
       "      <td>NaN</td>\n",
       "      <td>NaN</td>\n",
       "      <td>NaN</td>\n",
       "      <td>1.84</td>\n",
       "    </tr>\n",
       "    <tr>\n",
       "      <th>4</th>\n",
       "      <td>05/01/1998</td>\n",
       "      <td>NaN</td>\n",
       "      <td>NaN</td>\n",
       "      <td>NaN</td>\n",
       "      <td>NaN</td>\n",
       "      <td>NaN</td>\n",
       "      <td>NaN</td>\n",
       "      <td>NaN</td>\n",
       "      <td>NaN</td>\n",
       "      <td>NaN</td>\n",
       "      <td>NaN</td>\n",
       "      <td>NaN</td>\n",
       "      <td>NaN</td>\n",
       "      <td>NaN</td>\n",
       "      <td>NaN</td>\n",
       "      <td>NaN</td>\n",
       "      <td>1.88</td>\n",
       "    </tr>\n",
       "  </tbody>\n",
       "</table>\n",
       "</div>"
      ],
      "text/plain": [
       "         Date  Rainfall_Le_Croci  Rainfall_Cavallina  Rainfall_S_Agata  \\\n",
       "0  01/01/1998                NaN                 NaN               NaN   \n",
       "1  02/01/1998                NaN                 NaN               NaN   \n",
       "2  03/01/1998                NaN                 NaN               NaN   \n",
       "3  04/01/1998                NaN                 NaN               NaN   \n",
       "4  05/01/1998                NaN                 NaN               NaN   \n",
       "\n",
       "   Rainfall_Mangona  Rainfall_S_Piero  Rainfall_Vernio  Rainfall_Stia  \\\n",
       "0               NaN               NaN              NaN            NaN   \n",
       "1               NaN               NaN              NaN            NaN   \n",
       "2               NaN               NaN              NaN            NaN   \n",
       "3               NaN               NaN              NaN            NaN   \n",
       "4               NaN               NaN              NaN            NaN   \n",
       "\n",
       "   Rainfall_Consuma  Rainfall_Incisa  Rainfall_Montevarchi  Rainfall_S_Savino  \\\n",
       "0               NaN              NaN                   NaN                NaN   \n",
       "1               NaN              NaN                   NaN                NaN   \n",
       "2               NaN              NaN                   NaN                NaN   \n",
       "3               NaN              NaN                   NaN                NaN   \n",
       "4               NaN              NaN                   NaN                NaN   \n",
       "\n",
       "   Rainfall_Laterina  Rainfall_Bibbiena  Rainfall_Camaldoli  \\\n",
       "0                NaN                NaN                 NaN   \n",
       "1                NaN                NaN                 NaN   \n",
       "2                NaN                NaN                 NaN   \n",
       "3                NaN                NaN                 NaN   \n",
       "4                NaN                NaN                 NaN   \n",
       "\n",
       "   Temperature_Firenze  Hydrometry_Nave_di_Rosano  \n",
       "0                  NaN                       1.82  \n",
       "1                  NaN                       1.94  \n",
       "2                  NaN                       2.11  \n",
       "3                  NaN                       1.84  \n",
       "4                  NaN                       1.88  "
      ]
     },
     "execution_count": 2,
     "metadata": {},
     "output_type": "execute_result"
    }
   ],
   "source": [
    "import pandas as pd\n",
    "\n",
    "river_df = pd.read_csv('/workspaces/time-series-project-tutorial/acea-water-prediction/River_Arno.csv')\n",
    "river_df.head()"
   ]
  },
  {
   "cell_type": "code",
   "execution_count": 3,
   "metadata": {},
   "outputs": [
    {
     "name": "stdout",
     "output_type": "stream",
     "text": [
      "            Date  Rainfall_Le_Croci  Rainfall_Cavallina  Rainfall_S_Agata  \\\n",
      "2191  01/01/2004                0.0                 0.0               0.4   \n",
      "2192  02/01/2004                0.0                 0.0               0.0   \n",
      "2193  03/01/2004                0.0                 0.0               0.0   \n",
      "2194  04/01/2004                0.0                 0.0               0.0   \n",
      "2195  05/01/2004                0.0                 0.0               0.0   \n",
      "...          ...                ...                 ...               ...   \n",
      "3469  02/07/2007                0.0                 0.0               0.0   \n",
      "3470  03/07/2007                0.0                 0.0               0.0   \n",
      "3471  04/07/2007                0.0                 0.0               0.8   \n",
      "3472  05/07/2007                0.0                 0.0               0.0   \n",
      "3473  06/07/2007                0.0                 0.0               0.0   \n",
      "\n",
      "      Rainfall_Mangona  Rainfall_S_Piero  Rainfall_Vernio  Rainfall_Stia  \\\n",
      "2191               0.0               0.0              0.0            0.0   \n",
      "2192               0.0               0.0              0.0            0.0   \n",
      "2193               0.0               0.0              0.0            0.2   \n",
      "2194               0.0               0.0              0.0            0.0   \n",
      "2195               0.0               0.2              0.0            0.0   \n",
      "...                ...               ...              ...            ...   \n",
      "3469               0.0               0.0              0.0            0.0   \n",
      "3470               0.0               0.0              0.0            0.0   \n",
      "3471               1.0               0.0              0.8            0.0   \n",
      "3472               0.0               0.0              0.0            0.0   \n",
      "3473               0.0               0.0              0.0            0.2   \n",
      "\n",
      "      Rainfall_Consuma  Rainfall_Incisa  Rainfall_Montevarchi  \\\n",
      "2191               0.0              0.0                   0.2   \n",
      "2192               0.0              0.0                   0.0   \n",
      "2193               0.0              0.0                   0.0   \n",
      "2194               0.0              0.0                   0.0   \n",
      "2195               0.0              0.0                   0.0   \n",
      "...                ...              ...                   ...   \n",
      "3469               0.0              0.0                   0.0   \n",
      "3470               0.0              0.0                   0.0   \n",
      "3471               0.0              0.0                   0.0   \n",
      "3472               0.0              0.0                   0.0   \n",
      "3473               0.0              0.0                   0.0   \n",
      "\n",
      "      Rainfall_S_Savino  Rainfall_Laterina  Rainfall_Bibbiena  \\\n",
      "2191                0.0                0.0                0.0   \n",
      "2192                0.2                0.0                0.0   \n",
      "2193                0.0                0.0                0.2   \n",
      "2194                0.0                0.0                0.0   \n",
      "2195                0.0                0.0                0.0   \n",
      "...                 ...                ...                ...   \n",
      "3469                0.0                0.0                0.0   \n",
      "3470                0.0                0.0                0.0   \n",
      "3471                0.0                0.0                0.0   \n",
      "3472                0.0                0.0                0.0   \n",
      "3473                0.0                0.0                0.0   \n",
      "\n",
      "      Rainfall_Camaldoli  Temperature_Firenze  Hydrometry_Nave_di_Rosano  \n",
      "2191                 0.0                 8.65                       1.84  \n",
      "2192                 0.0                 7.10                       1.93  \n",
      "2193                 0.0                 5.50                       1.61  \n",
      "2194                 0.0                 3.55                       1.35  \n",
      "2195                 0.0                 2.70                       1.44  \n",
      "...                  ...                  ...                        ...  \n",
      "3469                 0.0                23.80                       0.99  \n",
      "3470                 0.0                23.15                       1.01  \n",
      "3471                 0.0                21.60                       1.03  \n",
      "3472                 0.0                21.90                       1.02  \n",
      "3473                 5.0                22.20                       1.04  \n",
      "\n",
      "[1276 rows x 17 columns]\n"
     ]
    }
   ],
   "source": [
    "river_df.isnull().sum()\n",
    "river_df = river_df.dropna()\n",
    "print(river_df)"
   ]
  },
  {
   "cell_type": "markdown",
   "metadata": {},
   "source": [
    "### Format Time Series Date Field"
   ]
  },
  {
   "cell_type": "code",
   "execution_count": 4,
   "metadata": {},
   "outputs": [
    {
     "name": "stdout",
     "output_type": "stream",
     "text": [
      "2191    01/01/2004\n",
      "2192    01/02/2004\n",
      "2193    01/03/2004\n",
      "2194    01/04/2004\n",
      "2195    01/05/2004\n",
      "           ...    \n",
      "3469    07/02/2007\n",
      "3470    07/03/2007\n",
      "3471    07/04/2007\n",
      "3472    07/05/2007\n",
      "3473    07/06/2007\n",
      "Name: formatted_date, Length: 1276, dtype: object\n"
     ]
    }
   ],
   "source": [
    "from datetime import datetime\n",
    "\n",
    "original_date = river_df['Date']\n",
    "parsed_date = original_date.apply(lambda x: datetime.strptime(x, \"%d/%m/%Y\"))\n",
    "\n",
    "# Format to mm/dd/yyyy\n",
    "river_df['formatted_date'] = pd.to_datetime(river_df['Date'], format=\"%d/%m/%Y\").dt.strftime(\"%m/%d/%Y\")\n",
    "\n",
    "print(river_df['formatted_date'])\n"
   ]
  },
  {
   "cell_type": "code",
   "execution_count": 5,
   "metadata": {},
   "outputs": [
    {
     "data": {
      "text/html": [
       "<div>\n",
       "<style scoped>\n",
       "    .dataframe tbody tr th:only-of-type {\n",
       "        vertical-align: middle;\n",
       "    }\n",
       "\n",
       "    .dataframe tbody tr th {\n",
       "        vertical-align: top;\n",
       "    }\n",
       "\n",
       "    .dataframe thead th {\n",
       "        text-align: right;\n",
       "    }\n",
       "</style>\n",
       "<table border=\"1\" class=\"dataframe\">\n",
       "  <thead>\n",
       "    <tr style=\"text-align: right;\">\n",
       "      <th></th>\n",
       "      <th>Rainfall_Le_Croci</th>\n",
       "      <th>Rainfall_Cavallina</th>\n",
       "      <th>Rainfall_S_Agata</th>\n",
       "      <th>Rainfall_Mangona</th>\n",
       "      <th>Rainfall_S_Piero</th>\n",
       "      <th>Rainfall_Vernio</th>\n",
       "      <th>Rainfall_Stia</th>\n",
       "      <th>Rainfall_Consuma</th>\n",
       "      <th>Rainfall_Incisa</th>\n",
       "      <th>Rainfall_Montevarchi</th>\n",
       "      <th>Rainfall_S_Savino</th>\n",
       "      <th>Rainfall_Laterina</th>\n",
       "      <th>Rainfall_Bibbiena</th>\n",
       "      <th>Rainfall_Camaldoli</th>\n",
       "      <th>Temperature_Firenze</th>\n",
       "      <th>Hydrometry_Nave_di_Rosano</th>\n",
       "    </tr>\n",
       "    <tr>\n",
       "      <th>formatted_date</th>\n",
       "      <th></th>\n",
       "      <th></th>\n",
       "      <th></th>\n",
       "      <th></th>\n",
       "      <th></th>\n",
       "      <th></th>\n",
       "      <th></th>\n",
       "      <th></th>\n",
       "      <th></th>\n",
       "      <th></th>\n",
       "      <th></th>\n",
       "      <th></th>\n",
       "      <th></th>\n",
       "      <th></th>\n",
       "      <th></th>\n",
       "      <th></th>\n",
       "    </tr>\n",
       "  </thead>\n",
       "  <tbody>\n",
       "    <tr>\n",
       "      <th>01/01/2004</th>\n",
       "      <td>0.0</td>\n",
       "      <td>0.0</td>\n",
       "      <td>0.4</td>\n",
       "      <td>0.0</td>\n",
       "      <td>0.0</td>\n",
       "      <td>0.0</td>\n",
       "      <td>0.0</td>\n",
       "      <td>0.0</td>\n",
       "      <td>0.0</td>\n",
       "      <td>0.2</td>\n",
       "      <td>0.0</td>\n",
       "      <td>0.0</td>\n",
       "      <td>0.0</td>\n",
       "      <td>0.0</td>\n",
       "      <td>8.65</td>\n",
       "      <td>1.84</td>\n",
       "    </tr>\n",
       "    <tr>\n",
       "      <th>01/02/2004</th>\n",
       "      <td>0.0</td>\n",
       "      <td>0.0</td>\n",
       "      <td>0.0</td>\n",
       "      <td>0.0</td>\n",
       "      <td>0.0</td>\n",
       "      <td>0.0</td>\n",
       "      <td>0.0</td>\n",
       "      <td>0.0</td>\n",
       "      <td>0.0</td>\n",
       "      <td>0.0</td>\n",
       "      <td>0.2</td>\n",
       "      <td>0.0</td>\n",
       "      <td>0.0</td>\n",
       "      <td>0.0</td>\n",
       "      <td>7.10</td>\n",
       "      <td>1.93</td>\n",
       "    </tr>\n",
       "    <tr>\n",
       "      <th>01/03/2004</th>\n",
       "      <td>0.0</td>\n",
       "      <td>0.0</td>\n",
       "      <td>0.0</td>\n",
       "      <td>0.0</td>\n",
       "      <td>0.0</td>\n",
       "      <td>0.0</td>\n",
       "      <td>0.2</td>\n",
       "      <td>0.0</td>\n",
       "      <td>0.0</td>\n",
       "      <td>0.0</td>\n",
       "      <td>0.0</td>\n",
       "      <td>0.0</td>\n",
       "      <td>0.2</td>\n",
       "      <td>0.0</td>\n",
       "      <td>5.50</td>\n",
       "      <td>1.61</td>\n",
       "    </tr>\n",
       "    <tr>\n",
       "      <th>01/04/2004</th>\n",
       "      <td>0.0</td>\n",
       "      <td>0.0</td>\n",
       "      <td>0.0</td>\n",
       "      <td>0.0</td>\n",
       "      <td>0.0</td>\n",
       "      <td>0.0</td>\n",
       "      <td>0.0</td>\n",
       "      <td>0.0</td>\n",
       "      <td>0.0</td>\n",
       "      <td>0.0</td>\n",
       "      <td>0.0</td>\n",
       "      <td>0.0</td>\n",
       "      <td>0.0</td>\n",
       "      <td>0.0</td>\n",
       "      <td>3.55</td>\n",
       "      <td>1.35</td>\n",
       "    </tr>\n",
       "    <tr>\n",
       "      <th>01/05/2004</th>\n",
       "      <td>0.0</td>\n",
       "      <td>0.0</td>\n",
       "      <td>0.0</td>\n",
       "      <td>0.0</td>\n",
       "      <td>0.2</td>\n",
       "      <td>0.0</td>\n",
       "      <td>0.0</td>\n",
       "      <td>0.0</td>\n",
       "      <td>0.0</td>\n",
       "      <td>0.0</td>\n",
       "      <td>0.0</td>\n",
       "      <td>0.0</td>\n",
       "      <td>0.0</td>\n",
       "      <td>0.0</td>\n",
       "      <td>2.70</td>\n",
       "      <td>1.44</td>\n",
       "    </tr>\n",
       "  </tbody>\n",
       "</table>\n",
       "</div>"
      ],
      "text/plain": [
       "                Rainfall_Le_Croci  Rainfall_Cavallina  Rainfall_S_Agata  \\\n",
       "formatted_date                                                            \n",
       "01/01/2004                    0.0                 0.0               0.4   \n",
       "01/02/2004                    0.0                 0.0               0.0   \n",
       "01/03/2004                    0.0                 0.0               0.0   \n",
       "01/04/2004                    0.0                 0.0               0.0   \n",
       "01/05/2004                    0.0                 0.0               0.0   \n",
       "\n",
       "                Rainfall_Mangona  Rainfall_S_Piero  Rainfall_Vernio  \\\n",
       "formatted_date                                                        \n",
       "01/01/2004                   0.0               0.0              0.0   \n",
       "01/02/2004                   0.0               0.0              0.0   \n",
       "01/03/2004                   0.0               0.0              0.0   \n",
       "01/04/2004                   0.0               0.0              0.0   \n",
       "01/05/2004                   0.0               0.2              0.0   \n",
       "\n",
       "                Rainfall_Stia  Rainfall_Consuma  Rainfall_Incisa  \\\n",
       "formatted_date                                                     \n",
       "01/01/2004                0.0               0.0              0.0   \n",
       "01/02/2004                0.0               0.0              0.0   \n",
       "01/03/2004                0.2               0.0              0.0   \n",
       "01/04/2004                0.0               0.0              0.0   \n",
       "01/05/2004                0.0               0.0              0.0   \n",
       "\n",
       "                Rainfall_Montevarchi  Rainfall_S_Savino  Rainfall_Laterina  \\\n",
       "formatted_date                                                               \n",
       "01/01/2004                       0.2                0.0                0.0   \n",
       "01/02/2004                       0.0                0.2                0.0   \n",
       "01/03/2004                       0.0                0.0                0.0   \n",
       "01/04/2004                       0.0                0.0                0.0   \n",
       "01/05/2004                       0.0                0.0                0.0   \n",
       "\n",
       "                Rainfall_Bibbiena  Rainfall_Camaldoli  Temperature_Firenze  \\\n",
       "formatted_date                                                               \n",
       "01/01/2004                    0.0                 0.0                 8.65   \n",
       "01/02/2004                    0.0                 0.0                 7.10   \n",
       "01/03/2004                    0.2                 0.0                 5.50   \n",
       "01/04/2004                    0.0                 0.0                 3.55   \n",
       "01/05/2004                    0.0                 0.0                 2.70   \n",
       "\n",
       "                Hydrometry_Nave_di_Rosano  \n",
       "formatted_date                             \n",
       "01/01/2004                           1.84  \n",
       "01/02/2004                           1.93  \n",
       "01/03/2004                           1.61  \n",
       "01/04/2004                           1.35  \n",
       "01/05/2004                           1.44  "
      ]
     },
     "execution_count": 5,
     "metadata": {},
     "output_type": "execute_result"
    }
   ],
   "source": [
    "river_df = river_df.set_index('formatted_date')\n",
    "river_df = river_df.drop(columns=['Date'])\n",
    "river_df.head()"
   ]
  },
  {
   "cell_type": "code",
   "execution_count": 6,
   "metadata": {},
   "outputs": [
    {
     "data": {
      "text/plain": [
       "Index(['Rainfall_Le_Croci', 'Rainfall_Cavallina', 'Rainfall_S_Agata',\n",
       "       'Rainfall_Mangona', 'Rainfall_S_Piero', 'Rainfall_Vernio',\n",
       "       'Rainfall_Stia', 'Rainfall_Consuma', 'Rainfall_Incisa',\n",
       "       'Rainfall_Montevarchi', 'Rainfall_S_Savino', 'Rainfall_Laterina',\n",
       "       'Rainfall_Bibbiena', 'Rainfall_Camaldoli', 'Temperature_Firenze',\n",
       "       'Hydrometry_Nave_di_Rosano'],\n",
       "      dtype='object')"
      ]
     },
     "execution_count": 6,
     "metadata": {},
     "output_type": "execute_result"
    }
   ],
   "source": [
    "river_df.columns"
   ]
  },
  {
   "cell_type": "markdown",
   "metadata": {},
   "source": [
    "## Multivariate Analysis - LSTM "
   ]
  },
  {
   "cell_type": "markdown",
   "metadata": {},
   "source": [
    "### Min Max Scaling"
   ]
  },
  {
   "cell_type": "markdown",
   "metadata": {},
   "source": [
    "#### Function to Min Max scale multiple features"
   ]
  },
  {
   "cell_type": "code",
   "execution_count": 8,
   "metadata": {},
   "outputs": [],
   "source": [
    "target_columns = ['Hydrometry_Nave_di_Rosano']\n",
    "feature_columns = river_df.drop(columns=target_columns).columns.tolist()\n",
    "\n",
    "#target_columns.dtypes"
   ]
  },
  {
   "cell_type": "code",
   "execution_count": 9,
   "metadata": {},
   "outputs": [
    {
     "name": "stdout",
     "output_type": "stream",
     "text": [
      "MinMaxScaler()\n"
     ]
    }
   ],
   "source": [
    "# Ensure X is defined\n",
    "\n",
    "def prepare_feature_data(df, feature_columns, target_columns, lookback=30):\n",
    "    \"\"\"\n",
    "    Prepare multi-feature sequences for LSTM model\n",
    "    \"\"\"\n",
    "    \n",
    "    X, y = [], []\n",
    "    # Scale the features\n",
    "    scaler_features = MinMaxScaler()\n",
    "    scaled_features = scaler_features.fit_transform(df[feature_columns])\n",
    "    \n",
    "    # Scale the target separately\n",
    "    scaler_target = MinMaxScaler()\n",
    "    scaled_target = scaler_target.fit_transform(df[target_columns])\n",
    "    \n",
    "    for i in range(len(df) - lookback):\n",
    "        # Features: take all feature columns for the lookback period\n",
    "        X.append(scaled_features[i:(i + lookback)])\n",
    "        # Targets: take all target columns for the prediction point\n",
    "        y.append(scaled_target[(i + lookback)])\n",
    "    \n",
    "    return X, y, scaler_features, scaler_target\n",
    "\n",
    "# Call the function with debugging\n",
    "try:\n",
    "    X, y, scaler_features, scaler_target = prepare_feature_data(river_df, feature_columns, target_columns, lookback=30)\n",
    "    print(scaler_target)\n",
    "except ValueError as e:\n",
    "    print(\"ValueError encountered:\", e)\n",
    "    # print(\"river_df shape:\", river_df.shape)\n",
    "    # print(\"feature_columns:\", feature_columns)\n",
    "    # print(\"target_columns:\", target_columns)\n",
    "    # print(\"lookback:\", 7)\n",
    "\n",
    "\n",
    "\n"
   ]
  },
  {
   "cell_type": "markdown",
   "metadata": {},
   "source": [
    "#### Define Test Train Split Myself <br>"
   ]
  },
  {
   "cell_type": "code",
   "execution_count": 10,
   "metadata": {},
   "outputs": [
    {
     "name": "stdout",
     "output_type": "stream",
     "text": [
      "Train size: 996, Test size: 250\n"
     ]
    }
   ],
   "source": [
    "train_size = int(len(X) * 0.8)\n",
    "X_train, X_test = X[:train_size], X[train_size:]\n",
    "y_train, y_test = y[:train_size], y[train_size:]\n",
    "test_size = len(X) - train_size\n",
    "print(f\"Train size: {len(X_train)}, Test size: {len(X_test)}\")\n",
    "#print(y_train)\n"
   ]
  },
  {
   "cell_type": "markdown",
   "metadata": {},
   "source": [
    "### LSTM Model Multi-Target"
   ]
  },
  {
   "cell_type": "code",
   "execution_count": 11,
   "metadata": {},
   "outputs": [
    {
     "name": "stderr",
     "output_type": "stream",
     "text": [
      "/usr/local/python/3.12.1/lib/python3.12/site-packages/keras/src/layers/rnn/rnn.py:204: UserWarning: Do not pass an `input_shape`/`input_dim` argument to a layer. When using Sequential models, prefer using an `Input(shape)` object as the first layer in the model instead.\n",
      "  super().__init__(**kwargs)\n"
     ]
    }
   ],
   "source": [
    "from tensorflow.keras.layers import Bidirectional\n",
    "\n",
    "n_features = len(feature_columns)\n",
    "\n",
    "model = Sequential([\n",
    "    # Increase capacity for better pattern recognition\n",
    "    Bidirectional(LSTM(128, return_sequences=True, input_shape=(30, n_features))),\n",
    "    Dropout(0.3),\n",
    "    \n",
    "    Bidirectional(LSTM(64, return_sequences=True)),\n",
    "    Dropout(0.3),\n",
    "    \n",
    "    Bidirectional(LSTM(32)),\n",
    "    Dropout(0.3),\n",
    "    \n",
    "    Dense(32, activation='relu'),\n",
    "    Dense(1)\n",
    "])\n",
    "\n",
    "# Use Huber loss to handle outliers better\n",
    "model.compile(optimizer=Adam(learning_rate=0.001), loss='huber')"
   ]
  },
  {
   "cell_type": "markdown",
   "metadata": {},
   "source": [
    "#### Define Early Stopping to precvent Overfitting "
   ]
  },
  {
   "cell_type": "code",
   "execution_count": 12,
   "metadata": {},
   "outputs": [],
   "source": [
    "# Define early stopping\n",
    "early_stopping = EarlyStopping(\n",
    "    monitor='val_loss',  # Monitor the validation loss\n",
    "    patience=5,          # Number of epochs with no improvement before stopping\n",
    "    restore_best_weights=True  # Restore model weights from the epoch with the best value of the monitored quantity\n",
    ")\n",
    "\n"
   ]
  },
  {
   "cell_type": "code",
   "execution_count": 13,
   "metadata": {},
   "outputs": [
    {
     "name": "stdout",
     "output_type": "stream",
     "text": [
      "X_train shape: (996, 30, 15)\n",
      "y_train shape: (996, 1)\n",
      "Epoch 1/100\n",
      "\u001b[1m25/25\u001b[0m \u001b[32m━━━━━━━━━━━━━━━━━━━━\u001b[0m\u001b[37m\u001b[0m \u001b[1m11s\u001b[0m 141ms/step - loss: 0.0102 - val_loss: 0.0011\n",
      "Epoch 2/100\n",
      "\u001b[1m25/25\u001b[0m \u001b[32m━━━━━━━━━━━━━━━━━━━━\u001b[0m\u001b[37m\u001b[0m \u001b[1m3s\u001b[0m 106ms/step - loss: 0.0037 - val_loss: 0.0017\n",
      "Epoch 3/100\n",
      "\u001b[1m25/25\u001b[0m \u001b[32m━━━━━━━━━━━━━━━━━━━━\u001b[0m\u001b[37m\u001b[0m \u001b[1m5s\u001b[0m 103ms/step - loss: 0.0038 - val_loss: 0.0013\n",
      "Epoch 4/100\n",
      "\u001b[1m25/25\u001b[0m \u001b[32m━━━━━━━━━━━━━━━━━━━━\u001b[0m\u001b[37m\u001b[0m \u001b[1m5s\u001b[0m 105ms/step - loss: 0.0028 - val_loss: 0.0023\n",
      "Epoch 5/100\n",
      "\u001b[1m25/25\u001b[0m \u001b[32m━━━━━━━━━━━━━━━━━━━━\u001b[0m\u001b[37m\u001b[0m \u001b[1m5s\u001b[0m 101ms/step - loss: 0.0034 - val_loss: 8.1967e-04\n",
      "Epoch 6/100\n",
      "\u001b[1m25/25\u001b[0m \u001b[32m━━━━━━━━━━━━━━━━━━━━\u001b[0m\u001b[37m\u001b[0m \u001b[1m3s\u001b[0m 119ms/step - loss: 0.0029 - val_loss: 0.0014\n",
      "Epoch 7/100\n",
      "\u001b[1m25/25\u001b[0m \u001b[32m━━━━━━━━━━━━━━━━━━━━\u001b[0m\u001b[37m\u001b[0m \u001b[1m5s\u001b[0m 123ms/step - loss: 0.0029 - val_loss: 0.0011\n",
      "Epoch 8/100\n",
      "\u001b[1m25/25\u001b[0m \u001b[32m━━━━━━━━━━━━━━━━━━━━\u001b[0m\u001b[37m\u001b[0m \u001b[1m5s\u001b[0m 125ms/step - loss: 0.0022 - val_loss: 0.0012\n",
      "Epoch 9/100\n",
      "\u001b[1m25/25\u001b[0m \u001b[32m━━━━━━━━━━━━━━━━━━━━\u001b[0m\u001b[37m\u001b[0m \u001b[1m5s\u001b[0m 112ms/step - loss: 0.0031 - val_loss: 0.0010\n",
      "Epoch 10/100\n",
      "\u001b[1m25/25\u001b[0m \u001b[32m━━━━━━━━━━━━━━━━━━━━\u001b[0m\u001b[37m\u001b[0m \u001b[1m5s\u001b[0m 124ms/step - loss: 0.0030 - val_loss: 9.7039e-04\n"
     ]
    }
   ],
   "source": [
    "import numpy as np\n",
    "\n",
    "# Convert to numpy arrays\n",
    "X_train = np.array(X_train)\n",
    "y_train = np.array(y_train)\n",
    "X_test = np.array(X_test)\n",
    "\n",
    "# Ensure the shapes are compatible\n",
    "print(f\"X_train shape: {X_train.shape}\")\n",
    "print(f\"y_train shape: {y_train.shape}\")\n",
    "\n",
    "# Train the model with early stopping\n",
    "history = model.fit(\n",
    "    X_train, y_train,\n",
    "    validation_split=0.2,  # Use 20% of the training data for validation\n",
    "    epochs=100,            # Set a high number of epochs; early stopping will stop it earlier if needed\n",
    "    batch_size=32,         # Adjust batch size based on your dataset size\n",
    "    callbacks=[early_stopping],\n",
    "    verbose=1              # Print training progress\n",
    ")"
   ]
  },
  {
   "cell_type": "markdown",
   "metadata": {},
   "source": [
    "### Model Predictions\n",
    "We train the model on the train data and the test data to see how well <br>\n",
    "we are predicting the training and testing data"
   ]
  },
  {
   "cell_type": "code",
   "execution_count": 14,
   "metadata": {},
   "outputs": [
    {
     "name": "stdout",
     "output_type": "stream",
     "text": [
      "\u001b[1m32/32\u001b[0m \u001b[32m━━━━━━━━━━━━━━━━━━━━\u001b[0m\u001b[37m\u001b[0m \u001b[1m2s\u001b[0m 50ms/step\n",
      "\u001b[1m8/8\u001b[0m \u001b[32m━━━━━━━━━━━━━━━━━━━━\u001b[0m\u001b[37m\u001b[0m \u001b[1m0s\u001b[0m 45ms/step\n",
      "[[ 1.61612816e-02]\n",
      " [ 6.18798286e-03]\n",
      " [-5.58083877e-04]\n",
      " [ 5.31490892e-04]\n",
      " [ 3.43596563e-03]\n",
      " [ 5.72346710e-03]\n",
      " [ 7.70312920e-03]\n",
      " [ 9.94000025e-03]\n",
      " [ 1.24532003e-02]\n",
      " [ 1.60742477e-02]\n",
      " [ 1.91400498e-02]\n",
      " [ 2.16893554e-02]\n",
      " [ 2.33487990e-02]\n",
      " [ 2.14326251e-02]\n",
      " [ 2.36372426e-02]\n",
      " [ 2.55022403e-02]\n",
      " [ 2.68510673e-02]\n",
      " [ 2.80356780e-02]\n",
      " [ 2.95899138e-02]\n",
      " [ 3.03885713e-02]\n",
      " [ 3.04427259e-02]\n",
      " [ 2.98232473e-02]\n",
      " [ 3.05048004e-02]\n",
      " [ 3.18571925e-02]\n",
      " [ 2.59843655e-02]\n",
      " [ 3.85646597e-02]\n",
      " [ 3.61217186e-02]\n",
      " [ 1.62300229e-01]\n",
      " [ 3.00729096e-01]\n",
      " [ 3.77597332e-01]\n",
      " [ 3.18082482e-01]\n",
      " [ 2.61337668e-01]\n",
      " [ 2.05818683e-01]\n",
      " [ 1.59655303e-01]\n",
      " [ 1.32929578e-01]\n",
      " [ 1.17315009e-01]\n",
      " [ 1.08284660e-01]\n",
      " [ 1.02393538e-01]\n",
      " [ 9.87640321e-02]\n",
      " [ 1.00291304e-01]\n",
      " [ 1.02551579e-01]\n",
      " [ 1.42416537e-01]\n",
      " [ 1.34864748e-01]\n",
      " [ 1.41100079e-01]\n",
      " [ 1.60156995e-01]\n",
      " [ 1.51060864e-01]\n",
      " [ 4.27777082e-01]\n",
      " [ 3.85082394e-01]\n",
      " [ 3.25685114e-01]\n",
      " [ 2.75034368e-01]\n",
      " [ 2.36042917e-01]\n",
      " [ 2.04186052e-01]\n",
      " [ 1.79158926e-01]\n",
      " [ 1.60673410e-01]\n",
      " [ 1.52306303e-01]\n",
      " [ 1.43600494e-01]\n",
      " [ 1.39718309e-01]\n",
      " [ 1.26963675e-01]\n",
      " [ 1.18482500e-01]\n",
      " [ 1.10370643e-01]\n",
      " [ 1.13909036e-01]\n",
      " [ 1.16060555e-01]\n",
      " [ 1.16958536e-01]\n",
      " [ 1.20355904e-01]\n",
      " [ 1.21385768e-01]\n",
      " [ 1.22625984e-01]\n",
      " [ 1.21040247e-01]\n",
      " [ 1.26989767e-01]\n",
      " [ 1.29089206e-01]\n",
      " [ 1.62859857e-01]\n",
      " [ 1.70942783e-01]\n",
      " [ 1.56147927e-01]\n",
      " [ 1.48101151e-01]\n",
      " [ 1.33379519e-01]\n",
      " [ 1.20244898e-01]\n",
      " [ 1.16349831e-01]\n",
      " [ 1.43091798e-01]\n",
      " [ 1.37082145e-01]\n",
      " [ 1.23367727e-01]\n",
      " [ 1.07944794e-01]\n",
      " [ 9.47635919e-02]\n",
      " [ 8.83281231e-02]\n",
      " [ 8.35956335e-02]\n",
      " [ 8.08380619e-02]\n",
      " [ 8.22506547e-02]\n",
      " [ 8.42732936e-02]\n",
      " [ 8.15009996e-02]\n",
      " [ 7.94376582e-02]\n",
      " [ 7.55874291e-02]\n",
      " [ 7.33625144e-02]\n",
      " [ 1.13087878e-01]\n",
      " [ 1.88383251e-01]\n",
      " [ 2.13810533e-01]\n",
      " [ 1.92438871e-01]\n",
      " [ 1.72723323e-01]\n",
      " [ 1.57641649e-01]\n",
      " [ 1.45216584e-01]\n",
      " [ 1.31080180e-01]\n",
      " [ 1.19478241e-01]\n",
      " [ 1.03397749e-01]\n",
      " [ 9.28770229e-02]\n",
      " [ 9.02976096e-02]\n",
      " [ 8.73411521e-02]\n",
      " [ 8.82554799e-02]\n",
      " [ 1.06381349e-01]\n",
      " [ 1.85932189e-01]\n",
      " [ 2.39543885e-01]\n",
      " [ 2.89187938e-01]\n",
      " [ 2.48795524e-01]\n",
      " [ 2.12504849e-01]\n",
      " [ 3.45317602e-01]\n",
      " [ 3.20466906e-01]\n",
      " [ 2.68540353e-01]\n",
      " [ 2.72256643e-01]\n",
      " [ 2.31339693e-01]\n",
      " [ 2.02845261e-01]\n",
      " [ 1.81491539e-01]\n",
      " [ 1.64924666e-01]\n",
      " [ 1.52375042e-01]\n",
      " [ 1.56188905e-01]\n",
      " [ 1.47649467e-01]\n",
      " [ 1.35775775e-01]\n",
      " [ 1.43867582e-01]\n",
      " [ 2.57765442e-01]\n",
      " [ 2.43857086e-01]\n",
      " [ 2.18751699e-01]\n",
      " [ 2.01925844e-01]\n",
      " [ 1.79664478e-01]\n",
      " [ 1.60304189e-01]\n",
      " [ 1.47320181e-01]\n",
      " [ 1.38253748e-01]\n",
      " [ 1.31193608e-01]\n",
      " [ 1.50092945e-01]\n",
      " [ 1.40175119e-01]\n",
      " [ 1.30945727e-01]\n",
      " [ 1.17280304e-01]\n",
      " [ 1.06632300e-01]\n",
      " [ 9.92424190e-02]\n",
      " [ 9.39952731e-02]\n",
      " [ 8.85325521e-02]\n",
      " [ 6.48144111e-02]\n",
      " [ 6.46544173e-02]\n",
      " [ 1.20378837e-01]\n",
      " [ 1.90181628e-01]\n",
      " [ 2.07056254e-01]\n",
      " [ 1.81297213e-01]\n",
      " [ 1.62626088e-01]\n",
      " [ 1.48651809e-01]\n",
      " [ 1.41144857e-01]\n",
      " [ 1.37433350e-01]\n",
      " [ 1.41363427e-01]\n",
      " [ 1.29160568e-01]\n",
      " [ 1.31297901e-01]\n",
      " [ 1.32559419e-01]\n",
      " [ 1.28990933e-01]\n",
      " [ 1.12091593e-01]\n",
      " [ 9.62482244e-02]\n",
      " [ 9.19733718e-02]\n",
      " [ 9.11118016e-02]\n",
      " [ 8.98740590e-02]\n",
      " [ 8.89307708e-02]\n",
      " [ 8.83409977e-02]\n",
      " [ 8.26709196e-02]\n",
      " [ 8.36740285e-02]\n",
      " [ 8.42779577e-02]\n",
      " [ 8.48885030e-02]\n",
      " [ 8.32111165e-02]\n",
      " [ 8.05774182e-02]\n",
      " [ 7.83965811e-02]\n",
      " [ 7.45445937e-02]\n",
      " [ 6.90627322e-02]\n",
      " [ 6.21144846e-02]\n",
      " [ 4.75996509e-02]\n",
      " [ 3.68174985e-02]\n",
      " [ 3.19667906e-02]\n",
      " [ 2.85993405e-02]\n",
      " [ 2.66149230e-02]\n",
      " [ 2.42127627e-02]\n",
      " [ 2.18379479e-02]\n",
      " [ 1.98152121e-02]\n",
      " [ 1.75718330e-02]\n",
      " [ 1.57026760e-02]\n",
      " [ 1.29438918e-02]\n",
      " [ 9.25863720e-03]\n",
      " [ 3.26373987e-03]\n",
      " [-1.42283179e-03]\n",
      " [ 7.69353285e-03]\n",
      " [ 1.53870136e-02]\n",
      " [ 1.17608577e-01]\n",
      " [ 1.37929276e-01]\n",
      " [ 1.10303573e-01]\n",
      " [ 7.85045475e-02]\n",
      " [ 4.35935631e-02]\n",
      " [ 2.54041515e-02]\n",
      " [ 1.53914411e-02]\n",
      " [ 9.40552540e-03]\n",
      " [ 6.64602965e-03]\n",
      " [ 8.82081129e-03]\n",
      " [ 1.15304627e-02]\n",
      " [ 1.45856366e-02]\n",
      " [ 1.75126735e-02]\n",
      " [ 2.04881486e-02]\n",
      " [ 2.31003948e-02]\n",
      " [ 2.57547330e-02]\n",
      " [ 2.83757299e-02]\n",
      " [ 3.08406726e-02]\n",
      " [ 3.26070413e-02]\n",
      " [ 3.37491706e-02]\n",
      " [ 3.57062556e-02]\n",
      " [ 3.50250378e-02]\n",
      " [ 3.50193642e-02]\n",
      " [ 7.21544400e-02]\n",
      " [ 1.19232431e-01]\n",
      " [ 8.92203972e-02]\n",
      " [ 5.94994053e-02]\n",
      " [ 7.97608271e-02]\n",
      " [ 1.27525836e-01]\n",
      " [ 8.21362361e-02]\n",
      " [ 3.58801112e-02]\n",
      " [ 1.79414805e-02]\n",
      " [ 1.37051363e-02]\n",
      " [ 5.36691397e-02]\n",
      " [ 3.94661054e-02]\n",
      " [ 2.45736632e-02]\n",
      " [ 1.61205288e-02]\n",
      " [ 1.06201377e-02]\n",
      " [ 1.33374464e-02]\n",
      " [ 1.69697739e-02]\n",
      " [ 2.04609446e-02]\n",
      " [ 2.33598594e-02]\n",
      " [ 2.58927718e-02]\n",
      " [ 2.80811302e-02]\n",
      " [ 2.97174565e-02]\n",
      " [ 3.13117653e-02]\n",
      " [ 3.32290940e-02]\n",
      " [ 3.44654173e-02]\n",
      " [ 3.42075974e-02]\n",
      " [ 3.33413556e-02]\n",
      " [ 3.04344092e-02]\n",
      " [ 2.95314714e-02]\n",
      " [ 2.60767490e-02]\n",
      " [ 1.82373114e-02]\n",
      " [ 1.68753024e-02]\n",
      " [ 1.55505091e-02]\n",
      " [ 1.32293776e-02]\n",
      " [ 9.02885944e-03]\n",
      " [ 5.20538352e-03]\n",
      " [ 4.36121412e-03]\n",
      " [ 2.48737633e-03]\n",
      " [ 5.81853092e-05]]\n"
     ]
    }
   ],
   "source": [
    "train_pred = model.predict(X_train)\n",
    "test_pred = model.predict(X_test)\n",
    "\n",
    "print(test_pred)"
   ]
  },
  {
   "cell_type": "markdown",
   "metadata": {},
   "source": [
    "### Convert back to normal scale"
   ]
  },
  {
   "cell_type": "code",
   "execution_count": 15,
   "metadata": {},
   "outputs": [],
   "source": [
    "# Inverse transform predictions\n",
    "train_pred = scaler_target.inverse_transform(train_pred)\n",
    "test_pred = scaler_target.inverse_transform(test_pred)\n",
    "y_train_orig = scaler_target.inverse_transform(y_train)\n",
    "y_test_orig = scaler_target.inverse_transform(y_test)\n",
    "\n"
   ]
  },
  {
   "cell_type": "markdown",
   "metadata": {},
   "source": [
    "### Evaluate Loss"
   ]
  },
  {
   "cell_type": "code",
   "execution_count": 16,
   "metadata": {},
   "outputs": [
    {
     "data": {
      "text/plain": [
       "<matplotlib.legend.Legend at 0x7b48632b9430>"
      ]
     },
     "execution_count": 16,
     "metadata": {},
     "output_type": "execute_result"
    },
    {
     "data": {
      "image/png": "[encoded data removed]",
      "text/plain": [
       "<Figure size 1200x900 with 1 Axes>"
      ]
     },
     "metadata": {},
     "output_type": "display_data"
    }
   ],
   "source": [
    "import matplotlib.pyplot as plt\n",
    "\n",
    "\n",
    "# Create visualizations\n",
    "plt.figure(figsize=(12, 9))\n",
    "\n",
    "# Plot 1: Training Loss\n",
    "plt.subplot(4, 1, 1)\n",
    "plt.plot(history.history['loss'], label='Training Loss')\n",
    "plt.plot(history.history['val_loss'], label='Validation Loss')\n",
    "plt.title('Model Loss During Training')\n",
    "plt.xlabel('Epoch')\n",
    "plt.ylabel('Loss')\n",
    "plt.legend()"
   ]
  },
  {
   "cell_type": "markdown",
   "metadata": {},
   "source": [
    "## Evaluate Progress"
   ]
  },
  {
   "cell_type": "code",
   "execution_count": 17,
   "metadata": {},
   "outputs": [],
   "source": [
    "def evaluate_regression_lstm(y_true, y_pred):\n",
    "    # R² score (1.0 is perfect prediction)\n",
    "    r2 = r2_score(y_true, y_pred)\n",
    "    \n",
    "    # Mean Absolute Error\n",
    "    mae = mean_absolute_error(y_true, y_pred)\n",
    "    \n",
    "    # Root Mean Squared Error\n",
    "    rmse = np.sqrt(mean_squared_error(y_true, y_pred))\n",
    "    \n",
    "    # Custom accuracy metric for regression (as percentage)\n",
    "    # Using 1 - normalized MAE as a proxy for accuracy\n",
    "    #accuracy = (1 - mae / (y_true.max() - y_true.min())) * 100\n",
    "    \n",
    "    print(\"\\nRegression Metrics:\")\n",
    "    print(f\"R² Score: {r2:.4f}\")\n",
    "    print(f\"MAE: {mae:.4f}\")\n",
    "    print(f\"RMSE: {rmse:.4f}\")\n",
    "    #print(f\"Accuracy (based on normalized MAE): {accuracy:.2f}%\")\n",
    "    \n",
    "    return r2, mae, rmse"
   ]
  },
  {
   "cell_type": "markdown",
   "metadata": {},
   "source": [
    "### Evaluate 3 Targets"
   ]
  },
  {
   "cell_type": "code",
   "execution_count": 18,
   "metadata": {},
   "outputs": [
    {
     "name": "stdout",
     "output_type": "stream",
     "text": [
      "\n",
      "Regression Metrics:\n",
      "R² Score: 0.3421\n",
      "MAE: 0.1922\n",
      "RMSE: 0.2589\n"
     ]
    },
    {
     "data": {
      "text/plain": [
       "(0.34206246856109945, 0.19217064717292784, 0.25891674411312116)"
      ]
     },
     "execution_count": 18,
     "metadata": {},
     "output_type": "execute_result"
    }
   ],
   "source": [
    "evaluate_regression_lstm(y_test_orig, test_pred)"
   ]
  },
  {
   "cell_type": "markdown",
   "metadata": {},
   "source": []
  },
  {
   "cell_type": "markdown",
   "metadata": {},
   "source": [
    "## Plot Residuals - Actual vs Predicted"
   ]
  },
  {
   "cell_type": "code",
   "execution_count": 19,
   "metadata": {},
   "outputs": [
    {
     "data": {
      "image/png": "[encoded data removed]",
      "text/plain": [
       "<Figure size 1400x500 with 1 Axes>"
      ]
     },
     "metadata": {},
     "output_type": "display_data"
    }
   ],
   "source": [
    "import matplotlib.pyplot as plt\n",
    "\n",
    "def plot_actual_vs_predicted(y_true, y_pred, title='Actual vs Predicted'):\n",
    "    plt.figure(figsize=(14, 5))\n",
    "    plt.plot(y_true, label='Actual')\n",
    "    plt.plot(y_pred, label='Predicted')\n",
    "    plt.title(title)\n",
    "    plt.xlabel('Time')\n",
    "    plt.ylabel('Value')\n",
    "    plt.legend()\n",
    "    plt.show()\n",
    "\n",
    "# Assuming y_test and test_pred are defined\n",
    "plot_actual_vs_predicted(y_test_orig, test_pred)\n"
   ]
  },
  {
   "cell_type": "code",
   "execution_count": 20,
   "metadata": {},
   "outputs": [
    {
     "data": {
      "image/png": "[encoded data removed]",
      "text/plain": [
       "<Figure size 1400x500 with 1 Axes>"
      ]
     },
     "metadata": {},
     "output_type": "display_data"
    },
    {
     "ename": "",
     "evalue": "",
     "output_type": "error",
     "traceback": [
      "\u001b[1;31mThe Kernel crashed while executing code in the current cell or a previous cell. \n",
      "\u001b[1;31mPlease review the code in the cell(s) to identify a possible cause of the failure. \n",
      "\u001b[1;31mClick <a href='https://aka.ms/vscodeJupyterKernelCrash'>here</a> for more info. \n",
      "\u001b[1;31mView Jupyter <a href='command:jupyter.viewOutput'>log</a> for further details."
     ]
    }
   ],
   "source": [
    "def plot_residuals(y_true, y_pred, title='Residuals'):\n",
    "    residuals = y_true - y_pred\n",
    "    plt.figure(figsize=(14, 5))\n",
    "    plt.plot(residuals, label='Residuals')\n",
    "    plt.title(title)\n",
    "    plt.xlabel('Time')\n",
    "    plt.ylabel('Residual')\n",
    "    plt.legend()\n",
    "    plt.show()\n",
    "    \n",
    "    \n",
    "plot_residuals(y_test_orig, test_pred, title='Residuals')"
   ]
  },
  {
   "cell_type": "markdown",
   "metadata": {},
   "source": [
    "## Find Optimal Learning Rate "
   ]
  },
  {
   "cell_type": "markdown",
   "metadata": {},
   "source": [
    "### Find Optimal Learning Rate "
   ]
  },
  {
   "cell_type": "code",
   "execution_count": null,
   "metadata": {},
   "outputs": [
    {
     "name": "stdout",
     "output_type": "stream",
     "text": [
      "WARNING:tensorflow:5 out of the last 254 calls to <function TensorFlowTrainer.make_train_function.<locals>.one_step_on_iterator at 0x7b487b137380> triggered tf.function retracing. Tracing is expensive and the excessive number of tracings could be due to (1) creating @tf.function repeatedly in a loop, (2) passing tensors with different shapes, (3) passing Python objects instead of tensors. For (1), please define your @tf.function outside of the loop. For (2), @tf.function has reduce_retracing=True option that can avoid unnecessary retracing. For (3), please refer to https://www.tensorflow.org/guide/function#controlling_retracing and https://www.tensorflow.org/api_docs/python/tf/function for  more details.\n",
      "WARNING:tensorflow:6 out of the last 255 calls to <function TensorFlowTrainer.make_train_function.<locals>.one_step_on_iterator at 0x7b487b137380> triggered tf.function retracing. Tracing is expensive and the excessive number of tracings could be due to (1) creating @tf.function repeatedly in a loop, (2) passing tensors with different shapes, (3) passing Python objects instead of tensors. For (1), please define your @tf.function outside of the loop. For (2), @tf.function has reduce_retracing=True option that can avoid unnecessary retracing. For (3), please refer to https://www.tensorflow.org/guide/function#controlling_retracing and https://www.tensorflow.org/api_docs/python/tf/function for  more details.\n"
     ]
    }
   ],
   "source": [
    "def find_optimal_lr(model, X_train, y_train):\n",
    "    lr_schedule = np.logspace(-4, -2, 100)  # Test from 0.0001 to 0.01\n",
    "    losses = []\n",
    "    \n",
    "    for lr in lr_schedule:\n",
    "        model.optimizer.learning_rate.assign(lr)\n",
    "        loss = model.train_on_batch(X_train[:32], y_train[:32])\n",
    "        losses.append(loss)\n",
    "        \n",
    "    best_lr = lr_schedule[np.argmin(losses)]\n",
    "    return best_lr\n",
    "\n",
    "find_optimal_lr(model, X_train, y_train)"
   ]
  },
  {
   "cell_type": "code",
   "execution_count": null,
   "metadata": {},
   "outputs": [],
   "source": []
  }
 ],
 "metadata": {
  "kernelspec": {
   "display_name": "Python 3",
   "language": "python",
   "name": "python3"
  },
  "language_info": {
   "codemirror_mode": {
    "name": "ipython",
    "version": 3
   },
   "file_extension": ".py",
   "mimetype": "text/x-python",
   "name": "python",
   "nbconvert_exporter": "python",
   "pygments_lexer": "ipython3",
   "version": "3.12.1"
  }
 },
 "nbformat": 4,
 "nbformat_minor": 2
}
