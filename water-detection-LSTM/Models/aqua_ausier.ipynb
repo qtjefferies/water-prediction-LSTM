{
 "cells": [
  {
   "cell_type": "markdown",
   "metadata": {},
   "source": [
    "Rephrase as part of a project done through schooling to increase accuracy/refine it further. This was my effort towards achieving (ReadMe)"
   ]
  },
  {
   "cell_type": "code",
   "execution_count": 1,
   "metadata": {},
   "outputs": [
    {
     "name": "stderr",
     "output_type": "stream",
     "text": [
      "2024-11-12 17:20:16.799057: I external/local_xla/xla/tsl/cuda/cudart_stub.cc:32] Could not find cuda drivers on your machine, GPU will not be used.\n",
      "2024-11-12 17:20:16.802249: I external/local_xla/xla/tsl/cuda/cudart_stub.cc:32] Could not find cuda drivers on your machine, GPU will not be used.\n",
      "2024-11-12 17:20:16.811562: E external/local_xla/xla/stream_executor/cuda/cuda_fft.cc:485] Unable to register cuFFT factory: Attempting to register factory for plugin cuFFT when one has already been registered\n",
      "2024-11-12 17:20:16.826986: E external/local_xla/xla/stream_executor/cuda/cuda_dnn.cc:8454] Unable to register cuDNN factory: Attempting to register factory for plugin cuDNN when one has already been registered\n",
      "2024-11-12 17:20:16.831042: E external/local_xla/xla/stream_executor/cuda/cuda_blas.cc:1452] Unable to register cuBLAS factory: Attempting to register factory for plugin cuBLAS when one has already been registered\n",
      "2024-11-12 17:20:16.842296: I tensorflow/core/platform/cpu_feature_guard.cc:210] This TensorFlow binary is optimized to use available CPU instructions in performance-critical operations.\n",
      "To enable the following instructions: AVX2 FMA, in other operations, rebuild TensorFlow with the appropriate compiler flags.\n",
      "2024-11-12 17:20:19.276941: W tensorflow/compiler/tf2tensorrt/utils/py_utils.cc:38] TF-TRT Warning: Could not find TensorRT\n"
     ]
    }
   ],
   "source": [
    "import pandas as pd\n",
    "from datetime import datetime\n",
    "from sklearn.preprocessing import MinMaxScaler\n",
    "from tensorflow.keras.optimizers import Adam\n",
    "from tensorflow.keras.models import Sequential\n",
    "from tensorflow.keras.layers import LSTM, Dense, Dropout\n",
    "from sklearn.metrics import r2_score, mean_absolute_error, mean_squared_error\n"
   ]
  },
  {
   "cell_type": "markdown",
   "metadata": {},
   "source": [
    "### Import Data"
   ]
  },
  {
   "cell_type": "code",
   "execution_count": null,
   "metadata": {},
   "outputs": [
    {
     "data": {
      "text/html": [
       "<div>\n",
       "<style scoped>\n",
       "    .dataframe tbody tr th:only-of-type {\n",
       "        vertical-align: middle;\n",
       "    }\n",
       "\n",
       "    .dataframe tbody tr th {\n",
       "        vertical-align: top;\n",
       "    }\n",
       "\n",
       "    .dataframe thead th {\n",
       "        text-align: right;\n",
       "    }\n",
       "</style>\n",
       "<table border=\"1\" class=\"dataframe\">\n",
       "  <thead>\n",
       "    <tr style=\"text-align: right;\">\n",
       "      <th></th>\n",
       "      <th>Date</th>\n",
       "      <th>Rainfall_Gallicano</th>\n",
       "      <th>Rainfall_Pontetetto</th>\n",
       "      <th>Rainfall_Monte_Serra</th>\n",
       "      <th>Rainfall_Orentano</th>\n",
       "      <th>Rainfall_Borgo_a_Mozzano</th>\n",
       "      <th>Rainfall_Piaggione</th>\n",
       "      <th>Rainfall_Calavorno</th>\n",
       "      <th>Rainfall_Croce_Arcana</th>\n",
       "      <th>Rainfall_Tereglio_Coreglia_Antelminelli</th>\n",
       "      <th>...</th>\n",
       "      <th>Temperature_Monte_Serra</th>\n",
       "      <th>Temperature_Ponte_a_Moriano</th>\n",
       "      <th>Temperature_Lucca_Orto_Botanico</th>\n",
       "      <th>Volume_POL</th>\n",
       "      <th>Volume_CC1</th>\n",
       "      <th>Volume_CC2</th>\n",
       "      <th>Volume_CSA</th>\n",
       "      <th>Volume_CSAL</th>\n",
       "      <th>Hydrometry_Monte_S_Quirico</th>\n",
       "      <th>Hydrometry_Piaggione</th>\n",
       "    </tr>\n",
       "  </thead>\n",
       "  <tbody>\n",
       "    <tr>\n",
       "      <th>0</th>\n",
       "      <td>05/03/1998</td>\n",
       "      <td>NaN</td>\n",
       "      <td>NaN</td>\n",
       "      <td>NaN</td>\n",
       "      <td>NaN</td>\n",
       "      <td>NaN</td>\n",
       "      <td>NaN</td>\n",
       "      <td>NaN</td>\n",
       "      <td>NaN</td>\n",
       "      <td>NaN</td>\n",
       "      <td>...</td>\n",
       "      <td>0.0</td>\n",
       "      <td>0.0</td>\n",
       "      <td>0.00</td>\n",
       "      <td>NaN</td>\n",
       "      <td>NaN</td>\n",
       "      <td>NaN</td>\n",
       "      <td>NaN</td>\n",
       "      <td>NaN</td>\n",
       "      <td>NaN</td>\n",
       "      <td>NaN</td>\n",
       "    </tr>\n",
       "    <tr>\n",
       "      <th>1</th>\n",
       "      <td>06/03/1998</td>\n",
       "      <td>NaN</td>\n",
       "      <td>NaN</td>\n",
       "      <td>NaN</td>\n",
       "      <td>NaN</td>\n",
       "      <td>NaN</td>\n",
       "      <td>NaN</td>\n",
       "      <td>NaN</td>\n",
       "      <td>NaN</td>\n",
       "      <td>NaN</td>\n",
       "      <td>...</td>\n",
       "      <td>0.0</td>\n",
       "      <td>0.0</td>\n",
       "      <td>10.05</td>\n",
       "      <td>NaN</td>\n",
       "      <td>NaN</td>\n",
       "      <td>NaN</td>\n",
       "      <td>NaN</td>\n",
       "      <td>NaN</td>\n",
       "      <td>NaN</td>\n",
       "      <td>NaN</td>\n",
       "    </tr>\n",
       "    <tr>\n",
       "      <th>2</th>\n",
       "      <td>07/03/1998</td>\n",
       "      <td>NaN</td>\n",
       "      <td>NaN</td>\n",
       "      <td>NaN</td>\n",
       "      <td>NaN</td>\n",
       "      <td>NaN</td>\n",
       "      <td>NaN</td>\n",
       "      <td>NaN</td>\n",
       "      <td>NaN</td>\n",
       "      <td>NaN</td>\n",
       "      <td>...</td>\n",
       "      <td>9.2</td>\n",
       "      <td>0.0</td>\n",
       "      <td>10.00</td>\n",
       "      <td>NaN</td>\n",
       "      <td>NaN</td>\n",
       "      <td>NaN</td>\n",
       "      <td>NaN</td>\n",
       "      <td>NaN</td>\n",
       "      <td>NaN</td>\n",
       "      <td>NaN</td>\n",
       "    </tr>\n",
       "    <tr>\n",
       "      <th>3</th>\n",
       "      <td>08/03/1998</td>\n",
       "      <td>NaN</td>\n",
       "      <td>NaN</td>\n",
       "      <td>NaN</td>\n",
       "      <td>NaN</td>\n",
       "      <td>NaN</td>\n",
       "      <td>NaN</td>\n",
       "      <td>NaN</td>\n",
       "      <td>NaN</td>\n",
       "      <td>NaN</td>\n",
       "      <td>...</td>\n",
       "      <td>11.4</td>\n",
       "      <td>0.0</td>\n",
       "      <td>13.85</td>\n",
       "      <td>NaN</td>\n",
       "      <td>NaN</td>\n",
       "      <td>NaN</td>\n",
       "      <td>NaN</td>\n",
       "      <td>NaN</td>\n",
       "      <td>NaN</td>\n",
       "      <td>NaN</td>\n",
       "    </tr>\n",
       "    <tr>\n",
       "      <th>4</th>\n",
       "      <td>09/03/1998</td>\n",
       "      <td>NaN</td>\n",
       "      <td>NaN</td>\n",
       "      <td>NaN</td>\n",
       "      <td>NaN</td>\n",
       "      <td>NaN</td>\n",
       "      <td>NaN</td>\n",
       "      <td>NaN</td>\n",
       "      <td>NaN</td>\n",
       "      <td>NaN</td>\n",
       "      <td>...</td>\n",
       "      <td>11.4</td>\n",
       "      <td>0.0</td>\n",
       "      <td>12.85</td>\n",
       "      <td>NaN</td>\n",
       "      <td>NaN</td>\n",
       "      <td>NaN</td>\n",
       "      <td>NaN</td>\n",
       "      <td>NaN</td>\n",
       "      <td>NaN</td>\n",
       "      <td>NaN</td>\n",
       "    </tr>\n",
       "  </tbody>\n",
       "</table>\n",
       "<p>5 rows × 27 columns</p>\n",
       "</div>"
      ],
      "text/plain": [
       "         Date  Rainfall_Gallicano  Rainfall_Pontetetto  Rainfall_Monte_Serra  \\\n",
       "0  05/03/1998                 NaN                  NaN                   NaN   \n",
       "1  06/03/1998                 NaN                  NaN                   NaN   \n",
       "2  07/03/1998                 NaN                  NaN                   NaN   \n",
       "3  08/03/1998                 NaN                  NaN                   NaN   \n",
       "4  09/03/1998                 NaN                  NaN                   NaN   \n",
       "\n",
       "   Rainfall_Orentano  Rainfall_Borgo_a_Mozzano  Rainfall_Piaggione  \\\n",
       "0                NaN                       NaN                 NaN   \n",
       "1                NaN                       NaN                 NaN   \n",
       "2                NaN                       NaN                 NaN   \n",
       "3                NaN                       NaN                 NaN   \n",
       "4                NaN                       NaN                 NaN   \n",
       "\n",
       "   Rainfall_Calavorno  Rainfall_Croce_Arcana  \\\n",
       "0                 NaN                    NaN   \n",
       "1                 NaN                    NaN   \n",
       "2                 NaN                    NaN   \n",
       "3                 NaN                    NaN   \n",
       "4                 NaN                    NaN   \n",
       "\n",
       "   Rainfall_Tereglio_Coreglia_Antelminelli  ...  Temperature_Monte_Serra  \\\n",
       "0                                      NaN  ...                      0.0   \n",
       "1                                      NaN  ...                      0.0   \n",
       "2                                      NaN  ...                      9.2   \n",
       "3                                      NaN  ...                     11.4   \n",
       "4                                      NaN  ...                     11.4   \n",
       "\n",
       "   Temperature_Ponte_a_Moriano  Temperature_Lucca_Orto_Botanico  Volume_POL  \\\n",
       "0                          0.0                             0.00         NaN   \n",
       "1                          0.0                            10.05         NaN   \n",
       "2                          0.0                            10.00         NaN   \n",
       "3                          0.0                            13.85         NaN   \n",
       "4                          0.0                            12.85         NaN   \n",
       "\n",
       "   Volume_CC1  Volume_CC2  Volume_CSA  Volume_CSAL  \\\n",
       "0         NaN         NaN         NaN          NaN   \n",
       "1         NaN         NaN         NaN          NaN   \n",
       "2         NaN         NaN         NaN          NaN   \n",
       "3         NaN         NaN         NaN          NaN   \n",
       "4         NaN         NaN         NaN          NaN   \n",
       "\n",
       "   Hydrometry_Monte_S_Quirico  Hydrometry_Piaggione  \n",
       "0                         NaN                   NaN  \n",
       "1                         NaN                   NaN  \n",
       "2                         NaN                   NaN  \n",
       "3                         NaN                   NaN  \n",
       "4                         NaN                   NaN  \n",
       "\n",
       "[5 rows x 27 columns]"
      ]
     },
     "execution_count": 2,
     "metadata": {},
     "output_type": "execute_result"
    }
   ],
   "source": [
    "import pandas as pd\n",
    "\n",
    "aquifier_df = pd.read_csv('/workspaces/time-series-project-tutorial/acea-water-prediction/Aquifer_Auser.csv')\n",
    "aquifier_df.head()"
   ]
  },
  {
   "cell_type": "code",
   "execution_count": 3,
   "metadata": {},
   "outputs": [
    {
     "name": "stdout",
     "output_type": "stream",
     "text": [
      "            Date  Rainfall_Gallicano  Rainfall_Pontetetto  \\\n",
      "4821  17/05/2011                 0.0                  0.0   \n",
      "4822  18/05/2011                 0.0                  0.0   \n",
      "4823  19/05/2011                 0.0                  0.0   \n",
      "4824  20/05/2011                 0.8                  0.0   \n",
      "4825  21/05/2011                 0.0                  0.0   \n",
      "...          ...                 ...                  ...   \n",
      "8149  26/06/2020                 0.0                  0.0   \n",
      "8150  27/06/2020                 0.0                  0.0   \n",
      "8151  28/06/2020                 0.0                  0.0   \n",
      "8152  29/06/2020                 0.0                  0.0   \n",
      "8153  30/06/2020                 0.0                  0.0   \n",
      "\n",
      "      Rainfall_Monte_Serra  Rainfall_Orentano  Rainfall_Borgo_a_Mozzano  \\\n",
      "4821                   0.0                0.0                       0.0   \n",
      "4822                   0.0                0.0                       0.0   \n",
      "4823                   0.0                0.0                       0.0   \n",
      "4824                   0.0                0.2                       0.0   \n",
      "4825                   0.0                0.0                       0.0   \n",
      "...                    ...                ...                       ...   \n",
      "8149                   0.0                0.0                       0.0   \n",
      "8150                   0.0                0.0                       0.0   \n",
      "8151                   0.0                0.0                       0.0   \n",
      "8152                   0.0                0.0                       0.0   \n",
      "8153                   0.0                0.0                       0.0   \n",
      "\n",
      "      Rainfall_Piaggione  Rainfall_Calavorno  Rainfall_Croce_Arcana  \\\n",
      "4821                 0.0                 0.0                    0.0   \n",
      "4822                 0.0                 0.0                    0.0   \n",
      "4823                 0.0                 0.0                    0.0   \n",
      "4824                 0.0                 0.0                    0.0   \n",
      "4825                 0.0                 0.0                    1.0   \n",
      "...                  ...                 ...                    ...   \n",
      "8149                 0.0                 0.0                    0.0   \n",
      "8150                 0.0                 0.0                    0.0   \n",
      "8151                 0.0                 0.0                    0.0   \n",
      "8152                 0.0                 0.0                    0.0   \n",
      "8153                 0.0                 0.0                    0.0   \n",
      "\n",
      "      Rainfall_Tereglio_Coreglia_Antelminelli  ...  Temperature_Monte_Serra  \\\n",
      "4821                                      0.0  ...                    12.80   \n",
      "4822                                      0.0  ...                    15.25   \n",
      "4823                                      0.0  ...                    15.35   \n",
      "4824                                      0.6  ...                    16.40   \n",
      "4825                                      0.0  ...                    17.60   \n",
      "...                                       ...  ...                      ...   \n",
      "8149                                      0.0  ...                    20.75   \n",
      "8150                                      0.0  ...                    21.35   \n",
      "8151                                      0.0  ...                    21.75   \n",
      "8152                                      0.0  ...                    18.90   \n",
      "8153                                      0.0  ...                    19.90   \n",
      "\n",
      "      Temperature_Ponte_a_Moriano  Temperature_Lucca_Orto_Botanico  \\\n",
      "4821                        17.20                            17.45   \n",
      "4822                        19.00                            19.00   \n",
      "4823                        19.95                            20.10   \n",
      "4824                        20.15                            21.60   \n",
      "4825                        21.35                            21.15   \n",
      "...                           ...                              ...   \n",
      "8149                         0.00                            23.75   \n",
      "8150                         0.00                            24.30   \n",
      "8151                         0.00                            24.55   \n",
      "8152                         0.00                            23.60   \n",
      "8153                         0.00                            25.05   \n",
      "\n",
      "       Volume_POL  Volume_CC1    Volume_CC2  Volume_CSA  Volume_CSAL  \\\n",
      "4821 -9936.000000  -16377.120 -12823.488000        0.00          0.0   \n",
      "4822 -9936.000000  -16377.120 -12823.488000        0.00          0.0   \n",
      "4823 -9936.000000  -16377.120 -12823.488000        0.00          0.0   \n",
      "4824 -9936.000000  -16377.120 -12823.488000        0.00          0.0   \n",
      "4825 -9936.000000  -16377.120 -12823.488000        0.00          0.0   \n",
      "...           ...         ...           ...         ...          ...   \n",
      "8149 -7189.406533   -7847.900  -9183.433333    -6115.40      -3158.0   \n",
      "8150 -7189.406533   -7847.900  -9183.433333    -6115.40      -3158.0   \n",
      "8151 -6829.936207   -7455.505  -8724.261667    -5809.63      -3000.1   \n",
      "8152 -7189.406533   -7847.900  -9183.433333    -6115.40      -3158.0   \n",
      "8153 -7189.406533   -7847.900  -9183.433333    -6115.40      -3158.0   \n",
      "\n",
      "      Hydrometry_Monte_S_Quirico  Hydrometry_Piaggione  \n",
      "4821                        0.17                 -1.04  \n",
      "4822                        0.18                 -1.04  \n",
      "4823                        0.16                 -1.04  \n",
      "4824                        0.15                 -1.04  \n",
      "4825                        0.15                 -1.05  \n",
      "...                          ...                   ...  \n",
      "8149                        0.20                 -1.03  \n",
      "8150                        0.21                 -1.03  \n",
      "8151                        0.23                 -1.03  \n",
      "8152                        0.23                 -1.02  \n",
      "8153                        0.21                 -1.05  \n",
      "\n",
      "[2086 rows x 27 columns]\n"
     ]
    }
   ],
   "source": [
    "aquifier_df.isnull().sum()\n",
    "aquifier_df = aquifier_df.dropna()\n",
    "print(aquifier_df)"
   ]
  },
  {
   "cell_type": "markdown",
   "metadata": {},
   "source": [
    "### Format Time Series Date Field"
   ]
  },
  {
   "cell_type": "code",
   "execution_count": 4,
   "metadata": {},
   "outputs": [
    {
     "name": "stdout",
     "output_type": "stream",
     "text": [
      "4821    05/17/2011\n",
      "4822    05/18/2011\n",
      "4823    05/19/2011\n",
      "4824    05/20/2011\n",
      "4825    05/21/2011\n",
      "           ...    \n",
      "8149    06/26/2020\n",
      "8150    06/27/2020\n",
      "8151    06/28/2020\n",
      "8152    06/29/2020\n",
      "8153    06/30/2020\n",
      "Name: formatted_date, Length: 2086, dtype: object\n"
     ]
    }
   ],
   "source": [
    "from datetime import datetime\n",
    "\n",
    "original_date = aquifier_df['Date']\n",
    "parsed_date = original_date.apply(lambda x: datetime.strptime(x, \"%d/%m/%Y\"))\n",
    "\n",
    "# Format to mm/dd/yyyy\n",
    "aquifier_df['formatted_date'] = pd.to_datetime(aquifier_df['Date'], format=\"%d/%m/%Y\").dt.strftime(\"%m/%d/%Y\")\n",
    "\n",
    "print(aquifier_df['formatted_date'])\n"
   ]
  },
  {
   "cell_type": "code",
   "execution_count": 5,
   "metadata": {},
   "outputs": [
    {
     "data": {
      "text/html": [
       "<div>\n",
       "<style scoped>\n",
       "    .dataframe tbody tr th:only-of-type {\n",
       "        vertical-align: middle;\n",
       "    }\n",
       "\n",
       "    .dataframe tbody tr th {\n",
       "        vertical-align: top;\n",
       "    }\n",
       "\n",
       "    .dataframe thead th {\n",
       "        text-align: right;\n",
       "    }\n",
       "</style>\n",
       "<table border=\"1\" class=\"dataframe\">\n",
       "  <thead>\n",
       "    <tr style=\"text-align: right;\">\n",
       "      <th></th>\n",
       "      <th>Rainfall_Gallicano</th>\n",
       "      <th>Rainfall_Pontetetto</th>\n",
       "      <th>Rainfall_Monte_Serra</th>\n",
       "      <th>Rainfall_Orentano</th>\n",
       "      <th>Rainfall_Borgo_a_Mozzano</th>\n",
       "      <th>Rainfall_Piaggione</th>\n",
       "      <th>Rainfall_Calavorno</th>\n",
       "      <th>Rainfall_Croce_Arcana</th>\n",
       "      <th>Rainfall_Tereglio_Coreglia_Antelminelli</th>\n",
       "      <th>Rainfall_Fabbriche_di_Vallico</th>\n",
       "      <th>...</th>\n",
       "      <th>Temperature_Monte_Serra</th>\n",
       "      <th>Temperature_Ponte_a_Moriano</th>\n",
       "      <th>Temperature_Lucca_Orto_Botanico</th>\n",
       "      <th>Volume_POL</th>\n",
       "      <th>Volume_CC1</th>\n",
       "      <th>Volume_CC2</th>\n",
       "      <th>Volume_CSA</th>\n",
       "      <th>Volume_CSAL</th>\n",
       "      <th>Hydrometry_Monte_S_Quirico</th>\n",
       "      <th>Hydrometry_Piaggione</th>\n",
       "    </tr>\n",
       "    <tr>\n",
       "      <th>formatted_date</th>\n",
       "      <th></th>\n",
       "      <th></th>\n",
       "      <th></th>\n",
       "      <th></th>\n",
       "      <th></th>\n",
       "      <th></th>\n",
       "      <th></th>\n",
       "      <th></th>\n",
       "      <th></th>\n",
       "      <th></th>\n",
       "      <th></th>\n",
       "      <th></th>\n",
       "      <th></th>\n",
       "      <th></th>\n",
       "      <th></th>\n",
       "      <th></th>\n",
       "      <th></th>\n",
       "      <th></th>\n",
       "      <th></th>\n",
       "      <th></th>\n",
       "      <th></th>\n",
       "    </tr>\n",
       "  </thead>\n",
       "  <tbody>\n",
       "    <tr>\n",
       "      <th>05/17/2011</th>\n",
       "      <td>0.0</td>\n",
       "      <td>0.0</td>\n",
       "      <td>0.0</td>\n",
       "      <td>0.0</td>\n",
       "      <td>0.0</td>\n",
       "      <td>0.0</td>\n",
       "      <td>0.0</td>\n",
       "      <td>0.0</td>\n",
       "      <td>0.0</td>\n",
       "      <td>0.0</td>\n",
       "      <td>...</td>\n",
       "      <td>12.80</td>\n",
       "      <td>17.20</td>\n",
       "      <td>17.45</td>\n",
       "      <td>-9936.0</td>\n",
       "      <td>-16377.12</td>\n",
       "      <td>-12823.488</td>\n",
       "      <td>0.0</td>\n",
       "      <td>0.0</td>\n",
       "      <td>0.17</td>\n",
       "      <td>-1.04</td>\n",
       "    </tr>\n",
       "    <tr>\n",
       "      <th>05/18/2011</th>\n",
       "      <td>0.0</td>\n",
       "      <td>0.0</td>\n",
       "      <td>0.0</td>\n",
       "      <td>0.0</td>\n",
       "      <td>0.0</td>\n",
       "      <td>0.0</td>\n",
       "      <td>0.0</td>\n",
       "      <td>0.0</td>\n",
       "      <td>0.0</td>\n",
       "      <td>0.0</td>\n",
       "      <td>...</td>\n",
       "      <td>15.25</td>\n",
       "      <td>19.00</td>\n",
       "      <td>19.00</td>\n",
       "      <td>-9936.0</td>\n",
       "      <td>-16377.12</td>\n",
       "      <td>-12823.488</td>\n",
       "      <td>0.0</td>\n",
       "      <td>0.0</td>\n",
       "      <td>0.18</td>\n",
       "      <td>-1.04</td>\n",
       "    </tr>\n",
       "    <tr>\n",
       "      <th>05/19/2011</th>\n",
       "      <td>0.0</td>\n",
       "      <td>0.0</td>\n",
       "      <td>0.0</td>\n",
       "      <td>0.0</td>\n",
       "      <td>0.0</td>\n",
       "      <td>0.0</td>\n",
       "      <td>0.0</td>\n",
       "      <td>0.0</td>\n",
       "      <td>0.0</td>\n",
       "      <td>0.0</td>\n",
       "      <td>...</td>\n",
       "      <td>15.35</td>\n",
       "      <td>19.95</td>\n",
       "      <td>20.10</td>\n",
       "      <td>-9936.0</td>\n",
       "      <td>-16377.12</td>\n",
       "      <td>-12823.488</td>\n",
       "      <td>0.0</td>\n",
       "      <td>0.0</td>\n",
       "      <td>0.16</td>\n",
       "      <td>-1.04</td>\n",
       "    </tr>\n",
       "    <tr>\n",
       "      <th>05/20/2011</th>\n",
       "      <td>0.8</td>\n",
       "      <td>0.0</td>\n",
       "      <td>0.0</td>\n",
       "      <td>0.2</td>\n",
       "      <td>0.0</td>\n",
       "      <td>0.0</td>\n",
       "      <td>0.0</td>\n",
       "      <td>0.0</td>\n",
       "      <td>0.6</td>\n",
       "      <td>0.4</td>\n",
       "      <td>...</td>\n",
       "      <td>16.40</td>\n",
       "      <td>20.15</td>\n",
       "      <td>21.60</td>\n",
       "      <td>-9936.0</td>\n",
       "      <td>-16377.12</td>\n",
       "      <td>-12823.488</td>\n",
       "      <td>0.0</td>\n",
       "      <td>0.0</td>\n",
       "      <td>0.15</td>\n",
       "      <td>-1.04</td>\n",
       "    </tr>\n",
       "    <tr>\n",
       "      <th>05/21/2011</th>\n",
       "      <td>0.0</td>\n",
       "      <td>0.0</td>\n",
       "      <td>0.0</td>\n",
       "      <td>0.0</td>\n",
       "      <td>0.0</td>\n",
       "      <td>0.0</td>\n",
       "      <td>0.0</td>\n",
       "      <td>1.0</td>\n",
       "      <td>0.0</td>\n",
       "      <td>0.0</td>\n",
       "      <td>...</td>\n",
       "      <td>17.60</td>\n",
       "      <td>21.35</td>\n",
       "      <td>21.15</td>\n",
       "      <td>-9936.0</td>\n",
       "      <td>-16377.12</td>\n",
       "      <td>-12823.488</td>\n",
       "      <td>0.0</td>\n",
       "      <td>0.0</td>\n",
       "      <td>0.15</td>\n",
       "      <td>-1.05</td>\n",
       "    </tr>\n",
       "  </tbody>\n",
       "</table>\n",
       "<p>5 rows × 26 columns</p>\n",
       "</div>"
      ],
      "text/plain": [
       "                Rainfall_Gallicano  Rainfall_Pontetetto  Rainfall_Monte_Serra  \\\n",
       "formatted_date                                                                  \n",
       "05/17/2011                     0.0                  0.0                   0.0   \n",
       "05/18/2011                     0.0                  0.0                   0.0   \n",
       "05/19/2011                     0.0                  0.0                   0.0   \n",
       "05/20/2011                     0.8                  0.0                   0.0   \n",
       "05/21/2011                     0.0                  0.0                   0.0   \n",
       "\n",
       "                Rainfall_Orentano  Rainfall_Borgo_a_Mozzano  \\\n",
       "formatted_date                                                \n",
       "05/17/2011                    0.0                       0.0   \n",
       "05/18/2011                    0.0                       0.0   \n",
       "05/19/2011                    0.0                       0.0   \n",
       "05/20/2011                    0.2                       0.0   \n",
       "05/21/2011                    0.0                       0.0   \n",
       "\n",
       "                Rainfall_Piaggione  Rainfall_Calavorno  Rainfall_Croce_Arcana  \\\n",
       "formatted_date                                                                  \n",
       "05/17/2011                     0.0                 0.0                    0.0   \n",
       "05/18/2011                     0.0                 0.0                    0.0   \n",
       "05/19/2011                     0.0                 0.0                    0.0   \n",
       "05/20/2011                     0.0                 0.0                    0.0   \n",
       "05/21/2011                     0.0                 0.0                    1.0   \n",
       "\n",
       "                Rainfall_Tereglio_Coreglia_Antelminelli  \\\n",
       "formatted_date                                            \n",
       "05/17/2011                                          0.0   \n",
       "05/18/2011                                          0.0   \n",
       "05/19/2011                                          0.0   \n",
       "05/20/2011                                          0.6   \n",
       "05/21/2011                                          0.0   \n",
       "\n",
       "                Rainfall_Fabbriche_di_Vallico  ...  Temperature_Monte_Serra  \\\n",
       "formatted_date                                 ...                            \n",
       "05/17/2011                                0.0  ...                    12.80   \n",
       "05/18/2011                                0.0  ...                    15.25   \n",
       "05/19/2011                                0.0  ...                    15.35   \n",
       "05/20/2011                                0.4  ...                    16.40   \n",
       "05/21/2011                                0.0  ...                    17.60   \n",
       "\n",
       "                Temperature_Ponte_a_Moriano  Temperature_Lucca_Orto_Botanico  \\\n",
       "formatted_date                                                                 \n",
       "05/17/2011                            17.20                            17.45   \n",
       "05/18/2011                            19.00                            19.00   \n",
       "05/19/2011                            19.95                            20.10   \n",
       "05/20/2011                            20.15                            21.60   \n",
       "05/21/2011                            21.35                            21.15   \n",
       "\n",
       "                Volume_POL  Volume_CC1  Volume_CC2  Volume_CSA  Volume_CSAL  \\\n",
       "formatted_date                                                                \n",
       "05/17/2011         -9936.0   -16377.12  -12823.488         0.0          0.0   \n",
       "05/18/2011         -9936.0   -16377.12  -12823.488         0.0          0.0   \n",
       "05/19/2011         -9936.0   -16377.12  -12823.488         0.0          0.0   \n",
       "05/20/2011         -9936.0   -16377.12  -12823.488         0.0          0.0   \n",
       "05/21/2011         -9936.0   -16377.12  -12823.488         0.0          0.0   \n",
       "\n",
       "                Hydrometry_Monte_S_Quirico  Hydrometry_Piaggione  \n",
       "formatted_date                                                    \n",
       "05/17/2011                            0.17                 -1.04  \n",
       "05/18/2011                            0.18                 -1.04  \n",
       "05/19/2011                            0.16                 -1.04  \n",
       "05/20/2011                            0.15                 -1.04  \n",
       "05/21/2011                            0.15                 -1.05  \n",
       "\n",
       "[5 rows x 26 columns]"
      ]
     },
     "execution_count": 5,
     "metadata": {},
     "output_type": "execute_result"
    }
   ],
   "source": [
    "aquifier_df = aquifier_df.set_index('formatted_date')\n",
    "aquifier_df = aquifier_df.drop(columns=['Date'])\n",
    "aquifier_df.head()"
   ]
  },
  {
   "cell_type": "code",
   "execution_count": 6,
   "metadata": {},
   "outputs": [
    {
     "data": {
      "text/plain": [
       "Index(['Rainfall_Gallicano', 'Rainfall_Pontetetto', 'Rainfall_Monte_Serra',\n",
       "       'Rainfall_Orentano', 'Rainfall_Borgo_a_Mozzano', 'Rainfall_Piaggione',\n",
       "       'Rainfall_Calavorno', 'Rainfall_Croce_Arcana',\n",
       "       'Rainfall_Tereglio_Coreglia_Antelminelli',\n",
       "       'Rainfall_Fabbriche_di_Vallico', 'Depth_to_Groundwater_LT2',\n",
       "       'Depth_to_Groundwater_SAL', 'Depth_to_Groundwater_PAG',\n",
       "       'Depth_to_Groundwater_CoS', 'Depth_to_Groundwater_DIEC',\n",
       "       'Temperature_Orentano', 'Temperature_Monte_Serra',\n",
       "       'Temperature_Ponte_a_Moriano', 'Temperature_Lucca_Orto_Botanico',\n",
       "       'Volume_POL', 'Volume_CC1', 'Volume_CC2', 'Volume_CSA', 'Volume_CSAL',\n",
       "       'Hydrometry_Monte_S_Quirico', 'Hydrometry_Piaggione'],\n",
       "      dtype='object')"
      ]
     },
     "execution_count": 6,
     "metadata": {},
     "output_type": "execute_result"
    }
   ],
   "source": [
    "aquifier_df.columns"
   ]
  },
  {
   "cell_type": "markdown",
   "metadata": {},
   "source": [
    "## Multivariate Analysis - LSTM "
   ]
  },
  {
   "cell_type": "markdown",
   "metadata": {},
   "source": [
    "### Min Max Scaling"
   ]
  },
  {
   "cell_type": "markdown",
   "metadata": {},
   "source": [
    "#### Function to Min Max scale multiple features"
   ]
  },
  {
   "cell_type": "code",
   "execution_count": 7,
   "metadata": {},
   "outputs": [],
   "source": [
    "target_columns = aquifier_df[['Depth_to_Groundwater_SAL', 'Depth_to_Groundwater_CoS', 'Depth_to_Groundwater_LT2']].columns.tolist()\n",
    "feature_columns = aquifier_df.drop(columns=target_columns).columns.tolist()\n",
    "\n",
    "#target_columns.dtypes"
   ]
  },
  {
   "cell_type": "code",
   "execution_count": 8,
   "metadata": {},
   "outputs": [
    {
     "name": "stdout",
     "output_type": "stream",
     "text": [
      "MinMaxScaler()\n"
     ]
    }
   ],
   "source": [
    "# Ensure X is defined\n",
    "\n",
    "def prepare_multi_feature_data(df, feature_columns, target_columns, lookback=30):\n",
    "    \"\"\"\n",
    "    Prepare multi-feature sequences for LSTM model\n",
    "    \"\"\"\n",
    "    \n",
    "    X, y = [], []\n",
    "    # Scale the features\n",
    "    scaler_features = MinMaxScaler()\n",
    "    scaled_features = scaler_features.fit_transform(df[feature_columns])\n",
    "    \n",
    "    # Scale the target separately\n",
    "    scaler_target = MinMaxScaler()\n",
    "    scaled_target = scaler_target.fit_transform(df[target_columns])\n",
    "    \n",
    "    for i in range(len(df) - lookback):\n",
    "        # Features: take all feature columns for the lookback period\n",
    "        X.append(scaled_features[i:(i + lookback)])\n",
    "        # Targets: take all target columns for the prediction point\n",
    "        y.append(scaled_target[(i + lookback)])\n",
    "    \n",
    "    return X, y, scaler_features, scaler_target\n",
    "\n",
    "# Call the function with debugging\n",
    "try:\n",
    "    X, y, scaler_features, scaler_target = prepare_multi_feature_data(aquifier_df, feature_columns, target_columns, lookback=30)\n",
    "    print(scaler_target)\n",
    "except ValueError as e:\n",
    "    print(\"ValueError encountered:\", e)\n",
    "    # print(\"aquifier_df shape:\", aquifier_df.shape)\n",
    "    # print(\"feature_columns:\", feature_columns)\n",
    "    # print(\"target_columns:\", target_columns)\n",
    "    # print(\"lookback:\", 7)\n",
    "\n",
    "\n",
    "\n"
   ]
  },
  {
   "cell_type": "markdown",
   "metadata": {},
   "source": [
    "#### Define Test Train Split Myself <br>"
   ]
  },
  {
   "cell_type": "code",
   "execution_count": 9,
   "metadata": {},
   "outputs": [
    {
     "name": "stdout",
     "output_type": "stream",
     "text": [
      "Train size: 1644, Test size: 412\n"
     ]
    }
   ],
   "source": [
    "train_size = int(len(X) * 0.8)\n",
    "X_train, X_test = X[:train_size], X[train_size:]\n",
    "y_train, y_test = y[:train_size], y[train_size:]\n",
    "test_size = len(X) - train_size\n",
    "print(f\"Train size: {len(X_train)}, Test size: {len(X_test)}\")\n",
    "#print(y_train)\n"
   ]
  },
  {
   "cell_type": "markdown",
   "metadata": {},
   "source": [
    "### LSTM Model Multi-Target"
   ]
  },
  {
   "cell_type": "code",
   "execution_count": 10,
   "metadata": {},
   "outputs": [
    {
     "name": "stderr",
     "output_type": "stream",
     "text": [
      "/usr/local/python/3.12.1/lib/python3.12/site-packages/keras/src/layers/rnn/rnn.py:204: UserWarning: Do not pass an `input_shape`/`input_dim` argument to a layer. When using Sequential models, prefer using an `Input(shape)` object as the first layer in the model instead.\n",
      "  super().__init__(**kwargs)\n"
     ]
    }
   ],
   "source": [
    "from tensorflow.keras.layers import Bidirectional\n",
    "\n",
    "n_features = len(feature_columns)\n",
    "\n",
    "model = Sequential([\n",
    "    # Increase capacity for better pattern recognition\n",
    "    Bidirectional(LSTM(128, return_sequences=True, input_shape=(30, n_features))),\n",
    "    Dropout(0.3),\n",
    "    \n",
    "    Bidirectional(LSTM(64, return_sequences=True)),\n",
    "    Dropout(0.3),\n",
    "    \n",
    "    Bidirectional(LSTM(32)),\n",
    "    Dropout(0.3),\n",
    "    \n",
    "    Dense(32, activation='relu'),\n",
    "    Dense(3)\n",
    "])\n",
    "\n",
    "# Use Huber loss to handle outliers better\n",
    "model.compile(optimizer=Adam(learning_rate=0.0005), loss='huber')"
   ]
  },
  {
   "cell_type": "code",
   "execution_count": 11,
   "metadata": {},
   "outputs": [
    {
     "name": "stdout",
     "output_type": "stream",
     "text": [
      "X_train shape: (1644, 30, 23)\n",
      "y_train shape: (1644, 3)\n",
      "Epoch 1/20\n",
      "\u001b[1m47/47\u001b[0m \u001b[32m━━━━━━━━━━━━━━━━━━━━\u001b[0m\u001b[37m\u001b[0m \u001b[1m13s\u001b[0m 131ms/step - loss: 0.0083 - val_loss: 4.0474e-04\n",
      "Epoch 2/20\n",
      "\u001b[1m47/47\u001b[0m \u001b[32m━━━━━━━━━━━━━━━━━━━━\u001b[0m\u001b[37m\u001b[0m \u001b[1m6s\u001b[0m 123ms/step - loss: 0.0015 - val_loss: 5.9645e-04\n",
      "Epoch 3/20\n",
      "\u001b[1m47/47\u001b[0m \u001b[32m━━━━━━━━━━━━━━━━━━━━\u001b[0m\u001b[37m\u001b[0m \u001b[1m5s\u001b[0m 112ms/step - loss: 0.0012 - val_loss: 6.9966e-04\n",
      "Epoch 4/20\n",
      "\u001b[1m47/47\u001b[0m \u001b[32m━━━━━━━━━━━━━━━━━━━━\u001b[0m\u001b[37m\u001b[0m \u001b[1m10s\u001b[0m 100ms/step - loss: 0.0010 - val_loss: 2.8550e-04\n",
      "Epoch 5/20\n",
      "\u001b[1m47/47\u001b[0m \u001b[32m━━━━━━━━━━━━━━━━━━━━\u001b[0m\u001b[37m\u001b[0m \u001b[1m5s\u001b[0m 97ms/step - loss: 9.9764e-04 - val_loss: 4.9880e-04\n",
      "Epoch 6/20\n",
      "\u001b[1m47/47\u001b[0m \u001b[32m━━━━━━━━━━━━━━━━━━━━\u001b[0m\u001b[37m\u001b[0m \u001b[1m5s\u001b[0m 105ms/step - loss: 8.4700e-04 - val_loss: 2.6773e-04\n",
      "Epoch 7/20\n",
      "\u001b[1m47/47\u001b[0m \u001b[32m━━━━━━━━━━━━━━━━━━━━\u001b[0m\u001b[37m\u001b[0m \u001b[1m5s\u001b[0m 96ms/step - loss: 8.0657e-04 - val_loss: 1.9396e-04\n",
      "Epoch 8/20\n",
      "\u001b[1m47/47\u001b[0m \u001b[32m━━━━━━━━━━━━━━━━━━━━\u001b[0m\u001b[37m\u001b[0m \u001b[1m7s\u001b[0m 129ms/step - loss: 7.0583e-04 - val_loss: 2.0975e-04\n",
      "Epoch 9/20\n",
      "\u001b[1m47/47\u001b[0m \u001b[32m━━━━━━━━━━━━━━━━━━━━\u001b[0m\u001b[37m\u001b[0m \u001b[1m9s\u001b[0m 98ms/step - loss: 6.8035e-04 - val_loss: 1.9719e-04\n",
      "Epoch 10/20\n",
      "\u001b[1m47/47\u001b[0m \u001b[32m━━━━━━━━━━━━━━━━━━━━\u001b[0m\u001b[37m\u001b[0m \u001b[1m5s\u001b[0m 98ms/step - loss: 6.1198e-04 - val_loss: 3.3170e-04\n",
      "Epoch 11/20\n",
      "\u001b[1m47/47\u001b[0m \u001b[32m━━━━━━━━━━━━━━━━━━━━\u001b[0m\u001b[37m\u001b[0m \u001b[1m5s\u001b[0m 100ms/step - loss: 5.5314e-04 - val_loss: 2.4394e-04\n",
      "Epoch 12/20\n",
      "\u001b[1m47/47\u001b[0m \u001b[32m━━━━━━━━━━━━━━━━━━━━\u001b[0m\u001b[37m\u001b[0m \u001b[1m6s\u001b[0m 107ms/step - loss: 6.0913e-04 - val_loss: 4.5703e-04\n",
      "Epoch 13/20\n",
      "\u001b[1m47/47\u001b[0m \u001b[32m━━━━━━━━━━━━━━━━━━━━\u001b[0m\u001b[37m\u001b[0m \u001b[1m10s\u001b[0m 101ms/step - loss: 5.1244e-04 - val_loss: 2.9472e-04\n",
      "Epoch 14/20\n",
      "\u001b[1m47/47\u001b[0m \u001b[32m━━━━━━━━━━━━━━━━━━━━\u001b[0m\u001b[37m\u001b[0m \u001b[1m5s\u001b[0m 96ms/step - loss: 4.4674e-04 - val_loss: 2.0017e-04\n",
      "Epoch 15/20\n",
      "\u001b[1m47/47\u001b[0m \u001b[32m━━━━━━━━━━━━━━━━━━━━\u001b[0m\u001b[37m\u001b[0m \u001b[1m8s\u001b[0m 180ms/step - loss: 5.4957e-04 - val_loss: 4.9766e-04\n",
      "Epoch 16/20\n",
      "\u001b[1m47/47\u001b[0m \u001b[32m━━━━━━━━━━━━━━━━━━━━\u001b[0m\u001b[37m\u001b[0m \u001b[1m9s\u001b[0m 148ms/step - loss: 4.7962e-04 - val_loss: 4.2946e-04\n",
      "Epoch 17/20\n",
      "\u001b[1m47/47\u001b[0m \u001b[32m━━━━━━━━━━━━━━━━━━━━\u001b[0m\u001b[37m\u001b[0m \u001b[1m8s\u001b[0m 106ms/step - loss: 4.1943e-04 - val_loss: 3.0163e-04\n",
      "Epoch 18/20\n",
      "\u001b[1m47/47\u001b[0m \u001b[32m━━━━━━━━━━━━━━━━━━━━\u001b[0m\u001b[37m\u001b[0m \u001b[1m5s\u001b[0m 98ms/step - loss: 4.0945e-04 - val_loss: 2.5439e-04\n",
      "Epoch 19/20\n",
      "\u001b[1m47/47\u001b[0m \u001b[32m━━━━━━━━━━━━━━━━━━━━\u001b[0m\u001b[37m\u001b[0m \u001b[1m5s\u001b[0m 99ms/step - loss: 4.6477e-04 - val_loss: 2.6373e-04\n",
      "Epoch 20/20\n",
      "\u001b[1m47/47\u001b[0m \u001b[32m━━━━━━━━━━━━━━━━━━━━\u001b[0m\u001b[37m\u001b[0m \u001b[1m5s\u001b[0m 96ms/step - loss: 3.7406e-04 - val_loss: 2.6811e-04\n"
     ]
    }
   ],
   "source": [
    "import numpy as np\n",
    "\n",
    "# Convert to numpy arrays\n",
    "X_train = np.array(X_train)\n",
    "y_train = np.array(y_train)\n",
    "X_test = np.array(X_test)\n",
    "\n",
    "# Ensure the shapes are compatible\n",
    "print(f\"X_train shape: {X_train.shape}\")\n",
    "print(f\"y_train shape: {y_train.shape}\")\n",
    "\n",
    "# Train the model\n",
    "history = model.fit(\n",
    "    X_train, y_train,\n",
    "    epochs=20,\n",
    "    batch_size=32,#increase to 64 \n",
    "    validation_split=0.1,\n",
    "    verbose=1\n",
    ")"
   ]
  },
  {
   "cell_type": "markdown",
   "metadata": {},
   "source": [
    "### Model Predictions\n",
    "We train the model on the train data and the test data to see how well <br>\n",
    "we are predicting the training and testing data"
   ]
  },
  {
   "cell_type": "code",
   "execution_count": 12,
   "metadata": {},
   "outputs": [
    {
     "name": "stdout",
     "output_type": "stream",
     "text": [
      "\u001b[1m52/52\u001b[0m \u001b[32m━━━━━━━━━━━━━━━━━━━━\u001b[0m\u001b[37m\u001b[0m \u001b[1m3s\u001b[0m 39ms/step\n",
      "\u001b[1m13/13\u001b[0m \u001b[32m━━━━━━━━━━━━━━━━━━━━\u001b[0m\u001b[37m\u001b[0m \u001b[1m0s\u001b[0m 24ms/step\n",
      "[[0.144007   0.39844412 0.09144357]\n",
      " [0.14355478 0.39920682 0.09188914]\n",
      " [0.14229764 0.39902726 0.09214812]\n",
      " ...\n",
      " [0.15590398 0.34830266 0.10552102]\n",
      " [0.15264794 0.3450211  0.10540649]\n",
      " [0.1503023  0.34284532 0.10477217]]\n"
     ]
    }
   ],
   "source": [
    "train_pred = model.predict(X_train)\n",
    "test_pred = model.predict(X_test)\n",
    "\n",
    "print(test_pred)"
   ]
  },
  {
   "cell_type": "markdown",
   "metadata": {},
   "source": [
    "### Convert back to normal scale"
   ]
  },
  {
   "cell_type": "code",
   "execution_count": 13,
   "metadata": {},
   "outputs": [],
   "source": [
    "# Inverse transform predictions\n",
    "train_pred = scaler_target.inverse_transform(train_pred)\n",
    "test_pred = scaler_target.inverse_transform(test_pred)\n",
    "y_train_orig = scaler_target.inverse_transform(y_train)\n",
    "y_test_orig = scaler_target.inverse_transform(y_test)\n",
    "\n"
   ]
  },
  {
   "cell_type": "markdown",
   "metadata": {},
   "source": [
    "### Evaluate Loss"
   ]
  },
  {
   "cell_type": "code",
   "execution_count": 14,
   "metadata": {},
   "outputs": [
    {
     "data": {
      "text/plain": [
       "<matplotlib.legend.Legend at 0x72a8a1f059a0>"
      ]
     },
     "execution_count": 14,
     "metadata": {},
     "output_type": "execute_result"
    },
    {
     "data": {
      "image/png": "[encoded data removed]",
      "text/plain": [
       "<Figure size 1200x900 with 1 Axes>"
      ]
     },
     "metadata": {},
     "output_type": "display_data"
    }
   ],
   "source": [
    "import matplotlib.pyplot as plt\n",
    "\n",
    "\n",
    "# Create visualizations\n",
    "plt.figure(figsize=(12, 9))\n",
    "\n",
    "# Plot 1: Training Loss\n",
    "plt.subplot(4, 1, 1)\n",
    "plt.plot(history.history['loss'], label='Training Loss')\n",
    "plt.plot(history.history['val_loss'], label='Validation Loss')\n",
    "plt.title('Model Loss During Training')\n",
    "plt.xlabel('Epoch')\n",
    "plt.ylabel('Loss')\n",
    "plt.legend()"
   ]
  },
  {
   "cell_type": "markdown",
   "metadata": {},
   "source": [
    "## Evaluate Progress"
   ]
  },
  {
   "cell_type": "code",
   "execution_count": 15,
   "metadata": {},
   "outputs": [],
   "source": [
    "def evaluate_regression_lstm(y_true, y_pred):\n",
    "    # R² score (1.0 is perfect prediction)\n",
    "    r2 = r2_score(y_true, y_pred)\n",
    "    \n",
    "    # Mean Absolute Error\n",
    "    mae = mean_absolute_error(y_true, y_pred)\n",
    "    \n",
    "    # Root Mean Squared Error\n",
    "    rmse = np.sqrt(mean_squared_error(y_true, y_pred))\n",
    "    \n",
    "    # Custom accuracy metric for regression (as percentage)\n",
    "    # Using 1 - normalized MAE as a proxy for accuracy\n",
    "    #accuracy = (1 - mae / (y_true.max() - y_true.min())) * 100\n",
    "    \n",
    "    print(\"\\nRegression Metrics:\")\n",
    "    print(f\"R² Score: {r2:.4f}\")\n",
    "    print(f\"MAE: {mae:.4f}\")\n",
    "    print(f\"RMSE: {rmse:.4f}\")\n",
    "    #print(f\"Accuracy (based on normalized MAE): {accuracy:.2f}%\")\n",
    "    \n",
    "    return r2, mae, rmse"
   ]
  },
  {
   "cell_type": "markdown",
   "metadata": {},
   "source": [
    "### Evaluate 3 Targets"
   ]
  },
  {
   "cell_type": "code",
   "execution_count": 16,
   "metadata": {},
   "outputs": [
    {
     "name": "stdout",
     "output_type": "stream",
     "text": [
      "\n",
      "Regression Metrics:\n",
      "R² Score: 0.9933\n",
      "MAE: 0.2195\n",
      "RMSE: 0.2748\n"
     ]
    },
    {
     "data": {
      "text/plain": [
       "(0.9933168559991812, 0.2194882965087889, 0.2748051920030445)"
      ]
     },
     "execution_count": 16,
     "metadata": {},
     "output_type": "execute_result"
    }
   ],
   "source": [
    "evaluate_regression_lstm(y_test_orig[0], test_pred[0])"
   ]
  },
  {
   "cell_type": "code",
   "execution_count": 17,
   "metadata": {},
   "outputs": [
    {
     "name": "stdout",
     "output_type": "stream",
     "text": [
      "\n",
      "Regression Metrics:\n",
      "R² Score: 0.9947\n",
      "MAE: 0.2083\n",
      "RMSE: 0.2458\n"
     ]
    },
    {
     "data": {
      "text/plain": [
       "(0.9947197333501501, 0.2083135223388671, 0.24578614018162145)"
      ]
     },
     "execution_count": 17,
     "metadata": {},
     "output_type": "execute_result"
    }
   ],
   "source": [
    "evaluate_regression_lstm(y_test_orig[1], test_pred[1])"
   ]
  },
  {
   "cell_type": "code",
   "execution_count": 18,
   "metadata": {},
   "outputs": [
    {
     "name": "stdout",
     "output_type": "stream",
     "text": [
      "\n",
      "Regression Metrics:\n",
      "R² Score: 0.9967\n",
      "MAE: 0.1616\n",
      "RMSE: 0.1937\n"
     ]
    },
    {
     "data": {
      "text/plain": [
       "(0.9967027922313123, 0.1616434351603194, 0.19369595043721607)"
      ]
     },
     "execution_count": 18,
     "metadata": {},
     "output_type": "execute_result"
    }
   ],
   "source": [
    "evaluate_regression_lstm(y_test_orig[2], test_pred[2])"
   ]
  },
  {
   "cell_type": "markdown",
   "metadata": {},
   "source": []
  },
  {
   "cell_type": "markdown",
   "metadata": {},
   "source": [
    "## Find Optimal Learning Rate "
   ]
  },
  {
   "cell_type": "code",
   "execution_count": 19,
   "metadata": {},
   "outputs": [],
   "source": [
    "# def find_optimal_lr(model, X_train, y_train):\n",
    "#     lr_schedule = np.logspace(-4, -2, 100)  # Test from 0.0001 to 0.01\n",
    "#     losses = []\n",
    "    \n",
    "#     for lr in lr_schedule:\n",
    "#         model.optimizer.learning_rate.assign(lr)\n",
    "#         loss = model.train_on_batch(X_train[:32], y_train[:32])\n",
    "#         losses.append(loss)\n",
    "        \n",
    "#     best_lr = lr_schedule[np.argmin(losses)]\n",
    "#     return best_lr\n",
    "\n",
    "# find_optimal_lr(model, X_train, y_train)"
   ]
  },
  {
   "cell_type": "markdown",
   "metadata": {},
   "source": [
    "## Plot Residuals - Actual vs Predicted"
   ]
  },
  {
   "cell_type": "code",
   "execution_count": 20,
   "metadata": {},
   "outputs": [
    {
     "data": {
      "image/png": "[encoded data removed]",
      "text/plain": [
       "<Figure size 1400x500 with 1 Axes>"
      ]
     },
     "metadata": {},
     "output_type": "display_data"
    },
    {
     "data": {
      "image/png": "[encoded data removed]",
      "text/plain": [
       "<Figure size 1400x500 with 1 Axes>"
      ]
     },
     "metadata": {},
     "output_type": "display_data"
    }
   ],
   "source": [
    "import matplotlib.pyplot as plt\n",
    "\n",
    "def plot_actual_vs_predicted(y_true, y_pred, title='Actual vs Predicted'):\n",
    "    plt.figure(figsize=(14, 5))\n",
    "    plt.plot(y_true, label='Actual')\n",
    "    plt.plot(y_pred, label='Predicted')\n",
    "    plt.title(title)\n",
    "    plt.xlabel('Time')\n",
    "    plt.ylabel('Value')\n",
    "    plt.legend()\n",
    "    plt.show()\n",
    "\n",
    "# Assuming y_test and test_pred are defined\n",
    "plot_actual_vs_predicted(y_test_orig[0], test_pred[0])\n",
    "plot_actual_vs_predicted(y_test_orig[1], test_pred[1])"
   ]
  },
  {
   "cell_type": "code",
   "execution_count": 21,
   "metadata": {},
   "outputs": [
    {
     "data": {
      "image/png": "[encoded data removed]",
      "text/plain": [
       "<Figure size 1400x500 with 1 Axes>"
      ]
     },
     "metadata": {},
     "output_type": "display_data"
    }
   ],
   "source": [
    "def plot_residuals(y_true, y_pred, title='Residuals'):\n",
    "    residuals = y_true - y_pred\n",
    "    plt.figure(figsize=(14, 5))\n",
    "    plt.plot(residuals, label='Residuals')\n",
    "    plt.title(title)\n",
    "    plt.xlabel('Time')\n",
    "    plt.ylabel('Residual')\n",
    "    plt.legend()\n",
    "    plt.show()\n",
    "    \n",
    "    \n",
    "plot_residuals(y_test_orig, test_pred, title='Residuals')"
   ]
  },
  {
   "cell_type": "code",
   "execution_count": null,
   "metadata": {},
   "outputs": [],
   "source": []
  }
 ],
 "metadata": {
  "kernelspec": {
   "display_name": "Python 3",
   "language": "python",
   "name": "python3"
  },
  "language_info": {
   "codemirror_mode": {
    "name": "ipython",
    "version": 3
   },
   "file_extension": ".py",
   "mimetype": "text/x-python",
   "name": "python",
   "nbconvert_exporter": "python",
   "pygments_lexer": "ipython3",
   "version": "3.12.1"
  }
 },
 "nbformat": 4,
 "nbformat_minor": 2
}
