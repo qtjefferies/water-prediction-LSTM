{
 "cells": [
  {
   "cell_type": "code",
   "execution_count": 8,
   "metadata": {},
   "outputs": [],
   "source": [
    "import pandas as pd\n",
    "from datetime import datetime\n",
    "from sklearn.preprocessing import MinMaxScaler\n",
    "from tensorflow.keras.optimizers import Adam\n",
    "from tensorflow.keras.models import Sequential\n",
    "from tensorflow.keras.layers import LSTM, Dense, Dropout\n",
    "from sklearn.metrics import r2_score, mean_absolute_error, mean_squared_error\n",
    "from tensorflow.keras.callbacks import EarlyStopping\n",
    "\n"
   ]
  },
  {
   "cell_type": "markdown",
   "metadata": {},
   "source": [
    "### Import Data"
   ]
  },
  {
   "cell_type": "code",
   "execution_count": 9,
   "metadata": {},
   "outputs": [
    {
     "data": {
      "text/html": [
       "<div>\n",
       "<style scoped>\n",
       "    .dataframe tbody tr th:only-of-type {\n",
       "        vertical-align: middle;\n",
       "    }\n",
       "\n",
       "    .dataframe tbody tr th {\n",
       "        vertical-align: top;\n",
       "    }\n",
       "\n",
       "    .dataframe thead th {\n",
       "        text-align: right;\n",
       "    }\n",
       "</style>\n",
       "<table border=\"1\" class=\"dataframe\">\n",
       "  <thead>\n",
       "    <tr style=\"text-align: right;\">\n",
       "      <th></th>\n",
       "      <th>Date</th>\n",
       "      <th>Rainfall_Settefrati</th>\n",
       "      <th>Temperature_Settefrati</th>\n",
       "      <th>Flow_Rate_Madonna_di_Canneto</th>\n",
       "    </tr>\n",
       "  </thead>\n",
       "  <tbody>\n",
       "    <tr>\n",
       "      <th>0</th>\n",
       "      <td>01/01/2012</td>\n",
       "      <td>0.0</td>\n",
       "      <td>5.25</td>\n",
       "      <td>NaN</td>\n",
       "    </tr>\n",
       "    <tr>\n",
       "      <th>1</th>\n",
       "      <td>02/01/2012</td>\n",
       "      <td>5.6</td>\n",
       "      <td>6.65</td>\n",
       "      <td>NaN</td>\n",
       "    </tr>\n",
       "    <tr>\n",
       "      <th>2</th>\n",
       "      <td>03/01/2012</td>\n",
       "      <td>10.0</td>\n",
       "      <td>8.85</td>\n",
       "      <td>NaN</td>\n",
       "    </tr>\n",
       "    <tr>\n",
       "      <th>3</th>\n",
       "      <td>04/01/2012</td>\n",
       "      <td>0.0</td>\n",
       "      <td>6.75</td>\n",
       "      <td>NaN</td>\n",
       "    </tr>\n",
       "    <tr>\n",
       "      <th>4</th>\n",
       "      <td>05/01/2012</td>\n",
       "      <td>1.0</td>\n",
       "      <td>5.55</td>\n",
       "      <td>NaN</td>\n",
       "    </tr>\n",
       "  </tbody>\n",
       "</table>\n",
       "</div>"
      ],
      "text/plain": [
       "         Date  Rainfall_Settefrati  Temperature_Settefrati  \\\n",
       "0  01/01/2012                  0.0                    5.25   \n",
       "1  02/01/2012                  5.6                    6.65   \n",
       "2  03/01/2012                 10.0                    8.85   \n",
       "3  04/01/2012                  0.0                    6.75   \n",
       "4  05/01/2012                  1.0                    5.55   \n",
       "\n",
       "   Flow_Rate_Madonna_di_Canneto  \n",
       "0                           NaN  \n",
       "1                           NaN  \n",
       "2                           NaN  \n",
       "3                           NaN  \n",
       "4                           NaN  "
      ]
     },
     "execution_count": 9,
     "metadata": {},
     "output_type": "execute_result"
    }
   ],
   "source": [
    "import pandas as pd\n",
    "\n",
    "madonna_df = pd.read_csv('/workspaces/time-series-project-tutorial/acea-water-prediction/Water_Spring_Madonna_di_Canneto.csv')\n",
    "madonna_df.head()"
   ]
  },
  {
   "cell_type": "code",
   "execution_count": 10,
   "metadata": {},
   "outputs": [
    {
     "name": "stdout",
     "output_type": "stream",
     "text": [
      "            Date  Rainfall_Settefrati  Temperature_Settefrati  \\\n",
      "1167  13/03/2015                  0.0                    5.70   \n",
      "1168  14/03/2015                  5.8                    7.10   \n",
      "1169  15/03/2015                  7.4                    4.90   \n",
      "1170  16/03/2015                  8.6                    7.50   \n",
      "1171  17/03/2015                  7.6                    7.55   \n",
      "...          ...                  ...                     ...   \n",
      "2529  04/12/2018                  0.4                   11.10   \n",
      "2530  05/12/2018                  0.0                    9.55   \n",
      "2531  06/12/2018                  0.0                    8.00   \n",
      "2532  07/12/2018                  0.0                    8.00   \n",
      "2533  08/12/2018                  8.6                    6.95   \n",
      "\n",
      "      Flow_Rate_Madonna_di_Canneto  \n",
      "1167                    255.956525  \n",
      "1168                    289.545561  \n",
      "1169                    289.918615  \n",
      "1170                    290.082896  \n",
      "1171                    290.688777  \n",
      "...                            ...  \n",
      "2529                    274.696989  \n",
      "2530                    274.789202  \n",
      "2531                    274.907851  \n",
      "2532                    274.921293  \n",
      "2533                    274.760747  \n",
      "\n",
      "[879 rows x 4 columns]\n"
     ]
    }
   ],
   "source": [
    "madonna_df.isnull().sum()\n",
    "madonna_df = madonna_df.dropna()\n",
    "print(madonna_df)"
   ]
  },
  {
   "cell_type": "markdown",
   "metadata": {},
   "source": [
    "### Format Time Series Date Field"
   ]
  },
  {
   "cell_type": "code",
   "execution_count": 11,
   "metadata": {},
   "outputs": [
    {
     "name": "stdout",
     "output_type": "stream",
     "text": [
      "1167    03/13/2015\n",
      "1168    03/14/2015\n",
      "1169    03/15/2015\n",
      "1170    03/16/2015\n",
      "1171    03/17/2015\n",
      "           ...    \n",
      "2529    12/04/2018\n",
      "2530    12/05/2018\n",
      "2531    12/06/2018\n",
      "2532    12/07/2018\n",
      "2533    12/08/2018\n",
      "Name: formatted_date, Length: 879, dtype: object\n"
     ]
    }
   ],
   "source": [
    "from datetime import datetime\n",
    "\n",
    "original_date = madonna_df['Date']\n",
    "parsed_date = original_date.apply(lambda x: datetime.strptime(x, \"%d/%m/%Y\"))\n",
    "\n",
    "# Format to mm/dd/yyyy\n",
    "madonna_df['formatted_date'] = pd.to_datetime(madonna_df['Date'], format=\"%d/%m/%Y\").dt.strftime(\"%m/%d/%Y\")\n",
    "\n",
    "print(madonna_df['formatted_date'])\n"
   ]
  },
  {
   "cell_type": "code",
   "execution_count": 12,
   "metadata": {},
   "outputs": [
    {
     "data": {
      "text/html": [
       "<div>\n",
       "<style scoped>\n",
       "    .dataframe tbody tr th:only-of-type {\n",
       "        vertical-align: middle;\n",
       "    }\n",
       "\n",
       "    .dataframe tbody tr th {\n",
       "        vertical-align: top;\n",
       "    }\n",
       "\n",
       "    .dataframe thead th {\n",
       "        text-align: right;\n",
       "    }\n",
       "</style>\n",
       "<table border=\"1\" class=\"dataframe\">\n",
       "  <thead>\n",
       "    <tr style=\"text-align: right;\">\n",
       "      <th></th>\n",
       "      <th>Rainfall_Settefrati</th>\n",
       "      <th>Temperature_Settefrati</th>\n",
       "      <th>Flow_Rate_Madonna_di_Canneto</th>\n",
       "    </tr>\n",
       "    <tr>\n",
       "      <th>formatted_date</th>\n",
       "      <th></th>\n",
       "      <th></th>\n",
       "      <th></th>\n",
       "    </tr>\n",
       "  </thead>\n",
       "  <tbody>\n",
       "    <tr>\n",
       "      <th>03/13/2015</th>\n",
       "      <td>0.0</td>\n",
       "      <td>5.70</td>\n",
       "      <td>255.956525</td>\n",
       "    </tr>\n",
       "    <tr>\n",
       "      <th>03/14/2015</th>\n",
       "      <td>5.8</td>\n",
       "      <td>7.10</td>\n",
       "      <td>289.545561</td>\n",
       "    </tr>\n",
       "    <tr>\n",
       "      <th>03/15/2015</th>\n",
       "      <td>7.4</td>\n",
       "      <td>4.90</td>\n",
       "      <td>289.918615</td>\n",
       "    </tr>\n",
       "    <tr>\n",
       "      <th>03/16/2015</th>\n",
       "      <td>8.6</td>\n",
       "      <td>7.50</td>\n",
       "      <td>290.082896</td>\n",
       "    </tr>\n",
       "    <tr>\n",
       "      <th>03/17/2015</th>\n",
       "      <td>7.6</td>\n",
       "      <td>7.55</td>\n",
       "      <td>290.688777</td>\n",
       "    </tr>\n",
       "  </tbody>\n",
       "</table>\n",
       "</div>"
      ],
      "text/plain": [
       "                Rainfall_Settefrati  Temperature_Settefrati  \\\n",
       "formatted_date                                                \n",
       "03/13/2015                      0.0                    5.70   \n",
       "03/14/2015                      5.8                    7.10   \n",
       "03/15/2015                      7.4                    4.90   \n",
       "03/16/2015                      8.6                    7.50   \n",
       "03/17/2015                      7.6                    7.55   \n",
       "\n",
       "                Flow_Rate_Madonna_di_Canneto  \n",
       "formatted_date                                \n",
       "03/13/2015                        255.956525  \n",
       "03/14/2015                        289.545561  \n",
       "03/15/2015                        289.918615  \n",
       "03/16/2015                        290.082896  \n",
       "03/17/2015                        290.688777  "
      ]
     },
     "execution_count": 12,
     "metadata": {},
     "output_type": "execute_result"
    }
   ],
   "source": [
    "madonna_df = madonna_df.set_index('formatted_date')\n",
    "madonna_df = madonna_df.drop(columns=['Date'])\n",
    "madonna_df.head()"
   ]
  },
  {
   "cell_type": "code",
   "execution_count": 13,
   "metadata": {},
   "outputs": [
    {
     "data": {
      "text/plain": [
       "Index(['Rainfall_Settefrati', 'Temperature_Settefrati',\n",
       "       'Flow_Rate_Madonna_di_Canneto'],\n",
       "      dtype='object')"
      ]
     },
     "execution_count": 13,
     "metadata": {},
     "output_type": "execute_result"
    }
   ],
   "source": [
    "madonna_df.columns"
   ]
  },
  {
   "cell_type": "markdown",
   "metadata": {},
   "source": [
    "## Multivariate Analysis - LSTM "
   ]
  },
  {
   "cell_type": "markdown",
   "metadata": {},
   "source": [
    "### Min Max Scaling"
   ]
  },
  {
   "cell_type": "markdown",
   "metadata": {},
   "source": [
    "#### Function to Min Max scale multiple features"
   ]
  },
  {
   "cell_type": "code",
   "execution_count": 14,
   "metadata": {},
   "outputs": [],
   "source": [
    "target_columns = ['Flow_Rate_Madonna_di_Canneto']\n",
    "feature_columns = madonna_df.drop(columns=target_columns).columns.tolist()\n",
    "\n",
    "#target_columns.dtypes"
   ]
  },
  {
   "cell_type": "code",
   "execution_count": 15,
   "metadata": {},
   "outputs": [
    {
     "name": "stdout",
     "output_type": "stream",
     "text": [
      "MinMaxScaler()\n"
     ]
    }
   ],
   "source": [
    "# Ensure X is defined\n",
    "\n",
    "def prepare_feature_data(df, feature_columns, target_columns, lookback=30):\n",
    "    \"\"\"\n",
    "    Prepare multi-feature sequences for LSTM model\n",
    "    \"\"\"\n",
    "    \n",
    "    X, y = [], []\n",
    "    # Scale the features\n",
    "    scaler_features = MinMaxScaler()\n",
    "    scaled_features = scaler_features.fit_transform(df[feature_columns])\n",
    "    \n",
    "    # Scale the target separately\n",
    "    scaler_target = MinMaxScaler()\n",
    "    scaled_target = scaler_target.fit_transform(df[target_columns])\n",
    "    \n",
    "    for i in range(len(df) - lookback):\n",
    "        # Features: take all feature columns for the lookback period\n",
    "        X.append(scaled_features[i:(i + lookback)])\n",
    "        # Targets: take all target columns for the prediction point\n",
    "        y.append(scaled_target[(i + lookback)])\n",
    "    \n",
    "    return X, y, scaler_features, scaler_target\n",
    "\n",
    "# Call the function with debugging\n",
    "try:\n",
    "    X, y, scaler_features, scaler_target = prepare_feature_data(madonna_df, feature_columns, target_columns, lookback=30)\n",
    "    print(scaler_target)\n",
    "except ValueError as e:\n",
    "    print(\"ValueError encountered:\", e)\n",
    "    # print(\"madonna_df shape:\", madonna_df.shape)\n",
    "    # print(\"feature_columns:\", feature_columns)\n",
    "    # print(\"target_columns:\", target_columns)\n",
    "    # print(\"lookback:\", 7)\n",
    "\n",
    "\n",
    "\n"
   ]
  },
  {
   "cell_type": "markdown",
   "metadata": {},
   "source": [
    "#### Define Test Train Split Myself <br>"
   ]
  },
  {
   "cell_type": "code",
   "execution_count": 16,
   "metadata": {},
   "outputs": [
    {
     "name": "stdout",
     "output_type": "stream",
     "text": [
      "Train size: 679, Test size: 170\n"
     ]
    }
   ],
   "source": [
    "train_size = int(len(X) * 0.8)\n",
    "X_train, X_test = X[:train_size], X[train_size:]\n",
    "y_train, y_test = y[:train_size], y[train_size:]\n",
    "test_size = len(X) - train_size\n",
    "print(f\"Train size: {len(X_train)}, Test size: {len(X_test)}\")\n",
    "#print(y_train)\n"
   ]
  },
  {
   "cell_type": "markdown",
   "metadata": {},
   "source": [
    "### LSTM Model Multi-Target"
   ]
  },
  {
   "cell_type": "code",
   "execution_count": 17,
   "metadata": {},
   "outputs": [
    {
     "name": "stderr",
     "output_type": "stream",
     "text": [
      "/usr/local/python/3.12.1/lib/python3.12/site-packages/keras/src/layers/rnn/rnn.py:204: UserWarning: Do not pass an `input_shape`/`input_dim` argument to a layer. When using Sequential models, prefer using an `Input(shape)` object as the first layer in the model instead.\n",
      "  super().__init__(**kwargs)\n"
     ]
    }
   ],
   "source": [
    "from tensorflow.keras.layers import Bidirectional\n",
    "\n",
    "n_features = len(feature_columns)\n",
    "\n",
    "model = Sequential([\n",
    "    # Increase capacity for better pattern recognition\n",
    "    Bidirectional(LSTM(128, return_sequences=True, input_shape=(30, n_features))),\n",
    "    Dropout(0.3),\n",
    "    \n",
    "    Bidirectional(LSTM(64, return_sequences=True)),\n",
    "    Dropout(0.3),\n",
    "    \n",
    "    Bidirectional(LSTM(32)),\n",
    "    Dropout(0.3),\n",
    "    \n",
    "    Dense(32, activation='relu'),\n",
    "    Dense(1)\n",
    "])\n",
    "\n",
    "# Use Huber loss to handle outliers better\n",
    "model.compile(optimizer=Adam(learning_rate=0.001), loss='huber')"
   ]
  },
  {
   "cell_type": "markdown",
   "metadata": {},
   "source": [
    "#### Define Early Stopping to precvent Overfitting "
   ]
  },
  {
   "cell_type": "code",
   "execution_count": 18,
   "metadata": {},
   "outputs": [],
   "source": [
    "# Define early stopping\n",
    "early_stopping = EarlyStopping(\n",
    "    monitor='val_loss',  # Monitor the validation loss\n",
    "    patience=5,          # Number of epochs with no improvement before stopping\n",
    "    restore_best_weights=True  # Restore model weights from the epoch with the best value of the monitored quantity\n",
    ")\n",
    "\n"
   ]
  },
  {
   "cell_type": "code",
   "execution_count": 19,
   "metadata": {},
   "outputs": [
    {
     "name": "stdout",
     "output_type": "stream",
     "text": [
      "X_train shape: (679, 30, 2)\n",
      "y_train shape: (679, 1)\n"
     ]
    },
    {
     "name": "stdout",
     "output_type": "stream",
     "text": [
      "Epoch 1/100\n",
      "\u001b[1m17/17\u001b[0m \u001b[32m━━━━━━━━━━━━━━━━━━━━\u001b[0m\u001b[37m\u001b[0m \u001b[1m11s\u001b[0m 179ms/step - loss: 0.1633 - val_loss: 0.0949\n",
      "Epoch 2/100\n",
      "\u001b[1m17/17\u001b[0m \u001b[32m━━━━━━━━━━━━━━━━━━━━\u001b[0m\u001b[37m\u001b[0m \u001b[1m4s\u001b[0m 129ms/step - loss: 0.0171 - val_loss: 0.1024\n",
      "Epoch 3/100\n",
      "\u001b[1m17/17\u001b[0m \u001b[32m━━━━━━━━━━━━━━━━━━━━\u001b[0m\u001b[37m\u001b[0m \u001b[1m2s\u001b[0m 96ms/step - loss: 0.0139 - val_loss: 0.0776\n",
      "Epoch 4/100\n",
      "\u001b[1m17/17\u001b[0m \u001b[32m━━━━━━━━━━━━━━━━━━━━\u001b[0m\u001b[37m\u001b[0m \u001b[1m3s\u001b[0m 107ms/step - loss: 0.0149 - val_loss: 0.0841\n",
      "Epoch 5/100\n",
      "\u001b[1m17/17\u001b[0m \u001b[32m━━━━━━━━━━━━━━━━━━━━\u001b[0m\u001b[37m\u001b[0m \u001b[1m2s\u001b[0m 104ms/step - loss: 0.0095 - val_loss: 0.0856\n",
      "Epoch 6/100\n",
      "\u001b[1m17/17\u001b[0m \u001b[32m━━━━━━━━━━━━━━━━━━━━\u001b[0m\u001b[37m\u001b[0m \u001b[1m2s\u001b[0m 100ms/step - loss: 0.0107 - val_loss: 0.0839\n",
      "Epoch 7/100\n",
      "\u001b[1m17/17\u001b[0m \u001b[32m━━━━━━━━━━━━━━━━━━━━\u001b[0m\u001b[37m\u001b[0m \u001b[1m3s\u001b[0m 103ms/step - loss: 0.0128 - val_loss: 0.0952\n",
      "Epoch 8/100\n",
      "\u001b[1m17/17\u001b[0m \u001b[32m━━━━━━━━━━━━━━━━━━━━\u001b[0m\u001b[37m\u001b[0m \u001b[1m3s\u001b[0m 115ms/step - loss: 0.0089 - val_loss: 0.0962\n"
     ]
    }
   ],
   "source": [
    "import numpy as np\n",
    "\n",
    "# Convert to numpy arrays\n",
    "X_train = np.array(X_train)\n",
    "y_train = np.array(y_train)\n",
    "X_test = np.array(X_test)\n",
    "\n",
    "# Ensure the shapes are compatible\n",
    "print(f\"X_train shape: {X_train.shape}\")\n",
    "print(f\"y_train shape: {y_train.shape}\")\n",
    "\n",
    "# Train the model with early stopping\n",
    "history = model.fit(\n",
    "    X_train, y_train,\n",
    "    validation_split=0.2,  # Use 20% of the training data for validation\n",
    "    epochs=100,            # Set a high number of epochs; early stopping will stop it earlier if needed\n",
    "    batch_size=32,         # Adjust batch size based on your dataset size\n",
    "    callbacks=[early_stopping],\n",
    "    verbose=1              # Print training progress\n",
    ")"
   ]
  },
  {
   "cell_type": "markdown",
   "metadata": {},
   "source": [
    "### Model Predictions\n",
    "We train the model on the train data and the test data to see how well <br>\n",
    "we are predicting the training and testing data"
   ]
  },
  {
   "cell_type": "code",
   "execution_count": 20,
   "metadata": {},
   "outputs": [
    {
     "name": "stdout",
     "output_type": "stream",
     "text": [
      "\u001b[1m22/22\u001b[0m \u001b[32m━━━━━━━━━━━━━━━━━━━━\u001b[0m\u001b[37m\u001b[0m \u001b[1m2s\u001b[0m 53ms/step\n",
      "\u001b[1m6/6\u001b[0m \u001b[32m━━━━━━━━━━━━━━━━━━━━\u001b[0m\u001b[37m\u001b[0m \u001b[1m0s\u001b[0m 26ms/step\n",
      "[[0.7385633 ]\n",
      " [0.7394824 ]\n",
      " [0.7383305 ]\n",
      " [0.7382401 ]\n",
      " [0.7385868 ]\n",
      " [0.7389375 ]\n",
      " [0.73916334]\n",
      " [0.7395384 ]\n",
      " [0.7396872 ]\n",
      " [0.7397466 ]\n",
      " [0.7400203 ]\n",
      " [0.7400873 ]\n",
      " [0.7403972 ]\n",
      " [0.7409439 ]\n",
      " [0.7401388 ]\n",
      " [0.7396589 ]\n",
      " [0.7394229 ]\n",
      " [0.73935306]\n",
      " [0.73812723]\n",
      " [0.7383741 ]\n",
      " [0.7388979 ]\n",
      " [0.7400784 ]\n",
      " [0.74144995]\n",
      " [0.7424561 ]\n",
      " [0.7433107 ]\n",
      " [0.74370015]\n",
      " [0.74383295]\n",
      " [0.74382097]\n",
      " [0.7440481 ]\n",
      " [0.7443627 ]\n",
      " [0.74310935]\n",
      " [0.7435838 ]\n",
      " [0.74410033]\n",
      " [0.74455214]\n",
      " [0.74482405]\n",
      " [0.74505067]\n",
      " [0.7451681 ]\n",
      " [0.74517155]\n",
      " [0.7451716 ]\n",
      " [0.7454361 ]\n",
      " [0.7452749 ]\n",
      " [0.74456346]\n",
      " [0.74372184]\n",
      " [0.74293303]\n",
      " [0.7425676 ]\n",
      " [0.7423691 ]\n",
      " [0.74221206]\n",
      " [0.74218774]\n",
      " [0.74220854]\n",
      " [0.7421472 ]\n",
      " [0.7421843 ]\n",
      " [0.74240863]\n",
      " [0.74262476]\n",
      " [0.7422432 ]\n",
      " [0.74192834]\n",
      " [0.74159217]\n",
      " [0.74162906]\n",
      " [0.74155307]\n",
      " [0.7412046 ]\n",
      " [0.7406944 ]\n",
      " [0.7403464 ]\n",
      " [0.74028516]\n",
      " [0.7391658 ]\n",
      " [0.73792136]\n",
      " [0.73671544]\n",
      " [0.7357737 ]\n",
      " [0.73470336]\n",
      " [0.73331386]\n",
      " [0.7330537 ]\n",
      " [0.73479724]\n",
      " [0.7365134 ]\n",
      " [0.7382542 ]\n",
      " [0.74083185]\n",
      " [0.7429703 ]\n",
      " [0.7450503 ]\n",
      " [0.747022  ]\n",
      " [0.7487668 ]\n",
      " [0.74991333]\n",
      " [0.7510053 ]\n",
      " [0.752633  ]\n",
      " [0.75478625]\n",
      " [0.7566661 ]\n",
      " [0.75797015]\n",
      " [0.7591678 ]\n",
      " [0.7606187 ]\n",
      " [0.7618626 ]\n",
      " [0.7633276 ]\n",
      " [0.76493144]\n",
      " [0.765874  ]\n",
      " [0.76656604]\n",
      " [0.76733387]\n",
      " [0.7685865 ]\n",
      " [0.7685476 ]\n",
      " [0.7682362 ]\n",
      " [0.7676866 ]\n",
      " [0.76706564]\n",
      " [0.76680243]\n",
      " [0.7665915 ]\n",
      " [0.767233  ]\n",
      " [0.7680888 ]\n",
      " [0.76824284]\n",
      " [0.76795125]\n",
      " [0.76757824]\n",
      " [0.7675208 ]\n",
      " [0.76770264]\n",
      " [0.76788723]\n",
      " [0.7682312 ]\n",
      " [0.76840305]\n",
      " [0.76844406]\n",
      " [0.76848745]\n",
      " [0.76849294]\n",
      " [0.7687138 ]\n",
      " [0.768205  ]\n",
      " [0.7674246 ]\n",
      " [0.7671071 ]\n",
      " [0.76653534]\n",
      " [0.76624775]\n",
      " [0.7651949 ]\n",
      " [0.76460505]\n",
      " [0.7638956 ]\n",
      " [0.7631376 ]\n",
      " [0.76232386]\n",
      " [0.76184803]\n",
      " [0.7610564 ]\n",
      " [0.7604519 ]\n",
      " [0.7598306 ]\n",
      " [0.7589685 ]\n",
      " [0.7582561 ]\n",
      " [0.7585107 ]\n",
      " [0.75943065]\n",
      " [0.75996625]\n",
      " [0.76054144]\n",
      " [0.7610708 ]\n",
      " [0.76189005]\n",
      " [0.7622941 ]\n",
      " [0.76276195]\n",
      " [0.76281774]\n",
      " [0.76230335]\n",
      " [0.76185477]\n",
      " [0.7612442 ]\n",
      " [0.7611936 ]\n",
      " [0.7608019 ]\n",
      " [0.76021016]\n",
      " [0.75960183]\n",
      " [0.7590382 ]\n",
      " [0.7584983 ]\n",
      " [0.7580522 ]\n",
      " [0.75758123]\n",
      " [0.757192  ]\n",
      " [0.7566229 ]\n",
      " [0.7562508 ]\n",
      " [0.7559236 ]\n",
      " [0.75558305]\n",
      " [0.7556913 ]\n",
      " [0.75579923]\n",
      " [0.75675184]\n",
      " [0.75740814]\n",
      " [0.7580679 ]\n",
      " [0.7588001 ]\n",
      " [0.759225  ]\n",
      " [0.7581148 ]\n",
      " [0.7552867 ]\n",
      " [0.75336945]\n",
      " [0.7525687 ]\n",
      " [0.7517165 ]\n",
      " [0.7510551 ]\n",
      " [0.7501996 ]\n",
      " [0.7497907 ]\n",
      " [0.7495308 ]\n",
      " [0.7493319 ]]\n"
     ]
    }
   ],
   "source": [
    "train_pred = model.predict(X_train)\n",
    "test_pred = model.predict(X_test)\n",
    "\n",
    "print(test_pred)"
   ]
  },
  {
   "cell_type": "markdown",
   "metadata": {},
   "source": [
    "### Convert back to normal scale"
   ]
  },
  {
   "cell_type": "code",
   "execution_count": 21,
   "metadata": {},
   "outputs": [],
   "source": [
    "# Inverse transform predictions\n",
    "train_pred = scaler_target.inverse_transform(train_pred)\n",
    "test_pred = scaler_target.inverse_transform(test_pred)\n",
    "y_train_orig = scaler_target.inverse_transform(y_train)\n",
    "y_test_orig = scaler_target.inverse_transform(y_test)\n",
    "\n"
   ]
  },
  {
   "cell_type": "markdown",
   "metadata": {},
   "source": [
    "### Evaluate Loss"
   ]
  },
  {
   "cell_type": "code",
   "execution_count": 22,
   "metadata": {},
   "outputs": [
    {
     "data": {
      "text/plain": [
       "<matplotlib.legend.Legend at 0x769fce515820>"
      ]
     },
     "execution_count": 22,
     "metadata": {},
     "output_type": "execute_result"
    },
    {
     "data": {
      "image/png": "[encoded data removed]",
      "text/plain": [
       "<Figure size 1200x900 with 1 Axes>"
      ]
     },
     "metadata": {},
     "output_type": "display_data"
    }
   ],
   "source": [
    "import matplotlib.pyplot as plt\n",
    "\n",
    "\n",
    "# Create visualizations\n",
    "plt.figure(figsize=(12, 9))\n",
    "\n",
    "# Plot 1: Training Loss\n",
    "plt.subplot(4, 1, 1)\n",
    "plt.plot(history.history['loss'], label='Training Loss')\n",
    "plt.plot(history.history['val_loss'], label='Validation Loss')\n",
    "plt.title('Model Loss During Training')\n",
    "plt.xlabel('Epoch')\n",
    "plt.ylabel('Loss')\n",
    "plt.legend()"
   ]
  },
  {
   "cell_type": "markdown",
   "metadata": {},
   "source": [
    "## Evaluate Progress"
   ]
  },
  {
   "cell_type": "code",
   "execution_count": 23,
   "metadata": {},
   "outputs": [],
   "source": [
    "def evaluate_regression_lstm(y_true, y_pred):\n",
    "    # R² score (1.0 is perfect prediction)\n",
    "    r2 = r2_score(y_true, y_pred)\n",
    "    \n",
    "    # Mean Absolute Error\n",
    "    mae = mean_absolute_error(y_true, y_pred)\n",
    "    \n",
    "    # Root Mean Squared Error\n",
    "    rmse = np.sqrt(mean_squared_error(y_true, y_pred))\n",
    "    \n",
    "    # Custom accuracy metric for regression (as percentage)\n",
    "    # Using 1 - normalized MAE as a proxy for accuracy\n",
    "    #accuracy = (1 - mae / (y_true.max() - y_true.min())) * 100\n",
    "    \n",
    "    print(\"\\nRegression Metrics:\")\n",
    "    print(f\"R² Score: {r2:.4f}\")\n",
    "    print(f\"MAE: {mae:.4f}\")\n",
    "    print(f\"RMSE: {rmse:.4f}\")\n",
    "    #print(f\"Accuracy (based on normalized MAE): {accuracy:.2f}%\")\n",
    "    \n",
    "    return r2, mae, rmse"
   ]
  },
  {
   "cell_type": "markdown",
   "metadata": {},
   "source": [
    "### Evaluate 3 Targets"
   ]
  },
  {
   "cell_type": "code",
   "execution_count": 24,
   "metadata": {},
   "outputs": [
    {
     "name": "stdout",
     "output_type": "stream",
     "text": [
      "\n",
      "Regression Metrics:\n",
      "R² Score: -0.1141\n",
      "MAE: 15.8198\n",
      "RMSE: 19.3097\n"
     ]
    },
    {
     "data": {
      "text/plain": [
       "(-0.11406705841835563, 15.81978479699219, 19.309664924752205)"
      ]
     },
     "execution_count": 24,
     "metadata": {},
     "output_type": "execute_result"
    }
   ],
   "source": [
    "evaluate_regression_lstm(y_test_orig, test_pred)"
   ]
  },
  {
   "cell_type": "markdown",
   "metadata": {},
   "source": []
  },
  {
   "cell_type": "markdown",
   "metadata": {},
   "source": [
    "## Plot Residuals - Actual vs Predicted"
   ]
  },
  {
   "cell_type": "code",
   "execution_count": 25,
   "metadata": {},
   "outputs": [
    {
     "data": {
      "image/png": "[encoded data removed]",
      "text/plain": [
       "<Figure size 1400x500 with 1 Axes>"
      ]
     },
     "metadata": {},
     "output_type": "display_data"
    }
   ],
   "source": [
    "import matplotlib.pyplot as plt\n",
    "\n",
    "def plot_actual_vs_predicted(y_true, y_pred, title='Actual vs Predicted'):\n",
    "    plt.figure(figsize=(14, 5))\n",
    "    plt.plot(y_true, label='Actual')\n",
    "    plt.plot(y_pred, label='Predicted')\n",
    "    plt.title(title)\n",
    "    plt.xlabel('Time')\n",
    "    plt.ylabel('Value')\n",
    "    plt.legend()\n",
    "    plt.show()\n",
    "\n",
    "# Assuming y_test and test_pred are defined\n",
    "plot_actual_vs_predicted(y_test_orig, test_pred)\n"
   ]
  },
  {
   "cell_type": "code",
   "execution_count": 26,
   "metadata": {},
   "outputs": [
    {
     "data": {
      "image/png": "[encoded data removed]",
      "text/plain": [
       "<Figure size 1400x500 with 1 Axes>"
      ]
     },
     "metadata": {},
     "output_type": "display_data"
    },
    {
     "ename": "",
     "evalue": "",
     "output_type": "error",
     "traceback": [
      "\u001b[1;31mThe Kernel crashed while executing code in the current cell or a previous cell. \n",
      "\u001b[1;31mPlease review the code in the cell(s) to identify a possible cause of the failure. \n",
      "\u001b[1;31mClick <a href='https://aka.ms/vscodeJupyterKernelCrash'>here</a> for more info. \n",
      "\u001b[1;31mView Jupyter <a href='command:jupyter.viewOutput'>log</a> for further details."
     ]
    }
   ],
   "source": [
    "def plot_residuals(y_true, y_pred, title='Residuals'):\n",
    "    residuals = y_true - y_pred\n",
    "    plt.figure(figsize=(14, 5))\n",
    "    plt.plot(residuals, label='Residuals')\n",
    "    plt.title(title)\n",
    "    plt.xlabel('Time')\n",
    "    plt.ylabel('Residual')\n",
    "    plt.legend()\n",
    "    plt.show()\n",
    "    \n",
    "    \n",
    "plot_residuals(y_test_orig, test_pred, title='Residuals')"
   ]
  },
  {
   "cell_type": "markdown",
   "metadata": {},
   "source": [
    "## Find Optimal Learning Rate "
   ]
  },
  {
   "cell_type": "markdown",
   "metadata": {},
   "source": [
    "### Find Optimal Learning Rate "
   ]
  },
  {
   "cell_type": "code",
   "execution_count": null,
   "metadata": {},
   "outputs": [
    {
     "name": "stdout",
     "output_type": "stream",
     "text": [
      "WARNING:tensorflow:5 out of the last 140 calls to <function TensorFlowTrainer.make_train_function.<locals>.one_step_on_iterator at 0x769fd5cad8a0> triggered tf.function retracing. Tracing is expensive and the excessive number of tracings could be due to (1) creating @tf.function repeatedly in a loop, (2) passing tensors with different shapes, (3) passing Python objects instead of tensors. For (1), please define your @tf.function outside of the loop. For (2), @tf.function has reduce_retracing=True option that can avoid unnecessary retracing. For (3), please refer to https://www.tensorflow.org/guide/function#controlling_retracing and https://www.tensorflow.org/api_docs/python/tf/function for  more details.\n",
      "WARNING:tensorflow:6 out of the last 141 calls to <function TensorFlowTrainer.make_train_function.<locals>.one_step_on_iterator at 0x769fd5cad8a0> triggered tf.function retracing. Tracing is expensive and the excessive number of tracings could be due to (1) creating @tf.function repeatedly in a loop, (2) passing tensors with different shapes, (3) passing Python objects instead of tensors. For (1), please define your @tf.function outside of the loop. For (2), @tf.function has reduce_retracing=True option that can avoid unnecessary retracing. For (3), please refer to https://www.tensorflow.org/guide/function#controlling_retracing and https://www.tensorflow.org/api_docs/python/tf/function for  more details.\n"
     ]
    }
   ],
   "source": [
    "def find_optimal_lr(model, X_train, y_train):\n",
    "    lr_schedule = np.logspace(-4, -2, 100)  # Test from 0.0001 to 0.01\n",
    "    losses = []\n",
    "    \n",
    "    for lr in lr_schedule:\n",
    "        model.optimizer.learning_rate.assign(lr)\n",
    "        loss = model.train_on_batch(X_train[:32], y_train[:32])\n",
    "        losses.append(loss)\n",
    "        \n",
    "    best_lr = lr_schedule[np.argmin(losses)]\n",
    "    return best_lr\n",
    "\n",
    "find_optimal_lr(model, X_train, y_train)"
   ]
  },
  {
   "cell_type": "code",
   "execution_count": null,
   "metadata": {},
   "outputs": [],
   "source": []
  }
 ],
 "metadata": {
  "kernelspec": {
   "display_name": "Python 3",
   "language": "python",
   "name": "python3"
  },
  "language_info": {
   "codemirror_mode": {
    "name": "ipython",
    "version": 3
   },
   "file_extension": ".py",
   "mimetype": "text/x-python",
   "name": "python",
   "nbconvert_exporter": "python",
   "pygments_lexer": "ipython3",
   "version": "3.12.1"
  }
 },
 "nbformat": 4,
 "nbformat_minor": 2
}
